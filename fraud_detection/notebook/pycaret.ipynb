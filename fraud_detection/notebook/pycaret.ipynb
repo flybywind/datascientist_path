{
 "cells": [
  {
   "cell_type": "markdown",
   "metadata": {},
   "source": [
    "# load fraud dataset"
   ]
  },
  {
   "cell_type": "code",
   "execution_count": 13,
   "metadata": {},
   "outputs": [],
   "source": [
    "import pandas as pd\n",
    "from sklearn.metrics import fbeta_score\n",
    "from pycaret.anomaly import AnomalyExperiment"
   ]
  },
  {
   "cell_type": "code",
   "execution_count": 16,
   "metadata": {},
   "outputs": [],
   "source": [
    "transaction_data = pd.read_csv(r\"../Data/credit_card_transactional_data.csv\")\n",
    "X_data0 = transaction_data.drop([\"Class\", \"Timestamp\"], axis=1)\n",
    "X_data = X_data0.fillna(X_data0.min()*2)\n",
    "Y_true = transaction_data['Class']\n"
   ]
  },
  {
   "cell_type": "code",
   "execution_count": 22,
   "metadata": {},
   "outputs": [
    {
     "data": {
      "text/html": [
       "<div>\n",
       "<style scoped>\n",
       "    .dataframe tbody tr th:only-of-type {\n",
       "        vertical-align: middle;\n",
       "    }\n",
       "\n",
       "    .dataframe tbody tr th {\n",
       "        vertical-align: top;\n",
       "    }\n",
       "\n",
       "    .dataframe thead th {\n",
       "        text-align: right;\n",
       "    }\n",
       "</style>\n",
       "<table border=\"1\" class=\"dataframe\">\n",
       "  <thead>\n",
       "    <tr style=\"text-align: right;\">\n",
       "      <th></th>\n",
       "      <th>Value</th>\n",
       "      <th>C1</th>\n",
       "      <th>C2</th>\n",
       "      <th>C3</th>\n",
       "      <th>C4</th>\n",
       "      <th>C5</th>\n",
       "      <th>C6</th>\n",
       "      <th>C7</th>\n",
       "      <th>C8</th>\n",
       "      <th>C9</th>\n",
       "      <th>C10</th>\n",
       "      <th>C11</th>\n",
       "      <th>C12</th>\n",
       "    </tr>\n",
       "  </thead>\n",
       "  <tbody>\n",
       "    <tr>\n",
       "      <th>count</th>\n",
       "      <td>1.400000e+05</td>\n",
       "      <td>1.162320e+05</td>\n",
       "      <td>1.297310e+05</td>\n",
       "      <td>1.296930e+05</td>\n",
       "      <td>1.400000e+05</td>\n",
       "      <td>1.296780e+05</td>\n",
       "      <td>1.165290e+05</td>\n",
       "      <td>1.255950e+05</td>\n",
       "      <td>1.296450e+05</td>\n",
       "      <td>1.400000e+05</td>\n",
       "      <td>1.298910e+05</td>\n",
       "      <td>1.256950e+05</td>\n",
       "      <td>1.258330e+05</td>\n",
       "    </tr>\n",
       "    <tr>\n",
       "      <th>mean</th>\n",
       "      <td>2.806644e-17</td>\n",
       "      <td>3.224682e-18</td>\n",
       "      <td>3.464232e-18</td>\n",
       "      <td>9.142500e-18</td>\n",
       "      <td>6.800909e-18</td>\n",
       "      <td>-4.397126e-18</td>\n",
       "      <td>5.548781e-18</td>\n",
       "      <td>-2.333683e-18</td>\n",
       "      <td>-7.590742e-18</td>\n",
       "      <td>-9.668457e-18</td>\n",
       "      <td>2.524543e-17</td>\n",
       "      <td>2.444884e-18</td>\n",
       "      <td>3.515078e-18</td>\n",
       "    </tr>\n",
       "    <tr>\n",
       "      <th>std</th>\n",
       "      <td>5.000000e-01</td>\n",
       "      <td>5.000000e-01</td>\n",
       "      <td>5.000000e-01</td>\n",
       "      <td>5.000000e-01</td>\n",
       "      <td>5.000000e-01</td>\n",
       "      <td>5.000000e-01</td>\n",
       "      <td>5.000000e-01</td>\n",
       "      <td>5.000000e-01</td>\n",
       "      <td>5.000000e-01</td>\n",
       "      <td>5.000000e-01</td>\n",
       "      <td>5.000000e-01</td>\n",
       "      <td>5.000000e-01</td>\n",
       "      <td>5.000000e-01</td>\n",
       "    </tr>\n",
       "    <tr>\n",
       "      <th>min</th>\n",
       "      <td>-1.674114e-01</td>\n",
       "      <td>-4.421979e+00</td>\n",
       "      <td>-3.333300e+00</td>\n",
       "      <td>-3.243669e+00</td>\n",
       "      <td>-3.369972e+00</td>\n",
       "      <td>-3.358682e+00</td>\n",
       "      <td>-4.301790e+00</td>\n",
       "      <td>-4.216160e+00</td>\n",
       "      <td>-3.307891e+00</td>\n",
       "      <td>-3.581577e+00</td>\n",
       "      <td>-3.297764e+00</td>\n",
       "      <td>-4.177392e+00</td>\n",
       "      <td>-4.195831e+00</td>\n",
       "    </tr>\n",
       "    <tr>\n",
       "      <th>25%</th>\n",
       "      <td>-1.570517e-01</td>\n",
       "      <td>1.609133e-02</td>\n",
       "      <td>1.069386e-01</td>\n",
       "      <td>4.593905e-02</td>\n",
       "      <td>-2.816747e-01</td>\n",
       "      <td>1.063125e-01</td>\n",
       "      <td>2.714180e-02</td>\n",
       "      <td>3.113344e-02</td>\n",
       "      <td>1.095949e-01</td>\n",
       "      <td>-3.331311e-01</td>\n",
       "      <td>1.057529e-01</td>\n",
       "      <td>3.207571e-02</td>\n",
       "      <td>3.149296e-02</td>\n",
       "    </tr>\n",
       "    <tr>\n",
       "      <th>50%</th>\n",
       "      <td>-1.260100e-01</td>\n",
       "      <td>2.760006e-02</td>\n",
       "      <td>1.086144e-01</td>\n",
       "      <td>9.654401e-02</td>\n",
       "      <td>-2.795810e-03</td>\n",
       "      <td>1.077438e-01</td>\n",
       "      <td>3.023727e-02</td>\n",
       "      <td>3.141212e-02</td>\n",
       "      <td>1.097875e-01</td>\n",
       "      <td>8.375531e-03</td>\n",
       "      <td>1.088012e-01</td>\n",
       "      <td>3.261865e-02</td>\n",
       "      <td>3.276977e-02</td>\n",
       "    </tr>\n",
       "    <tr>\n",
       "      <th>75%</th>\n",
       "      <td>-2.255815e-02</td>\n",
       "      <td>4.165575e-02</td>\n",
       "      <td>1.102683e-01</td>\n",
       "      <td>1.513540e-01</td>\n",
       "      <td>2.812300e-01</td>\n",
       "      <td>1.091671e-01</td>\n",
       "      <td>3.199692e-02</td>\n",
       "      <td>3.159645e-02</td>\n",
       "      <td>1.099776e-01</td>\n",
       "      <td>3.262802e-01</td>\n",
       "      <td>1.114565e-01</td>\n",
       "      <td>3.313389e-02</td>\n",
       "      <td>3.382672e-02</td>\n",
       "    </tr>\n",
       "    <tr>\n",
       "      <th>max</th>\n",
       "      <td>4.822437e+01</td>\n",
       "      <td>4.482744e+00</td>\n",
       "      <td>7.971585e-01</td>\n",
       "      <td>1.424831e+00</td>\n",
       "      <td>4.417145e+00</td>\n",
       "      <td>8.010215e-01</td>\n",
       "      <td>4.358886e+00</td>\n",
       "      <td>4.276762e+00</td>\n",
       "      <td>7.933694e-01</td>\n",
       "      <td>1.990531e+00</td>\n",
       "      <td>7.906246e-01</td>\n",
       "      <td>4.246927e+00</td>\n",
       "      <td>4.259225e+00</td>\n",
       "    </tr>\n",
       "  </tbody>\n",
       "</table>\n",
       "</div>"
      ],
      "text/plain": [
       "              Value            C1            C2            C3            C4  \\\n",
       "count  1.400000e+05  1.162320e+05  1.297310e+05  1.296930e+05  1.400000e+05   \n",
       "mean   2.806644e-17  3.224682e-18  3.464232e-18  9.142500e-18  6.800909e-18   \n",
       "std    5.000000e-01  5.000000e-01  5.000000e-01  5.000000e-01  5.000000e-01   \n",
       "min   -1.674114e-01 -4.421979e+00 -3.333300e+00 -3.243669e+00 -3.369972e+00   \n",
       "25%   -1.570517e-01  1.609133e-02  1.069386e-01  4.593905e-02 -2.816747e-01   \n",
       "50%   -1.260100e-01  2.760006e-02  1.086144e-01  9.654401e-02 -2.795810e-03   \n",
       "75%   -2.255815e-02  4.165575e-02  1.102683e-01  1.513540e-01  2.812300e-01   \n",
       "max    4.822437e+01  4.482744e+00  7.971585e-01  1.424831e+00  4.417145e+00   \n",
       "\n",
       "                 C5            C6            C7            C8            C9  \\\n",
       "count  1.296780e+05  1.165290e+05  1.255950e+05  1.296450e+05  1.400000e+05   \n",
       "mean  -4.397126e-18  5.548781e-18 -2.333683e-18 -7.590742e-18 -9.668457e-18   \n",
       "std    5.000000e-01  5.000000e-01  5.000000e-01  5.000000e-01  5.000000e-01   \n",
       "min   -3.358682e+00 -4.301790e+00 -4.216160e+00 -3.307891e+00 -3.581577e+00   \n",
       "25%    1.063125e-01  2.714180e-02  3.113344e-02  1.095949e-01 -3.331311e-01   \n",
       "50%    1.077438e-01  3.023727e-02  3.141212e-02  1.097875e-01  8.375531e-03   \n",
       "75%    1.091671e-01  3.199692e-02  3.159645e-02  1.099776e-01  3.262802e-01   \n",
       "max    8.010215e-01  4.358886e+00  4.276762e+00  7.933694e-01  1.990531e+00   \n",
       "\n",
       "                C10           C11           C12  \n",
       "count  1.298910e+05  1.256950e+05  1.258330e+05  \n",
       "mean   2.524543e-17  2.444884e-18  3.515078e-18  \n",
       "std    5.000000e-01  5.000000e-01  5.000000e-01  \n",
       "min   -3.297764e+00 -4.177392e+00 -4.195831e+00  \n",
       "25%    1.057529e-01  3.207571e-02  3.149296e-02  \n",
       "50%    1.088012e-01  3.261865e-02  3.276977e-02  \n",
       "75%    1.114565e-01  3.313389e-02  3.382672e-02  \n",
       "max    7.906246e-01  4.246927e+00  4.259225e+00  "
      ]
     },
     "execution_count": 22,
     "metadata": {},
     "output_type": "execute_result"
    }
   ],
   "source": [
    "norm_data = (X_data0 - X_data0.mean()) /2/X_data0.std()\n",
    "norm_data.describe()"
   ]
  },
  {
   "cell_type": "code",
   "execution_count": 24,
   "metadata": {},
   "outputs": [
    {
     "data": {
      "text/html": [
       "<div>\n",
       "<style scoped>\n",
       "    .dataframe tbody tr th:only-of-type {\n",
       "        vertical-align: middle;\n",
       "    }\n",
       "\n",
       "    .dataframe tbody tr th {\n",
       "        vertical-align: top;\n",
       "    }\n",
       "\n",
       "    .dataframe thead th {\n",
       "        text-align: right;\n",
       "    }\n",
       "</style>\n",
       "<table border=\"1\" class=\"dataframe\">\n",
       "  <thead>\n",
       "    <tr style=\"text-align: right;\">\n",
       "      <th></th>\n",
       "      <th>Value</th>\n",
       "      <th>C1</th>\n",
       "      <th>C2</th>\n",
       "      <th>C3</th>\n",
       "      <th>C4</th>\n",
       "      <th>C5</th>\n",
       "      <th>C6</th>\n",
       "      <th>C7</th>\n",
       "      <th>C8</th>\n",
       "      <th>C9</th>\n",
       "      <th>C10</th>\n",
       "      <th>C11</th>\n",
       "      <th>C12</th>\n",
       "    </tr>\n",
       "  </thead>\n",
       "  <tbody>\n",
       "    <tr>\n",
       "      <th>count</th>\n",
       "      <td>1.400000e+05</td>\n",
       "      <td>140000.000000</td>\n",
       "      <td>140000.000000</td>\n",
       "      <td>140000.000000</td>\n",
       "      <td>1.400000e+05</td>\n",
       "      <td>140000.000000</td>\n",
       "      <td>140000.000000</td>\n",
       "      <td>140000.000000</td>\n",
       "      <td>140000.000000</td>\n",
       "      <td>1.400000e+05</td>\n",
       "      <td>140000.000000</td>\n",
       "      <td>140000.000000</td>\n",
       "      <td>140000.000000</td>\n",
       "    </tr>\n",
       "    <tr>\n",
       "      <th>mean</th>\n",
       "      <td>2.806644e-17</td>\n",
       "      <td>-1.501451</td>\n",
       "      <td>-0.488995</td>\n",
       "      <td>-0.477607</td>\n",
       "      <td>6.800909e-18</td>\n",
       "      <td>-0.495262</td>\n",
       "      <td>-1.442390</td>\n",
       "      <td>-0.867626</td>\n",
       "      <td>-0.489332</td>\n",
       "      <td>-9.668457e-18</td>\n",
       "      <td>-0.476244</td>\n",
       "      <td>-0.853680</td>\n",
       "      <td>-0.849176</td>\n",
       "    </tr>\n",
       "    <tr>\n",
       "      <th>std</th>\n",
       "      <td>5.000000e-01</td>\n",
       "      <td>3.351425</td>\n",
       "      <td>1.803470</td>\n",
       "      <td>1.761223</td>\n",
       "      <td>5.000000e-01</td>\n",
       "      <td>1.820209</td>\n",
       "      <td>3.246135</td>\n",
       "      <td>2.605311</td>\n",
       "      <td>1.797052</td>\n",
       "      <td>5.000000e-01</td>\n",
       "      <td>1.773765</td>\n",
       "      <td>2.574498</td>\n",
       "      <td>2.574810</td>\n",
       "    </tr>\n",
       "    <tr>\n",
       "      <th>min</th>\n",
       "      <td>-1.674114e-01</td>\n",
       "      <td>-8.843958</td>\n",
       "      <td>-6.666600</td>\n",
       "      <td>-6.487339</td>\n",
       "      <td>-3.369972e+00</td>\n",
       "      <td>-6.717365</td>\n",
       "      <td>-8.603579</td>\n",
       "      <td>-8.432320</td>\n",
       "      <td>-6.615782</td>\n",
       "      <td>-3.581577e+00</td>\n",
       "      <td>-6.595528</td>\n",
       "      <td>-8.354783</td>\n",
       "      <td>-8.391663</td>\n",
       "    </tr>\n",
       "    <tr>\n",
       "      <th>25%</th>\n",
       "      <td>-1.570517e-01</td>\n",
       "      <td>-0.127676</td>\n",
       "      <td>0.106383</td>\n",
       "      <td>0.026775</td>\n",
       "      <td>-2.816747e-01</td>\n",
       "      <td>0.105716</td>\n",
       "      <td>-0.117637</td>\n",
       "      <td>0.030841</td>\n",
       "      <td>0.109519</td>\n",
       "      <td>-3.331311e-01</td>\n",
       "      <td>0.105024</td>\n",
       "      <td>0.031878</td>\n",
       "      <td>0.030456</td>\n",
       "    </tr>\n",
       "    <tr>\n",
       "      <th>50%</th>\n",
       "      <td>-1.260100e-01</td>\n",
       "      <td>0.023235</td>\n",
       "      <td>0.108371</td>\n",
       "      <td>0.089256</td>\n",
       "      <td>-2.795810e-03</td>\n",
       "      <td>0.107575</td>\n",
       "      <td>0.029374</td>\n",
       "      <td>0.031364</td>\n",
       "      <td>0.109760</td>\n",
       "      <td>8.375531e-03</td>\n",
       "      <td>0.108495</td>\n",
       "      <td>0.032497</td>\n",
       "      <td>0.032496</td>\n",
       "    </tr>\n",
       "    <tr>\n",
       "      <th>75%</th>\n",
       "      <td>-2.255815e-02</td>\n",
       "      <td>0.037945</td>\n",
       "      <td>0.110149</td>\n",
       "      <td>0.145829</td>\n",
       "      <td>2.812300e-01</td>\n",
       "      <td>0.109042</td>\n",
       "      <td>0.031631</td>\n",
       "      <td>0.031572</td>\n",
       "      <td>0.109959</td>\n",
       "      <td>3.262802e-01</td>\n",
       "      <td>0.111219</td>\n",
       "      <td>0.033068</td>\n",
       "      <td>0.033719</td>\n",
       "    </tr>\n",
       "    <tr>\n",
       "      <th>max</th>\n",
       "      <td>4.822437e+01</td>\n",
       "      <td>4.482744</td>\n",
       "      <td>0.797158</td>\n",
       "      <td>1.424831</td>\n",
       "      <td>4.417145e+00</td>\n",
       "      <td>0.801021</td>\n",
       "      <td>4.358886</td>\n",
       "      <td>4.276762</td>\n",
       "      <td>0.793369</td>\n",
       "      <td>1.990531e+00</td>\n",
       "      <td>0.790625</td>\n",
       "      <td>4.246927</td>\n",
       "      <td>4.259225</td>\n",
       "    </tr>\n",
       "  </tbody>\n",
       "</table>\n",
       "</div>"
      ],
      "text/plain": [
       "              Value             C1             C2             C3  \\\n",
       "count  1.400000e+05  140000.000000  140000.000000  140000.000000   \n",
       "mean   2.806644e-17      -1.501451      -0.488995      -0.477607   \n",
       "std    5.000000e-01       3.351425       1.803470       1.761223   \n",
       "min   -1.674114e-01      -8.843958      -6.666600      -6.487339   \n",
       "25%   -1.570517e-01      -0.127676       0.106383       0.026775   \n",
       "50%   -1.260100e-01       0.023235       0.108371       0.089256   \n",
       "75%   -2.255815e-02       0.037945       0.110149       0.145829   \n",
       "max    4.822437e+01       4.482744       0.797158       1.424831   \n",
       "\n",
       "                 C4             C5             C6             C7  \\\n",
       "count  1.400000e+05  140000.000000  140000.000000  140000.000000   \n",
       "mean   6.800909e-18      -0.495262      -1.442390      -0.867626   \n",
       "std    5.000000e-01       1.820209       3.246135       2.605311   \n",
       "min   -3.369972e+00      -6.717365      -8.603579      -8.432320   \n",
       "25%   -2.816747e-01       0.105716      -0.117637       0.030841   \n",
       "50%   -2.795810e-03       0.107575       0.029374       0.031364   \n",
       "75%    2.812300e-01       0.109042       0.031631       0.031572   \n",
       "max    4.417145e+00       0.801021       4.358886       4.276762   \n",
       "\n",
       "                  C8            C9            C10            C11  \\\n",
       "count  140000.000000  1.400000e+05  140000.000000  140000.000000   \n",
       "mean       -0.489332 -9.668457e-18      -0.476244      -0.853680   \n",
       "std         1.797052  5.000000e-01       1.773765       2.574498   \n",
       "min        -6.615782 -3.581577e+00      -6.595528      -8.354783   \n",
       "25%         0.109519 -3.331311e-01       0.105024       0.031878   \n",
       "50%         0.109760  8.375531e-03       0.108495       0.032497   \n",
       "75%         0.109959  3.262802e-01       0.111219       0.033068   \n",
       "max         0.793369  1.990531e+00       0.790625       4.246927   \n",
       "\n",
       "                 C12  \n",
       "count  140000.000000  \n",
       "mean       -0.849176  \n",
       "std         2.574810  \n",
       "min        -8.391663  \n",
       "25%         0.030456  \n",
       "50%         0.032496  \n",
       "75%         0.033719  \n",
       "max         4.259225  "
      ]
     },
     "execution_count": 24,
     "metadata": {},
     "output_type": "execute_result"
    }
   ],
   "source": [
    "X_data = norm_data.fillna(norm_data.min()*2)\n",
    "X_data.describe()"
   ]
  },
  {
   "cell_type": "code",
   "execution_count": 25,
   "metadata": {},
   "outputs": [
    {
     "data": {
      "text/html": [
       "<style type=\"text/css\">\n",
       "#T_220ec_row4_col1 {\n",
       "  background-color: lightgreen;\n",
       "}\n",
       "</style>\n",
       "<table id=\"T_220ec\">\n",
       "  <thead>\n",
       "    <tr>\n",
       "      <th class=\"blank level0\" >&nbsp;</th>\n",
       "      <th id=\"T_220ec_level0_col0\" class=\"col_heading level0 col0\" >Description</th>\n",
       "      <th id=\"T_220ec_level0_col1\" class=\"col_heading level0 col1\" >Value</th>\n",
       "    </tr>\n",
       "  </thead>\n",
       "  <tbody>\n",
       "    <tr>\n",
       "      <th id=\"T_220ec_level0_row0\" class=\"row_heading level0 row0\" >0</th>\n",
       "      <td id=\"T_220ec_row0_col0\" class=\"data row0 col0\" >Session id</td>\n",
       "      <td id=\"T_220ec_row0_col1\" class=\"data row0 col1\" >4384</td>\n",
       "    </tr>\n",
       "    <tr>\n",
       "      <th id=\"T_220ec_level0_row1\" class=\"row_heading level0 row1\" >1</th>\n",
       "      <td id=\"T_220ec_row1_col0\" class=\"data row1 col0\" >Original data shape</td>\n",
       "      <td id=\"T_220ec_row1_col1\" class=\"data row1 col1\" >(140000, 13)</td>\n",
       "    </tr>\n",
       "    <tr>\n",
       "      <th id=\"T_220ec_level0_row2\" class=\"row_heading level0 row2\" >2</th>\n",
       "      <td id=\"T_220ec_row2_col0\" class=\"data row2 col0\" >Transformed data shape</td>\n",
       "      <td id=\"T_220ec_row2_col1\" class=\"data row2 col1\" >(140000, 13)</td>\n",
       "    </tr>\n",
       "    <tr>\n",
       "      <th id=\"T_220ec_level0_row3\" class=\"row_heading level0 row3\" >3</th>\n",
       "      <td id=\"T_220ec_row3_col0\" class=\"data row3 col0\" >Numeric features</td>\n",
       "      <td id=\"T_220ec_row3_col1\" class=\"data row3 col1\" >13</td>\n",
       "    </tr>\n",
       "    <tr>\n",
       "      <th id=\"T_220ec_level0_row4\" class=\"row_heading level0 row4\" >4</th>\n",
       "      <td id=\"T_220ec_row4_col0\" class=\"data row4 col0\" >Preprocess</td>\n",
       "      <td id=\"T_220ec_row4_col1\" class=\"data row4 col1\" >True</td>\n",
       "    </tr>\n",
       "    <tr>\n",
       "      <th id=\"T_220ec_level0_row5\" class=\"row_heading level0 row5\" >5</th>\n",
       "      <td id=\"T_220ec_row5_col0\" class=\"data row5 col0\" >Imputation type</td>\n",
       "      <td id=\"T_220ec_row5_col1\" class=\"data row5 col1\" >simple</td>\n",
       "    </tr>\n",
       "    <tr>\n",
       "      <th id=\"T_220ec_level0_row6\" class=\"row_heading level0 row6\" >6</th>\n",
       "      <td id=\"T_220ec_row6_col0\" class=\"data row6 col0\" >Numeric imputation</td>\n",
       "      <td id=\"T_220ec_row6_col1\" class=\"data row6 col1\" >mean</td>\n",
       "    </tr>\n",
       "    <tr>\n",
       "      <th id=\"T_220ec_level0_row7\" class=\"row_heading level0 row7\" >7</th>\n",
       "      <td id=\"T_220ec_row7_col0\" class=\"data row7 col0\" >Categorical imputation</td>\n",
       "      <td id=\"T_220ec_row7_col1\" class=\"data row7 col1\" >mode</td>\n",
       "    </tr>\n",
       "    <tr>\n",
       "      <th id=\"T_220ec_level0_row8\" class=\"row_heading level0 row8\" >8</th>\n",
       "      <td id=\"T_220ec_row8_col0\" class=\"data row8 col0\" >CPU Jobs</td>\n",
       "      <td id=\"T_220ec_row8_col1\" class=\"data row8 col1\" >-1</td>\n",
       "    </tr>\n",
       "    <tr>\n",
       "      <th id=\"T_220ec_level0_row9\" class=\"row_heading level0 row9\" >9</th>\n",
       "      <td id=\"T_220ec_row9_col0\" class=\"data row9 col0\" >Use GPU</td>\n",
       "      <td id=\"T_220ec_row9_col1\" class=\"data row9 col1\" >False</td>\n",
       "    </tr>\n",
       "    <tr>\n",
       "      <th id=\"T_220ec_level0_row10\" class=\"row_heading level0 row10\" >10</th>\n",
       "      <td id=\"T_220ec_row10_col0\" class=\"data row10 col0\" >Log Experiment</td>\n",
       "      <td id=\"T_220ec_row10_col1\" class=\"data row10 col1\" >False</td>\n",
       "    </tr>\n",
       "    <tr>\n",
       "      <th id=\"T_220ec_level0_row11\" class=\"row_heading level0 row11\" >11</th>\n",
       "      <td id=\"T_220ec_row11_col0\" class=\"data row11 col0\" >Experiment Name</td>\n",
       "      <td id=\"T_220ec_row11_col1\" class=\"data row11 col1\" >FraudDetection</td>\n",
       "    </tr>\n",
       "    <tr>\n",
       "      <th id=\"T_220ec_level0_row12\" class=\"row_heading level0 row12\" >12</th>\n",
       "      <td id=\"T_220ec_row12_col0\" class=\"data row12 col0\" >USI</td>\n",
       "      <td id=\"T_220ec_row12_col1\" class=\"data row12 col1\" >9804</td>\n",
       "    </tr>\n",
       "  </tbody>\n",
       "</table>\n"
      ],
      "text/plain": [
       "<pandas.io.formats.style.Styler at 0x1383023e0>"
      ]
     },
     "metadata": {},
     "output_type": "display_data"
    },
    {
     "data": {
      "text/plain": [
       "<pycaret.anomaly.oop.AnomalyExperiment at 0x29c19f430>"
      ]
     },
     "execution_count": 25,
     "metadata": {},
     "output_type": "execute_result"
    }
   ],
   "source": [
    "fraud_ses = AnomalyExperiment()\n",
    "fraud_ses.exp_name_log = \"FraudDetection\"\n",
    "fraud_ses.setup(X_data)"
   ]
  },
  {
   "cell_type": "code",
   "execution_count": 62,
   "metadata": {},
   "outputs": [
    {
     "data": {
      "text/html": [],
      "text/plain": [
       "<IPython.core.display.HTML object>"
      ]
     },
     "metadata": {},
     "output_type": "display_data"
    },
    {
     "data": {
      "text/html": [],
      "text/plain": [
       "<IPython.core.display.HTML object>"
      ]
     },
     "metadata": {},
     "output_type": "display_data"
    },
    {
     "data": {
      "text/html": [],
      "text/plain": [
       "<IPython.core.display.HTML object>"
      ]
     },
     "metadata": {},
     "output_type": "display_data"
    }
   ],
   "source": [
    "model = fraud_ses.create_model(\"lof\")"
   ]
  },
  {
   "cell_type": "code",
   "execution_count": 65,
   "metadata": {},
   "outputs": [
    {
     "data": {
      "text/plain": [
       "odict_keys(['n_neighbors', 'algorithm', 'leaf_size', 'metric', 'p', 'metric_params', 'contamination', 'n_jobs', 'novelty'])"
      ]
     },
     "execution_count": 65,
     "metadata": {},
     "output_type": "execute_result"
    }
   ],
   "source": [
    "sig = inspect.signature(model.__init__)\n",
    "sig.parameters.keys()"
   ]
  },
  {
   "cell_type": "code",
   "execution_count": 43,
   "metadata": {},
   "outputs": [],
   "source": [
    "from pyod.models.lof import LOF\n"
   ]
  },
  {
   "cell_type": "code",
   "execution_count": 37,
   "metadata": {},
   "outputs": [],
   "source": [
    "mod = __import__('pyod.models.lof')"
   ]
  },
  {
   "cell_type": "code",
   "execution_count": 55,
   "metadata": {},
   "outputs": [
    {
     "data": {
      "text/plain": [
       "pyod.models.lof.LOF"
      ]
     },
     "execution_count": 55,
     "metadata": {},
     "output_type": "execute_result"
    }
   ],
   "source": [
    "mod.models.lof.LOF\n"
   ]
  },
  {
   "cell_type": "code",
   "execution_count": 51,
   "metadata": {},
   "outputs": [],
   "source": [
    "models = getattr(mod, 'models')\n",
    "lof = getattr(models, 'lof')\n",
    "lof = getattr(lof, 'LOF')"
   ]
  },
  {
   "cell_type": "code",
   "execution_count": 53,
   "metadata": {},
   "outputs": [],
   "source": [
    "import inspect"
   ]
  },
  {
   "cell_type": "code",
   "execution_count": 56,
   "metadata": {},
   "outputs": [],
   "source": [
    "sig = inspect.signature(lof.__init__)"
   ]
  },
  {
   "cell_type": "code",
   "execution_count": 61,
   "metadata": {},
   "outputs": [
    {
     "data": {
      "text/plain": [
       "True"
      ]
     },
     "execution_count": 61,
     "metadata": {},
     "output_type": "execute_result"
    }
   ],
   "source": [
    "'algorithm' in sig._parameters.keys()"
   ]
  },
  {
   "cell_type": "code",
   "execution_count": 27,
   "metadata": {},
   "outputs": [
    {
     "data": {
      "text/html": [],
      "text/plain": [
       "<IPython.core.display.HTML object>"
      ]
     },
     "metadata": {},
     "output_type": "display_data"
    },
    {
     "data": {
      "text/html": [],
      "text/plain": [
       "<IPython.core.display.HTML object>"
      ]
     },
     "metadata": {},
     "output_type": "display_data"
    },
    {
     "data": {
      "text/html": [],
      "text/plain": [
       "<IPython.core.display.HTML object>"
      ]
     },
     "metadata": {},
     "output_type": "display_data"
    }
   ],
   "source": [
    "model = fraud_ses.create_model(\"lof\", n_neighbors = 10,\n",
    "    algorithm = \"ball_tree\",\n",
    "    leaf_size = 10,\n",
    "    p = 2,\n",
    "    fraction = 0.01)"
   ]
  },
  {
   "cell_type": "code",
   "execution_count": 28,
   "metadata": {},
   "outputs": [],
   "source": [
    "y_pred = fraud_ses.assign_model(model)"
   ]
  },
  {
   "cell_type": "code",
   "execution_count": 30,
   "metadata": {},
   "outputs": [
    {
     "data": {
      "text/plain": [
       "0.010364842454394691"
      ]
     },
     "execution_count": 30,
     "metadata": {},
     "output_type": "execute_result"
    }
   ],
   "source": [
    "fbeta_score(Y_true, y_pred['Anomaly'], beta=2)"
   ]
  },
  {
   "cell_type": "code",
   "execution_count": 29,
   "metadata": {},
   "outputs": [
    {
     "data": {
      "text/plain": [
       "<Axes: xlabel='Category', ylabel='scores'>"
      ]
     },
     "execution_count": 29,
     "metadata": {},
     "output_type": "execute_result"
    },
    {
     "data": {
      "image/png": "[encoded data removed]",
      "text/plain": [
       "<Figure size 800x550 with 1 Axes>"
      ]
     },
     "metadata": {},
     "output_type": "display_data"
    }
   ],
   "source": [
    "transaction_data['scores'] = y_pred['Anomaly_Score']\n",
    "transaction_data['Category'] = ['Normal' if x == 0 else \"Fraud\" for x in transaction_data['Class']]\n",
    "sns.boxplot(x=transaction_data['Category'], y=transaction_data['scores'])"
   ]
  },
  {
   "cell_type": "code",
   "execution_count": 12,
   "metadata": {},
   "outputs": [
    {
     "name": "stdout",
     "output_type": "stream",
     "text": [
      "Transformation Pipeline and Model Successfully Loaded\n"
     ]
    },
    {
     "data": {
      "text/html": [
       "<style>#sk-container-id-1 {color: black;background-color: white;}#sk-container-id-1 pre{padding: 0;}#sk-container-id-1 div.sk-toggleable {background-color: white;}#sk-container-id-1 label.sk-toggleable__label {cursor: pointer;display: block;width: 100%;margin-bottom: 0;padding: 0.3em;box-sizing: border-box;text-align: center;}#sk-container-id-1 label.sk-toggleable__label-arrow:before {content: \"▸\";float: left;margin-right: 0.25em;color: #696969;}#sk-container-id-1 label.sk-toggleable__label-arrow:hover:before {color: black;}#sk-container-id-1 div.sk-estimator:hover label.sk-toggleable__label-arrow:before {color: black;}#sk-container-id-1 div.sk-toggleable__content {max-height: 0;max-width: 0;overflow: hidden;text-align: left;background-color: #f0f8ff;}#sk-container-id-1 div.sk-toggleable__content pre {margin: 0.2em;color: black;border-radius: 0.25em;background-color: #f0f8ff;}#sk-container-id-1 input.sk-toggleable__control:checked~div.sk-toggleable__content {max-height: 200px;max-width: 100%;overflow: auto;}#sk-container-id-1 input.sk-toggleable__control:checked~label.sk-toggleable__label-arrow:before {content: \"▾\";}#sk-container-id-1 div.sk-estimator input.sk-toggleable__control:checked~label.sk-toggleable__label {background-color: #d4ebff;}#sk-container-id-1 div.sk-label input.sk-toggleable__control:checked~label.sk-toggleable__label {background-color: #d4ebff;}#sk-container-id-1 input.sk-hidden--visually {border: 0;clip: rect(1px 1px 1px 1px);clip: rect(1px, 1px, 1px, 1px);height: 1px;margin: -1px;overflow: hidden;padding: 0;position: absolute;width: 1px;}#sk-container-id-1 div.sk-estimator {font-family: monospace;background-color: #f0f8ff;border: 1px dotted black;border-radius: 0.25em;box-sizing: border-box;margin-bottom: 0.5em;}#sk-container-id-1 div.sk-estimator:hover {background-color: #d4ebff;}#sk-container-id-1 div.sk-parallel-item::after {content: \"\";width: 100%;border-bottom: 1px solid gray;flex-grow: 1;}#sk-container-id-1 div.sk-label:hover label.sk-toggleable__label {background-color: #d4ebff;}#sk-container-id-1 div.sk-serial::before {content: \"\";position: absolute;border-left: 1px solid gray;box-sizing: border-box;top: 0;bottom: 0;left: 50%;z-index: 0;}#sk-container-id-1 div.sk-serial {display: flex;flex-direction: column;align-items: center;background-color: white;padding-right: 0.2em;padding-left: 0.2em;position: relative;}#sk-container-id-1 div.sk-item {position: relative;z-index: 1;}#sk-container-id-1 div.sk-parallel {display: flex;align-items: stretch;justify-content: center;background-color: white;position: relative;}#sk-container-id-1 div.sk-item::before, #sk-container-id-1 div.sk-parallel-item::before {content: \"\";position: absolute;border-left: 1px solid gray;box-sizing: border-box;top: 0;bottom: 0;left: 50%;z-index: -1;}#sk-container-id-1 div.sk-parallel-item {display: flex;flex-direction: column;z-index: 1;position: relative;background-color: white;}#sk-container-id-1 div.sk-parallel-item:first-child::after {align-self: flex-end;width: 50%;}#sk-container-id-1 div.sk-parallel-item:last-child::after {align-self: flex-start;width: 50%;}#sk-container-id-1 div.sk-parallel-item:only-child::after {width: 0;}#sk-container-id-1 div.sk-dashed-wrapped {border: 1px dashed gray;margin: 0 0.4em 0.5em 0.4em;box-sizing: border-box;padding-bottom: 0.4em;background-color: white;}#sk-container-id-1 div.sk-label label {font-family: monospace;font-weight: bold;display: inline-block;line-height: 1.2em;}#sk-container-id-1 div.sk-label-container {text-align: center;}#sk-container-id-1 div.sk-container {/* jupyter's `normalize.less` sets `[hidden] { display: none; }` but bootstrap.min.css set `[hidden] { display: none !important; }` so we also need the `!important` here to be able to override the default hidden behavior on the sphinx rendered scikit-learn.org. See: https://github.com/scikit-learn/scikit-learn/issues/21755 */display: inline-block !important;position: relative;}#sk-container-id-1 div.sk-text-repr-fallback {display: none;}</style><div id=\"sk-container-id-1\" class=\"sk-top-container\"><div class=\"sk-text-repr-fallback\"><pre>Pipeline(memory=FastMemory(location=/var/folders/xs/kckld1vs7r714dlrd1t9llwr0000gn/T/joblib),\n",
       "         steps=[(&#x27;numerical_imputer&#x27;,\n",
       "                 TransformerWrapper(include=[&#x27;Value&#x27;, &#x27;C1&#x27;, &#x27;C2&#x27;, &#x27;C3&#x27;, &#x27;C4&#x27;,\n",
       "                                             &#x27;C5&#x27;, &#x27;C6&#x27;, &#x27;C7&#x27;, &#x27;C8&#x27;, &#x27;C9&#x27;,\n",
       "                                             &#x27;C10&#x27;, &#x27;C11&#x27;, &#x27;C12&#x27;],\n",
       "                                    transformer=SimpleImputer())),\n",
       "                (&#x27;categorical_imputer&#x27;,\n",
       "                 TransformerWrapper(include=[],\n",
       "                                    transformer=SimpleImputer(strategy=&#x27;most_frequent&#x27;))),\n",
       "                (&#x27;trained_model&#x27;,\n",
       "                 IForest(behaviour=&#x27;new&#x27;, bootstrap=False, contamination=0.0033783392065649498,\n",
       "    max_features=0.1485293549246253, max_samples=0.49639807737014874,\n",
       "    n_estimators=120, n_jobs=-1, random_state=821, verbose=0))])</pre><b>In a Jupyter environment, please rerun this cell to show the HTML representation or trust the notebook. <br />On GitHub, the HTML representation is unable to render, please try loading this page with nbviewer.org.</b></div><div class=\"sk-container\" hidden><div class=\"sk-item sk-dashed-wrapped\"><div class=\"sk-label-container\"><div class=\"sk-label sk-toggleable\"><input class=\"sk-toggleable__control sk-hidden--visually\" id=\"sk-estimator-id-1\" type=\"checkbox\" ><label for=\"sk-estimator-id-1\" class=\"sk-toggleable__label sk-toggleable__label-arrow\">Pipeline</label><div class=\"sk-toggleable__content\"><pre>Pipeline(memory=FastMemory(location=/var/folders/xs/kckld1vs7r714dlrd1t9llwr0000gn/T/joblib),\n",
       "         steps=[(&#x27;numerical_imputer&#x27;,\n",
       "                 TransformerWrapper(include=[&#x27;Value&#x27;, &#x27;C1&#x27;, &#x27;C2&#x27;, &#x27;C3&#x27;, &#x27;C4&#x27;,\n",
       "                                             &#x27;C5&#x27;, &#x27;C6&#x27;, &#x27;C7&#x27;, &#x27;C8&#x27;, &#x27;C9&#x27;,\n",
       "                                             &#x27;C10&#x27;, &#x27;C11&#x27;, &#x27;C12&#x27;],\n",
       "                                    transformer=SimpleImputer())),\n",
       "                (&#x27;categorical_imputer&#x27;,\n",
       "                 TransformerWrapper(include=[],\n",
       "                                    transformer=SimpleImputer(strategy=&#x27;most_frequent&#x27;))),\n",
       "                (&#x27;trained_model&#x27;,\n",
       "                 IForest(behaviour=&#x27;new&#x27;, bootstrap=False, contamination=0.0033783392065649498,\n",
       "    max_features=0.1485293549246253, max_samples=0.49639807737014874,\n",
       "    n_estimators=120, n_jobs=-1, random_state=821, verbose=0))])</pre></div></div></div><div class=\"sk-serial\"><div class=\"sk-item sk-dashed-wrapped\"><div class=\"sk-label-container\"><div class=\"sk-label sk-toggleable\"><input class=\"sk-toggleable__control sk-hidden--visually\" id=\"sk-estimator-id-2\" type=\"checkbox\" ><label for=\"sk-estimator-id-2\" class=\"sk-toggleable__label sk-toggleable__label-arrow\">numerical_imputer: TransformerWrapper</label><div class=\"sk-toggleable__content\"><pre>TransformerWrapper(include=[&#x27;Value&#x27;, &#x27;C1&#x27;, &#x27;C2&#x27;, &#x27;C3&#x27;, &#x27;C4&#x27;, &#x27;C5&#x27;, &#x27;C6&#x27;, &#x27;C7&#x27;,\n",
       "                            &#x27;C8&#x27;, &#x27;C9&#x27;, &#x27;C10&#x27;, &#x27;C11&#x27;, &#x27;C12&#x27;],\n",
       "                   transformer=SimpleImputer())</pre></div></div></div><div class=\"sk-parallel\"><div class=\"sk-parallel-item\"><div class=\"sk-item\"><div class=\"sk-label-container\"><div class=\"sk-label sk-toggleable\"><input class=\"sk-toggleable__control sk-hidden--visually\" id=\"sk-estimator-id-3\" type=\"checkbox\" ><label for=\"sk-estimator-id-3\" class=\"sk-toggleable__label sk-toggleable__label-arrow\">transformer: SimpleImputer</label><div class=\"sk-toggleable__content\"><pre>SimpleImputer()</pre></div></div></div><div class=\"sk-serial\"><div class=\"sk-item\"><div class=\"sk-estimator sk-toggleable\"><input class=\"sk-toggleable__control sk-hidden--visually\" id=\"sk-estimator-id-4\" type=\"checkbox\" ><label for=\"sk-estimator-id-4\" class=\"sk-toggleable__label sk-toggleable__label-arrow\">SimpleImputer</label><div class=\"sk-toggleable__content\"><pre>SimpleImputer()</pre></div></div></div></div></div></div></div></div><div class=\"sk-item sk-dashed-wrapped\"><div class=\"sk-label-container\"><div class=\"sk-label sk-toggleable\"><input class=\"sk-toggleable__control sk-hidden--visually\" id=\"sk-estimator-id-5\" type=\"checkbox\" ><label for=\"sk-estimator-id-5\" class=\"sk-toggleable__label sk-toggleable__label-arrow\">categorical_imputer: TransformerWrapper</label><div class=\"sk-toggleable__content\"><pre>TransformerWrapper(include=[],\n",
       "                   transformer=SimpleImputer(strategy=&#x27;most_frequent&#x27;))</pre></div></div></div><div class=\"sk-parallel\"><div class=\"sk-parallel-item\"><div class=\"sk-item\"><div class=\"sk-label-container\"><div class=\"sk-label sk-toggleable\"><input class=\"sk-toggleable__control sk-hidden--visually\" id=\"sk-estimator-id-6\" type=\"checkbox\" ><label for=\"sk-estimator-id-6\" class=\"sk-toggleable__label sk-toggleable__label-arrow\">transformer: SimpleImputer</label><div class=\"sk-toggleable__content\"><pre>SimpleImputer(strategy=&#x27;most_frequent&#x27;)</pre></div></div></div><div class=\"sk-serial\"><div class=\"sk-item\"><div class=\"sk-estimator sk-toggleable\"><input class=\"sk-toggleable__control sk-hidden--visually\" id=\"sk-estimator-id-7\" type=\"checkbox\" ><label for=\"sk-estimator-id-7\" class=\"sk-toggleable__label sk-toggleable__label-arrow\">SimpleImputer</label><div class=\"sk-toggleable__content\"><pre>SimpleImputer(strategy=&#x27;most_frequent&#x27;)</pre></div></div></div></div></div></div></div></div><div class=\"sk-item\"><div class=\"sk-estimator sk-toggleable\"><input class=\"sk-toggleable__control sk-hidden--visually\" id=\"sk-estimator-id-8\" type=\"checkbox\" ><label for=\"sk-estimator-id-8\" class=\"sk-toggleable__label sk-toggleable__label-arrow\">IForest</label><div class=\"sk-toggleable__content\"><pre>IForest(behaviour=&#x27;new&#x27;, bootstrap=False, contamination=0.0033783392065649498,\n",
       "    max_features=0.1485293549246253, max_samples=0.49639807737014874,\n",
       "    n_estimators=120, n_jobs=-1, random_state=821, verbose=0)</pre></div></div></div></div></div></div></div>"
      ],
      "text/plain": [
       "Pipeline(memory=FastMemory(location=/var/folders/xs/kckld1vs7r714dlrd1t9llwr0000gn/T/joblib),\n",
       "         steps=[('numerical_imputer',\n",
       "                 TransformerWrapper(include=['Value', 'C1', 'C2', 'C3', 'C4',\n",
       "                                             'C5', 'C6', 'C7', 'C8', 'C9',\n",
       "                                             'C10', 'C11', 'C12'],\n",
       "                                    transformer=SimpleImputer())),\n",
       "                ('categorical_imputer',\n",
       "                 TransformerWrapper(include=[],\n",
       "                                    transformer=SimpleImputer(strategy='most_frequent'))),\n",
       "                ('trained_model',\n",
       "                 IForest(behaviour='new', bootstrap=False, contamination=0.0033783392065649498,\n",
       "    max_features=0.1485293549246253, max_samples=0.49639807737014874,\n",
       "    n_estimators=120, n_jobs=-1, random_state=821, verbose=0))])"
      ]
     },
     "execution_count": 12,
     "metadata": {},
     "output_type": "execute_result"
    }
   ],
   "source": [
    "best_model = fraud_ses.load_model(\"../cur_best_iforest0.1549\")\n",
    "best_model"
   ]
  },
  {
   "cell_type": "code",
   "execution_count": 14,
   "metadata": {},
   "outputs": [
    {
     "data": {
      "text/plain": [
       "0.1548821548821549"
      ]
     },
     "execution_count": 14,
     "metadata": {},
     "output_type": "execute_result"
    }
   ],
   "source": [
    "y_pred = fraud_ses.predict_model(best_model, X_data)\n",
    "fbeta_score(Y_true, y_pred['Anomaly'], beta=2)"
   ]
  },
  {
   "cell_type": "code",
   "execution_count": 15,
   "metadata": {},
   "outputs": [
    {
     "data": {
      "text/plain": [
       "<Axes: xlabel='Category', ylabel='scores'>"
      ]
     },
     "execution_count": 15,
     "metadata": {},
     "output_type": "execute_result"
    },
    {
     "data": {
      "image/png": "[encoded data removed]",
      "text/plain": [
       "<Figure size 800x550 with 1 Axes>"
      ]
     },
     "metadata": {},
     "output_type": "display_data"
    }
   ],
   "source": [
    "import seaborn as sns\n",
    "transaction_data['scores'] = y_pred['Anomaly_Score']\n",
    "transaction_data['Category'] = ['Normal' if x == 0 else \"Fraud\" for x in transaction_data['Class']]\n",
    "sns.boxplot(x=transaction_data['Category'], y=transaction_data['scores'])"
   ]
  },
  {
   "cell_type": "code",
   "execution_count": 6,
   "metadata": {},
   "outputs": [
    {
     "data": {
      "text/html": [
       "<div>\n",
       "<style scoped>\n",
       "    .dataframe tbody tr th:only-of-type {\n",
       "        vertical-align: middle;\n",
       "    }\n",
       "\n",
       "    .dataframe tbody tr th {\n",
       "        vertical-align: top;\n",
       "    }\n",
       "\n",
       "    .dataframe thead th {\n",
       "        text-align: right;\n",
       "    }\n",
       "</style>\n",
       "<table border=\"1\" class=\"dataframe\">\n",
       "  <thead>\n",
       "    <tr style=\"text-align: right;\">\n",
       "      <th></th>\n",
       "      <th>Name</th>\n",
       "      <th>Reference</th>\n",
       "    </tr>\n",
       "    <tr>\n",
       "      <th>ID</th>\n",
       "      <th></th>\n",
       "      <th></th>\n",
       "    </tr>\n",
       "  </thead>\n",
       "  <tbody>\n",
       "    <tr>\n",
       "      <th>abod</th>\n",
       "      <td>Angle-base Outlier Detection</td>\n",
       "      <td>pyod.models.abod.ABOD</td>\n",
       "    </tr>\n",
       "    <tr>\n",
       "      <th>cluster</th>\n",
       "      <td>Clustering-Based Local Outlier</td>\n",
       "      <td>pycaret.internal.patches.pyod.CBLOFForceToDouble</td>\n",
       "    </tr>\n",
       "    <tr>\n",
       "      <th>cof</th>\n",
       "      <td>Connectivity-Based Local Outlier</td>\n",
       "      <td>pyod.models.cof.COF</td>\n",
       "    </tr>\n",
       "    <tr>\n",
       "      <th>iforest</th>\n",
       "      <td>Isolation Forest</td>\n",
       "      <td>pyod.models.iforest.IForest</td>\n",
       "    </tr>\n",
       "    <tr>\n",
       "      <th>histogram</th>\n",
       "      <td>Histogram-based Outlier Detection</td>\n",
       "      <td>pyod.models.hbos.HBOS</td>\n",
       "    </tr>\n",
       "    <tr>\n",
       "      <th>knn</th>\n",
       "      <td>K-Nearest Neighbors Detector</td>\n",
       "      <td>pyod.models.knn.KNN</td>\n",
       "    </tr>\n",
       "    <tr>\n",
       "      <th>lof</th>\n",
       "      <td>Local Outlier Factor</td>\n",
       "      <td>pyod.models.lof.LOF</td>\n",
       "    </tr>\n",
       "    <tr>\n",
       "      <th>svm</th>\n",
       "      <td>One-class SVM detector</td>\n",
       "      <td>pyod.models.ocsvm.OCSVM</td>\n",
       "    </tr>\n",
       "    <tr>\n",
       "      <th>pca</th>\n",
       "      <td>Principal Component Analysis</td>\n",
       "      <td>pyod.models.pca.PCA</td>\n",
       "    </tr>\n",
       "    <tr>\n",
       "      <th>mcd</th>\n",
       "      <td>Minimum Covariance Determinant</td>\n",
       "      <td>pyod.models.mcd.MCD</td>\n",
       "    </tr>\n",
       "    <tr>\n",
       "      <th>sod</th>\n",
       "      <td>Subspace Outlier Detection</td>\n",
       "      <td>pyod.models.sod.SOD</td>\n",
       "    </tr>\n",
       "    <tr>\n",
       "      <th>sos</th>\n",
       "      <td>Stochastic Outlier Selection</td>\n",
       "      <td>pyod.models.sos.SOS</td>\n",
       "    </tr>\n",
       "  </tbody>\n",
       "</table>\n",
       "</div>"
      ],
      "text/plain": [
       "                                        Name  \\\n",
       "ID                                             \n",
       "abod            Angle-base Outlier Detection   \n",
       "cluster       Clustering-Based Local Outlier   \n",
       "cof         Connectivity-Based Local Outlier   \n",
       "iforest                     Isolation Forest   \n",
       "histogram  Histogram-based Outlier Detection   \n",
       "knn             K-Nearest Neighbors Detector   \n",
       "lof                     Local Outlier Factor   \n",
       "svm                   One-class SVM detector   \n",
       "pca             Principal Component Analysis   \n",
       "mcd           Minimum Covariance Determinant   \n",
       "sod               Subspace Outlier Detection   \n",
       "sos             Stochastic Outlier Selection   \n",
       "\n",
       "                                                  Reference  \n",
       "ID                                                           \n",
       "abod                                  pyod.models.abod.ABOD  \n",
       "cluster    pycaret.internal.patches.pyod.CBLOFForceToDouble  \n",
       "cof                                     pyod.models.cof.COF  \n",
       "iforest                         pyod.models.iforest.IForest  \n",
       "histogram                             pyod.models.hbos.HBOS  \n",
       "knn                                     pyod.models.knn.KNN  \n",
       "lof                                     pyod.models.lof.LOF  \n",
       "svm                                 pyod.models.ocsvm.OCSVM  \n",
       "pca                                     pyod.models.pca.PCA  \n",
       "mcd                                     pyod.models.mcd.MCD  \n",
       "sod                                     pyod.models.sod.SOD  \n",
       "sos                                     pyod.models.sos.SOS  "
      ]
     },
     "execution_count": 6,
     "metadata": {},
     "output_type": "execute_result"
    }
   ],
   "source": [
    "fraud_ses.models()"
   ]
  },
  {
   "cell_type": "code",
   "execution_count": null,
   "metadata": {},
   "outputs": [],
   "source": [
    "import optuna\n",
    "from sklearn.metrics import fbeta_score"
   ]
  },
  {
   "cell_type": "code",
   "execution_count": 56,
   "metadata": {},
   "outputs": [
    {
     "name": "stderr",
     "output_type": "stream",
     "text": [
      "WARNING: MYSQL_OPT_RECONNECT is deprecated and will be removed in a future version.\n",
      "WARNING: MYSQL_OPT_RECONNECT is deprecated and will be removed in a future version.\n",
      "WARNING: MYSQL_OPT_RECONNECT is deprecated and will be removed in a future version.\n",
      "WARNING: MYSQL_OPT_RECONNECT is deprecated and will be removed in a future version.\n",
      "WARNING: MYSQL_OPT_RECONNECT is deprecated and will be removed in a future version.\n",
      "WARNING: MYSQL_OPT_RECONNECT is deprecated and will be removed in a future version.\n",
      "WARNING: MYSQL_OPT_RECONNECT is deprecated and will be removed in a future version.\n",
      "WARNING: MYSQL_OPT_RECONNECT is deprecated and will be removed in a future version.\n",
      "WARNING: MYSQL_OPT_RECONNECT is deprecated and will be removed in a future version.\n",
      "WARNING: MYSQL_OPT_RECONNECT is deprecated and will be removed in a future version.\n",
      "WARNING: MYSQL_OPT_RECONNECT is deprecated and will be removed in a future version.\n",
      "WARNING: MYSQL_OPT_RECONNECT is deprecated and will be removed in a future version.\n",
      "WARNING: MYSQL_OPT_RECONNECT is deprecated and will be removed in a future version.\n"
     ]
    },
    {
     "data": {
      "text/html": [],
      "text/plain": [
       "<IPython.core.display.HTML object>"
      ]
     },
     "metadata": {},
     "output_type": "display_data"
    },
    {
     "data": {
      "text/html": [],
      "text/plain": [
       "<IPython.core.display.HTML object>"
      ]
     },
     "metadata": {},
     "output_type": "display_data"
    },
    {
     "data": {
      "text/html": [],
      "text/plain": [
       "<IPython.core.display.HTML object>"
      ]
     },
     "metadata": {},
     "output_type": "display_data"
    },
    {
     "name": "stderr",
     "output_type": "stream",
     "text": [
      "WARNING: MYSQL_OPT_RECONNECT is deprecated and will be removed in a future version.\n",
      "WARNING: MYSQL_OPT_RECONNECT is deprecated and will be removed in a future version.\n",
      "WARNING: MYSQL_OPT_RECONNECT is deprecated and will be removed in a future version.\n",
      "WARNING: MYSQL_OPT_RECONNECT is deprecated and will be removed in a future version.\n",
      "WARNING: MYSQL_OPT_RECONNECT is deprecated and will be removed in a future version.\n",
      "WARNING: MYSQL_OPT_RECONNECT is deprecated and will be removed in a future version.\n",
      "WARNING: MYSQL_OPT_RECONNECT is deprecated and will be removed in a future version.\n",
      "[I 2023-08-27 22:56:58,268] Trial 20 finished with value: -0.030579131303045435 and parameters: {'contamination': 0.005999485036923475, 'max_features': 0.3082476014653094, 'max_samples': 0.7375747016505865, 'n_estimators': 500}. Best is trial 10 with value: -0.07863205192211682.\n",
      "WARNING: MYSQL_OPT_RECONNECT is deprecated and will be removed in a future version.\n",
      "WARNING: MYSQL_OPT_RECONNECT is deprecated and will be removed in a future version.\n",
      "WARNING: MYSQL_OPT_RECONNECT is deprecated and will be removed in a future version.\n",
      "WARNING: MYSQL_OPT_RECONNECT is deprecated and will be removed in a future version.\n",
      "WARNING: MYSQL_OPT_RECONNECT is deprecated and will be removed in a future version.\n",
      "WARNING: MYSQL_OPT_RECONNECT is deprecated and will be removed in a future version.\n",
      "WARNING: MYSQL_OPT_RECONNECT is deprecated and will be removed in a future version.\n",
      "WARNING: MYSQL_OPT_RECONNECT is deprecated and will be removed in a future version.\n"
     ]
    },
    {
     "data": {
      "text/html": [],
      "text/plain": [
       "<IPython.core.display.HTML object>"
      ]
     },
     "metadata": {},
     "output_type": "display_data"
    },
    {
     "data": {
      "text/html": [],
      "text/plain": [
       "<IPython.core.display.HTML object>"
      ]
     },
     "metadata": {},
     "output_type": "display_data"
    },
    {
     "data": {
      "text/html": [],
      "text/plain": [
       "<IPython.core.display.HTML object>"
      ]
     },
     "metadata": {},
     "output_type": "display_data"
    },
    {
     "name": "stderr",
     "output_type": "stream",
     "text": [
      "WARNING: MYSQL_OPT_RECONNECT is deprecated and will be removed in a future version.\n",
      "WARNING: MYSQL_OPT_RECONNECT is deprecated and will be removed in a future version.\n",
      "WARNING: MYSQL_OPT_RECONNECT is deprecated and will be removed in a future version.\n",
      "WARNING: MYSQL_OPT_RECONNECT is deprecated and will be removed in a future version.\n",
      "WARNING: MYSQL_OPT_RECONNECT is deprecated and will be removed in a future version.\n",
      "WARNING: MYSQL_OPT_RECONNECT is deprecated and will be removed in a future version.\n",
      "WARNING: MYSQL_OPT_RECONNECT is deprecated and will be removed in a future version.\n",
      "[I 2023-08-27 22:57:33,341] Trial 22 finished with value: -0.07675986020968546 and parameters: {'contamination': 0.013809437393002546, 'max_features': 0.10888395114034334, 'max_samples': 0.8690901076906039, 'n_estimators': 450}. Best is trial 10 with value: -0.07863205192211682.\n",
      "WARNING: MYSQL_OPT_RECONNECT is deprecated and will be removed in a future version.\n",
      "WARNING: MYSQL_OPT_RECONNECT is deprecated and will be removed in a future version.\n",
      "WARNING: MYSQL_OPT_RECONNECT is deprecated and will be removed in a future version.\n",
      "WARNING: MYSQL_OPT_RECONNECT is deprecated and will be removed in a future version.\n",
      "WARNING: MYSQL_OPT_RECONNECT is deprecated and will be removed in a future version.\n",
      "WARNING: MYSQL_OPT_RECONNECT is deprecated and will be removed in a future version.\n",
      "WARNING: MYSQL_OPT_RECONNECT is deprecated and will be removed in a future version.\n",
      "WARNING: MYSQL_OPT_RECONNECT is deprecated and will be removed in a future version.\n"
     ]
    },
    {
     "data": {
      "text/html": [],
      "text/plain": [
       "<IPython.core.display.HTML object>"
      ]
     },
     "metadata": {},
     "output_type": "display_data"
    },
    {
     "data": {
      "text/html": [],
      "text/plain": [
       "<IPython.core.display.HTML object>"
      ]
     },
     "metadata": {},
     "output_type": "display_data"
    },
    {
     "data": {
      "text/html": [],
      "text/plain": [
       "<IPython.core.display.HTML object>"
      ]
     },
     "metadata": {},
     "output_type": "display_data"
    },
    {
     "name": "stderr",
     "output_type": "stream",
     "text": [
      "WARNING: MYSQL_OPT_RECONNECT is deprecated and will be removed in a future version.\n",
      "WARNING: MYSQL_OPT_RECONNECT is deprecated and will be removed in a future version.\n",
      "WARNING: MYSQL_OPT_RECONNECT is deprecated and will be removed in a future version.\n",
      "WARNING: MYSQL_OPT_RECONNECT is deprecated and will be removed in a future version.\n",
      "WARNING: MYSQL_OPT_RECONNECT is deprecated and will be removed in a future version.\n",
      "WARNING: MYSQL_OPT_RECONNECT is deprecated and will be removed in a future version.\n",
      "WARNING: MYSQL_OPT_RECONNECT is deprecated and will be removed in a future version.\n",
      "[I 2023-08-27 22:57:59,519] Trial 24 finished with value: -0.0517973040439341 and parameters: {'contamination': 0.014736407949875826, 'max_features': 0.17656189279990447, 'max_samples': 0.9066771747155761, 'n_estimators': 372}. Best is trial 10 with value: -0.07863205192211682.\n",
      "WARNING: MYSQL_OPT_RECONNECT is deprecated and will be removed in a future version.\n",
      "WARNING: MYSQL_OPT_RECONNECT is deprecated and will be removed in a future version.\n",
      "WARNING: MYSQL_OPT_RECONNECT is deprecated and will be removed in a future version.\n",
      "WARNING: MYSQL_OPT_RECONNECT is deprecated and will be removed in a future version.\n",
      "WARNING: MYSQL_OPT_RECONNECT is deprecated and will be removed in a future version.\n",
      "WARNING: MYSQL_OPT_RECONNECT is deprecated and will be removed in a future version.\n",
      "WARNING: MYSQL_OPT_RECONNECT is deprecated and will be removed in a future version.\n",
      "WARNING: MYSQL_OPT_RECONNECT is deprecated and will be removed in a future version.\n"
     ]
    },
    {
     "data": {
      "text/html": [],
      "text/plain": [
       "<IPython.core.display.HTML object>"
      ]
     },
     "metadata": {},
     "output_type": "display_data"
    },
    {
     "data": {
      "text/html": [],
      "text/plain": [
       "<IPython.core.display.HTML object>"
      ]
     },
     "metadata": {},
     "output_type": "display_data"
    },
    {
     "data": {
      "text/html": [],
      "text/plain": [
       "<IPython.core.display.HTML object>"
      ]
     },
     "metadata": {},
     "output_type": "display_data"
    },
    {
     "name": "stderr",
     "output_type": "stream",
     "text": [
      "WARNING: MYSQL_OPT_RECONNECT is deprecated and will be removed in a future version.\n",
      "WARNING: MYSQL_OPT_RECONNECT is deprecated and will be removed in a future version.\n",
      "WARNING: MYSQL_OPT_RECONNECT is deprecated and will be removed in a future version.\n",
      "WARNING: MYSQL_OPT_RECONNECT is deprecated and will be removed in a future version.\n",
      "WARNING: MYSQL_OPT_RECONNECT is deprecated and will be removed in a future version.\n",
      "WARNING: MYSQL_OPT_RECONNECT is deprecated and will be removed in a future version.\n",
      "WARNING: MYSQL_OPT_RECONNECT is deprecated and will be removed in a future version.\n",
      "[I 2023-08-27 22:58:21,003] Trial 25 finished with value: -0.08112830753869196 and parameters: {'contamination': 0.0012754683339327522, 'max_features': 0.10661906816747645, 'max_samples': 0.9081850254741408, 'n_estimators': 305}. Best is trial 25 with value: -0.08112830753869196.\n",
      "WARNING: MYSQL_OPT_RECONNECT is deprecated and will be removed in a future version.\n",
      "WARNING: MYSQL_OPT_RECONNECT is deprecated and will be removed in a future version.\n",
      "WARNING: MYSQL_OPT_RECONNECT is deprecated and will be removed in a future version.\n",
      "WARNING: MYSQL_OPT_RECONNECT is deprecated and will be removed in a future version.\n",
      "WARNING: MYSQL_OPT_RECONNECT is deprecated and will be removed in a future version.\n",
      "WARNING: MYSQL_OPT_RECONNECT is deprecated and will be removed in a future version.\n",
      "WARNING: MYSQL_OPT_RECONNECT is deprecated and will be removed in a future version.\n",
      "WARNING: MYSQL_OPT_RECONNECT is deprecated and will be removed in a future version.\n"
     ]
    },
    {
     "data": {
      "text/html": [],
      "text/plain": [
       "<IPython.core.display.HTML object>"
      ]
     },
     "metadata": {},
     "output_type": "display_data"
    },
    {
     "data": {
      "text/html": [],
      "text/plain": [
       "<IPython.core.display.HTML object>"
      ]
     },
     "metadata": {},
     "output_type": "display_data"
    },
    {
     "data": {
      "text/html": [],
      "text/plain": [
       "<IPython.core.display.HTML object>"
      ]
     },
     "metadata": {},
     "output_type": "display_data"
    },
    {
     "name": "stderr",
     "output_type": "stream",
     "text": [
      "WARNING: MYSQL_OPT_RECONNECT is deprecated and will be removed in a future version.\n",
      "WARNING: MYSQL_OPT_RECONNECT is deprecated and will be removed in a future version.\n",
      "WARNING: MYSQL_OPT_RECONNECT is deprecated and will be removed in a future version.\n",
      "WARNING: MYSQL_OPT_RECONNECT is deprecated and will be removed in a future version.\n",
      "WARNING: MYSQL_OPT_RECONNECT is deprecated and will be removed in a future version.\n",
      "WARNING: MYSQL_OPT_RECONNECT is deprecated and will be removed in a future version.\n",
      "WARNING: MYSQL_OPT_RECONNECT is deprecated and will be removed in a future version.\n",
      "[I 2023-08-27 22:58:37,793] Trial 27 finished with value: -0.043060409385921115 and parameters: {'contamination': 0.004651018817501828, 'max_features': 0.25985006262974336, 'max_samples': 0.823675421081409, 'n_estimators': 254}. Best is trial 25 with value: -0.08112830753869196.\n",
      "WARNING: MYSQL_OPT_RECONNECT is deprecated and will be removed in a future version.\n",
      "WARNING: MYSQL_OPT_RECONNECT is deprecated and will be removed in a future version.\n",
      "WARNING: MYSQL_OPT_RECONNECT is deprecated and will be removed in a future version.\n",
      "WARNING: MYSQL_OPT_RECONNECT is deprecated and will be removed in a future version.\n",
      "WARNING: MYSQL_OPT_RECONNECT is deprecated and will be removed in a future version.\n",
      "WARNING: MYSQL_OPT_RECONNECT is deprecated and will be removed in a future version.\n",
      "WARNING: MYSQL_OPT_RECONNECT is deprecated and will be removed in a future version.\n",
      "WARNING: MYSQL_OPT_RECONNECT is deprecated and will be removed in a future version.\n"
     ]
    },
    {
     "data": {
      "text/html": [],
      "text/plain": [
       "<IPython.core.display.HTML object>"
      ]
     },
     "metadata": {},
     "output_type": "display_data"
    },
    {
     "data": {
      "text/html": [],
      "text/plain": [
       "<IPython.core.display.HTML object>"
      ]
     },
     "metadata": {},
     "output_type": "display_data"
    },
    {
     "data": {
      "text/html": [],
      "text/plain": [
       "<IPython.core.display.HTML object>"
      ]
     },
     "metadata": {},
     "output_type": "display_data"
    },
    {
     "name": "stderr",
     "output_type": "stream",
     "text": [
      "WARNING: MYSQL_OPT_RECONNECT is deprecated and will be removed in a future version.\n",
      "WARNING: MYSQL_OPT_RECONNECT is deprecated and will be removed in a future version.\n",
      "WARNING: MYSQL_OPT_RECONNECT is deprecated and will be removed in a future version.\n",
      "WARNING: MYSQL_OPT_RECONNECT is deprecated and will be removed in a future version.\n",
      "WARNING: MYSQL_OPT_RECONNECT is deprecated and will be removed in a future version.\n",
      "WARNING: MYSQL_OPT_RECONNECT is deprecated and will be removed in a future version.\n",
      "WARNING: MYSQL_OPT_RECONNECT is deprecated and will be removed in a future version.\n",
      "[I 2023-08-27 22:58:59,568] Trial 29 finished with value: -0.057413879181228165 and parameters: {'contamination': 0.0012232910434049435, 'max_features': 0.19199709242999274, 'max_samples': 0.7350221878965533, 'n_estimators': 311}. Best is trial 25 with value: -0.08112830753869196.\n",
      "WARNING: MYSQL_OPT_RECONNECT is deprecated and will be removed in a future version.\n",
      "WARNING: MYSQL_OPT_RECONNECT is deprecated and will be removed in a future version.\n",
      "WARNING: MYSQL_OPT_RECONNECT is deprecated and will be removed in a future version.\n",
      "WARNING: MYSQL_OPT_RECONNECT is deprecated and will be removed in a future version.\n",
      "WARNING: MYSQL_OPT_RECONNECT is deprecated and will be removed in a future version.\n",
      "WARNING: MYSQL_OPT_RECONNECT is deprecated and will be removed in a future version.\n",
      "WARNING: MYSQL_OPT_RECONNECT is deprecated and will be removed in a future version.\n",
      "WARNING: MYSQL_OPT_RECONNECT is deprecated and will be removed in a future version.\n"
     ]
    },
    {
     "data": {
      "text/html": [],
      "text/plain": [
       "<IPython.core.display.HTML object>"
      ]
     },
     "metadata": {},
     "output_type": "display_data"
    },
    {
     "data": {
      "text/html": [],
      "text/plain": [
       "<IPython.core.display.HTML object>"
      ]
     },
     "metadata": {},
     "output_type": "display_data"
    },
    {
     "data": {
      "text/html": [],
      "text/plain": [
       "<IPython.core.display.HTML object>"
      ]
     },
     "metadata": {},
     "output_type": "display_data"
    },
    {
     "name": "stderr",
     "output_type": "stream",
     "text": [
      "WARNING: MYSQL_OPT_RECONNECT is deprecated and will be removed in a future version.\n",
      "WARNING: MYSQL_OPT_RECONNECT is deprecated and will be removed in a future version.\n",
      "WARNING: MYSQL_OPT_RECONNECT is deprecated and will be removed in a future version.\n",
      "WARNING: MYSQL_OPT_RECONNECT is deprecated and will be removed in a future version.\n",
      "WARNING: MYSQL_OPT_RECONNECT is deprecated and will be removed in a future version.\n",
      "WARNING: MYSQL_OPT_RECONNECT is deprecated and will be removed in a future version.\n",
      "WARNING: MYSQL_OPT_RECONNECT is deprecated and will be removed in a future version.\n",
      "[I 2023-08-27 22:59:17,793] Trial 31 finished with value: -0.029955067398901643 and parameters: {'contamination': 0.007817538476268596, 'max_features': 0.43059748568539746, 'max_samples': 0.5408350139227708, 'n_estimators': 274}. Best is trial 25 with value: -0.08112830753869196.\n",
      "WARNING: MYSQL_OPT_RECONNECT is deprecated and will be removed in a future version.\n",
      "WARNING: MYSQL_OPT_RECONNECT is deprecated and will be removed in a future version.\n",
      "WARNING: MYSQL_OPT_RECONNECT is deprecated and will be removed in a future version.\n",
      "WARNING: MYSQL_OPT_RECONNECT is deprecated and will be removed in a future version.\n",
      "WARNING: MYSQL_OPT_RECONNECT is deprecated and will be removed in a future version.\n",
      "WARNING: MYSQL_OPT_RECONNECT is deprecated and will be removed in a future version.\n",
      "WARNING: MYSQL_OPT_RECONNECT is deprecated and will be removed in a future version.\n",
      "WARNING: MYSQL_OPT_RECONNECT is deprecated and will be removed in a future version.\n"
     ]
    },
    {
     "data": {
      "text/html": [],
      "text/plain": [
       "<IPython.core.display.HTML object>"
      ]
     },
     "metadata": {},
     "output_type": "display_data"
    },
    {
     "data": {
      "text/html": [],
      "text/plain": [
       "<IPython.core.display.HTML object>"
      ]
     },
     "metadata": {},
     "output_type": "display_data"
    },
    {
     "data": {
      "text/html": [],
      "text/plain": [
       "<IPython.core.display.HTML object>"
      ]
     },
     "metadata": {},
     "output_type": "display_data"
    },
    {
     "name": "stderr",
     "output_type": "stream",
     "text": [
      "WARNING: MYSQL_OPT_RECONNECT is deprecated and will be removed in a future version.\n",
      "WARNING: MYSQL_OPT_RECONNECT is deprecated and will be removed in a future version.\n",
      "WARNING: MYSQL_OPT_RECONNECT is deprecated and will be removed in a future version.\n",
      "WARNING: MYSQL_OPT_RECONNECT is deprecated and will be removed in a future version.\n",
      "WARNING: MYSQL_OPT_RECONNECT is deprecated and will be removed in a future version.\n",
      "WARNING: MYSQL_OPT_RECONNECT is deprecated and will be removed in a future version.\n",
      "WARNING: MYSQL_OPT_RECONNECT is deprecated and will be removed in a future version.\n",
      "[I 2023-08-27 22:59:46,738] Trial 34 finished with value: -0.05054917623564653 and parameters: {'contamination': 0.00411907344145805, 'max_features': 0.16444335007817973, 'max_samples': 0.8536215151632164, 'n_estimators': 425}. Best is trial 25 with value: -0.08112830753869196.\n",
      "WARNING: MYSQL_OPT_RECONNECT is deprecated and will be removed in a future version.\n",
      "WARNING: MYSQL_OPT_RECONNECT is deprecated and will be removed in a future version.\n",
      "WARNING: MYSQL_OPT_RECONNECT is deprecated and will be removed in a future version.\n",
      "WARNING: MYSQL_OPT_RECONNECT is deprecated and will be removed in a future version.\n",
      "WARNING: MYSQL_OPT_RECONNECT is deprecated and will be removed in a future version.\n",
      "WARNING: MYSQL_OPT_RECONNECT is deprecated and will be removed in a future version.\n",
      "WARNING: MYSQL_OPT_RECONNECT is deprecated and will be removed in a future version.\n",
      "WARNING: MYSQL_OPT_RECONNECT is deprecated and will be removed in a future version.\n"
     ]
    },
    {
     "data": {
      "text/html": [],
      "text/plain": [
       "<IPython.core.display.HTML object>"
      ]
     },
     "metadata": {},
     "output_type": "display_data"
    },
    {
     "data": {
      "text/html": [],
      "text/plain": [
       "<IPython.core.display.HTML object>"
      ]
     },
     "metadata": {},
     "output_type": "display_data"
    },
    {
     "data": {
      "text/html": [],
      "text/plain": [
       "<IPython.core.display.HTML object>"
      ]
     },
     "metadata": {},
     "output_type": "display_data"
    },
    {
     "name": "stderr",
     "output_type": "stream",
     "text": [
      "WARNING: MYSQL_OPT_RECONNECT is deprecated and will be removed in a future version.\n",
      "WARNING: MYSQL_OPT_RECONNECT is deprecated and will be removed in a future version.\n",
      "WARNING: MYSQL_OPT_RECONNECT is deprecated and will be removed in a future version.\n",
      "WARNING: MYSQL_OPT_RECONNECT is deprecated and will be removed in a future version.\n",
      "WARNING: MYSQL_OPT_RECONNECT is deprecated and will be removed in a future version.\n",
      "WARNING: MYSQL_OPT_RECONNECT is deprecated and will be removed in a future version.\n",
      "WARNING: MYSQL_OPT_RECONNECT is deprecated and will be removed in a future version.\n",
      "[I 2023-08-27 23:00:17,204] Trial 36 finished with value: -0.031827259111333 and parameters: {'contamination': 0.0112781656393645, 'max_features': 0.3102057920703975, 'max_samples': 0.9319001780570679, 'n_estimators': 465}. Best is trial 25 with value: -0.08112830753869196.\n",
      "WARNING: MYSQL_OPT_RECONNECT is deprecated and will be removed in a future version.\n",
      "WARNING: MYSQL_OPT_RECONNECT is deprecated and will be removed in a future version.\n",
      "WARNING: MYSQL_OPT_RECONNECT is deprecated and will be removed in a future version.\n",
      "WARNING: MYSQL_OPT_RECONNECT is deprecated and will be removed in a future version.\n",
      "WARNING: MYSQL_OPT_RECONNECT is deprecated and will be removed in a future version.\n",
      "WARNING: MYSQL_OPT_RECONNECT is deprecated and will be removed in a future version.\n",
      "WARNING: MYSQL_OPT_RECONNECT is deprecated and will be removed in a future version.\n",
      "WARNING: MYSQL_OPT_RECONNECT is deprecated and will be removed in a future version.\n"
     ]
    },
    {
     "data": {
      "text/html": [],
      "text/plain": [
       "<IPython.core.display.HTML object>"
      ]
     },
     "metadata": {},
     "output_type": "display_data"
    },
    {
     "data": {
      "text/html": [],
      "text/plain": [
       "<IPython.core.display.HTML object>"
      ]
     },
     "metadata": {},
     "output_type": "display_data"
    },
    {
     "data": {
      "text/html": [],
      "text/plain": [
       "<IPython.core.display.HTML object>"
      ]
     },
     "metadata": {},
     "output_type": "display_data"
    },
    {
     "name": "stderr",
     "output_type": "stream",
     "text": [
      "WARNING: MYSQL_OPT_RECONNECT is deprecated and will be removed in a future version.\n",
      "WARNING: MYSQL_OPT_RECONNECT is deprecated and will be removed in a future version.\n",
      "WARNING: MYSQL_OPT_RECONNECT is deprecated and will be removed in a future version.\n",
      "WARNING: MYSQL_OPT_RECONNECT is deprecated and will be removed in a future version.\n",
      "WARNING: MYSQL_OPT_RECONNECT is deprecated and will be removed in a future version.\n",
      "WARNING: MYSQL_OPT_RECONNECT is deprecated and will be removed in a future version.\n",
      "WARNING: MYSQL_OPT_RECONNECT is deprecated and will be removed in a future version.\n",
      "[I 2023-08-27 23:00:30,925] Trial 38 finished with value: -0.04867698452321517 and parameters: {'contamination': 0.008746482264264811, 'max_features': 0.23384825638649703, 'max_samples': 0.9991883306213147, 'n_estimators': 190}. Best is trial 25 with value: -0.08112830753869196.\n",
      "WARNING: MYSQL_OPT_RECONNECT is deprecated and will be removed in a future version.\n",
      "WARNING: MYSQL_OPT_RECONNECT is deprecated and will be removed in a future version.\n",
      "WARNING: MYSQL_OPT_RECONNECT is deprecated and will be removed in a future version.\n",
      "WARNING: MYSQL_OPT_RECONNECT is deprecated and will be removed in a future version.\n",
      "WARNING: MYSQL_OPT_RECONNECT is deprecated and will be removed in a future version.\n",
      "WARNING: MYSQL_OPT_RECONNECT is deprecated and will be removed in a future version.\n",
      "WARNING: MYSQL_OPT_RECONNECT is deprecated and will be removed in a future version.\n",
      "WARNING: MYSQL_OPT_RECONNECT is deprecated and will be removed in a future version.\n"
     ]
    },
    {
     "data": {
      "text/html": [],
      "text/plain": [
       "<IPython.core.display.HTML object>"
      ]
     },
     "metadata": {},
     "output_type": "display_data"
    },
    {
     "data": {
      "text/html": [],
      "text/plain": [
       "<IPython.core.display.HTML object>"
      ]
     },
     "metadata": {},
     "output_type": "display_data"
    },
    {
     "data": {
      "text/html": [],
      "text/plain": [
       "<IPython.core.display.HTML object>"
      ]
     },
     "metadata": {},
     "output_type": "display_data"
    },
    {
     "name": "stderr",
     "output_type": "stream",
     "text": [
      "WARNING: MYSQL_OPT_RECONNECT is deprecated and will be removed in a future version.\n",
      "WARNING: MYSQL_OPT_RECONNECT is deprecated and will be removed in a future version.\n",
      "WARNING: MYSQL_OPT_RECONNECT is deprecated and will be removed in a future version.\n",
      "WARNING: MYSQL_OPT_RECONNECT is deprecated and will be removed in a future version.\n",
      "WARNING: MYSQL_OPT_RECONNECT is deprecated and will be removed in a future version.\n",
      "WARNING: MYSQL_OPT_RECONNECT is deprecated and will be removed in a future version.\n",
      "WARNING: MYSQL_OPT_RECONNECT is deprecated and will be removed in a future version.\n",
      "[I 2023-08-27 23:00:57,351] Trial 40 finished with value: -0.07863205192211682 and parameters: {'contamination': 0.0011001182948092388, 'max_features': 0.14700879509304338, 'max_samples': 0.8799236335934286, 'n_estimators': 393}. Best is trial 25 with value: -0.08112830753869196.\n",
      "WARNING: MYSQL_OPT_RECONNECT is deprecated and will be removed in a future version.\n",
      "WARNING: MYSQL_OPT_RECONNECT is deprecated and will be removed in a future version.\n",
      "WARNING: MYSQL_OPT_RECONNECT is deprecated and will be removed in a future version.\n",
      "WARNING: MYSQL_OPT_RECONNECT is deprecated and will be removed in a future version.\n",
      "WARNING: MYSQL_OPT_RECONNECT is deprecated and will be removed in a future version.\n",
      "WARNING: MYSQL_OPT_RECONNECT is deprecated and will be removed in a future version.\n",
      "WARNING: MYSQL_OPT_RECONNECT is deprecated and will be removed in a future version.\n",
      "WARNING: MYSQL_OPT_RECONNECT is deprecated and will be removed in a future version.\n"
     ]
    },
    {
     "data": {
      "text/html": [],
      "text/plain": [
       "<IPython.core.display.HTML object>"
      ]
     },
     "metadata": {},
     "output_type": "display_data"
    },
    {
     "data": {
      "text/html": [],
      "text/plain": [
       "<IPython.core.display.HTML object>"
      ]
     },
     "metadata": {},
     "output_type": "display_data"
    },
    {
     "data": {
      "text/html": [],
      "text/plain": [
       "<IPython.core.display.HTML object>"
      ]
     },
     "metadata": {},
     "output_type": "display_data"
    },
    {
     "name": "stderr",
     "output_type": "stream",
     "text": [
      "WARNING: MYSQL_OPT_RECONNECT is deprecated and will be removed in a future version.\n",
      "WARNING: MYSQL_OPT_RECONNECT is deprecated and will be removed in a future version.\n",
      "WARNING: MYSQL_OPT_RECONNECT is deprecated and will be removed in a future version.\n",
      "WARNING: MYSQL_OPT_RECONNECT is deprecated and will be removed in a future version.\n",
      "WARNING: MYSQL_OPT_RECONNECT is deprecated and will be removed in a future version.\n",
      "WARNING: MYSQL_OPT_RECONNECT is deprecated and will be removed in a future version.\n",
      "[I 2023-08-27 23:01:53,181] Trial 42 finished with value: -0.0792561158262606 and parameters: {'contamination': 0.0032311921010746486, 'max_features': 0.14400830832541672, 'max_samples': 0.8739512442212636, 'n_estimators': 397}. Best is trial 25 with value: -0.08112830753869196.\n",
      "WARNING: MYSQL_OPT_RECONNECT is deprecated and will be removed in a future version.\n"
     ]
    },
    {
     "data": {
      "text/html": [],
      "text/plain": [
       "<IPython.core.display.HTML object>"
      ]
     },
     "metadata": {},
     "output_type": "display_data"
    },
    {
     "name": "stderr",
     "output_type": "stream",
     "text": [
      "WARNING: MYSQL_OPT_RECONNECT is deprecated and will be removed in a future version.\n",
      "WARNING: MYSQL_OPT_RECONNECT is deprecated and will be removed in a future version.\n",
      "WARNING: MYSQL_OPT_RECONNECT is deprecated and will be removed in a future version.\n",
      "WARNING: MYSQL_OPT_RECONNECT is deprecated and will be removed in a future version.\n",
      "WARNING: MYSQL_OPT_RECONNECT is deprecated and will be removed in a future version.\n",
      "WARNING: MYSQL_OPT_RECONNECT is deprecated and will be removed in a future version.\n",
      "WARNING: MYSQL_OPT_RECONNECT is deprecated and will be removed in a future version.\n",
      "WARNING: MYSQL_OPT_RECONNECT is deprecated and will be removed in a future version.\n"
     ]
    },
    {
     "data": {
      "text/html": [],
      "text/plain": [
       "<IPython.core.display.HTML object>"
      ]
     },
     "metadata": {},
     "output_type": "display_data"
    },
    {
     "data": {
      "text/html": [],
      "text/plain": [
       "<IPython.core.display.HTML object>"
      ]
     },
     "metadata": {},
     "output_type": "display_data"
    },
    {
     "name": "stderr",
     "output_type": "stream",
     "text": [
      "WARNING: MYSQL_OPT_RECONNECT is deprecated and will be removed in a future version.\n",
      "WARNING: MYSQL_OPT_RECONNECT is deprecated and will be removed in a future version.\n",
      "WARNING: MYSQL_OPT_RECONNECT is deprecated and will be removed in a future version.\n",
      "WARNING: MYSQL_OPT_RECONNECT is deprecated and will be removed in a future version.\n",
      "WARNING: MYSQL_OPT_RECONNECT is deprecated and will be removed in a future version.\n",
      "WARNING: MYSQL_OPT_RECONNECT is deprecated and will be removed in a future version.\n",
      "WARNING: MYSQL_OPT_RECONNECT is deprecated and will be removed in a future version.\n",
      "[I 2023-08-27 23:02:28,171] Trial 44 finished with value: -0.07738392411382924 and parameters: {'contamination': 0.0010268014169881796, 'max_features': 0.14004669173516177, 'max_samples': 0.8200777359333574, 'n_estimators': 394}. Best is trial 25 with value: -0.08112830753869196.\n",
      "WARNING: MYSQL_OPT_RECONNECT is deprecated and will be removed in a future version.\n",
      "WARNING: MYSQL_OPT_RECONNECT is deprecated and will be removed in a future version.\n",
      "WARNING: MYSQL_OPT_RECONNECT is deprecated and will be removed in a future version.\n",
      "WARNING: MYSQL_OPT_RECONNECT is deprecated and will be removed in a future version.\n",
      "WARNING: MYSQL_OPT_RECONNECT is deprecated and will be removed in a future version.\n",
      "WARNING: MYSQL_OPT_RECONNECT is deprecated and will be removed in a future version.\n",
      "WARNING: MYSQL_OPT_RECONNECT is deprecated and will be removed in a future version.\n",
      "WARNING: MYSQL_OPT_RECONNECT is deprecated and will be removed in a future version.\n"
     ]
    },
    {
     "data": {
      "text/html": [],
      "text/plain": [
       "<IPython.core.display.HTML object>"
      ]
     },
     "metadata": {},
     "output_type": "display_data"
    },
    {
     "data": {
      "text/html": [],
      "text/plain": [
       "<IPython.core.display.HTML object>"
      ]
     },
     "metadata": {},
     "output_type": "display_data"
    },
    {
     "data": {
      "text/html": [],
      "text/plain": [
       "<IPython.core.display.HTML object>"
      ]
     },
     "metadata": {},
     "output_type": "display_data"
    },
    {
     "name": "stderr",
     "output_type": "stream",
     "text": [
      "WARNING: MYSQL_OPT_RECONNECT is deprecated and will be removed in a future version.\n",
      "WARNING: MYSQL_OPT_RECONNECT is deprecated and will be removed in a future version.\n",
      "WARNING: MYSQL_OPT_RECONNECT is deprecated and will be removed in a future version.\n",
      "WARNING: MYSQL_OPT_RECONNECT is deprecated and will be removed in a future version.\n",
      "WARNING: MYSQL_OPT_RECONNECT is deprecated and will be removed in a future version.\n",
      "WARNING: MYSQL_OPT_RECONNECT is deprecated and will be removed in a future version.\n",
      "WARNING: MYSQL_OPT_RECONNECT is deprecated and will be removed in a future version.\n",
      "[I 2023-08-27 23:02:51,325] Trial 46 finished with value: -0.055541687468796806 and parameters: {'contamination': 0.003764260580664203, 'max_features': 0.20453755006044977, 'max_samples': 0.9413321961217328, 'n_estimators': 312}. Best is trial 25 with value: -0.08112830753869196.\n",
      "WARNING: MYSQL_OPT_RECONNECT is deprecated and will be removed in a future version.\n",
      "WARNING: MYSQL_OPT_RECONNECT is deprecated and will be removed in a future version.\n",
      "WARNING: MYSQL_OPT_RECONNECT is deprecated and will be removed in a future version.\n",
      "WARNING: MYSQL_OPT_RECONNECT is deprecated and will be removed in a future version.\n",
      "WARNING: MYSQL_OPT_RECONNECT is deprecated and will be removed in a future version.\n",
      "WARNING: MYSQL_OPT_RECONNECT is deprecated and will be removed in a future version.\n",
      "WARNING: MYSQL_OPT_RECONNECT is deprecated and will be removed in a future version.\n",
      "WARNING: MYSQL_OPT_RECONNECT is deprecated and will be removed in a future version.\n"
     ]
    },
    {
     "data": {
      "text/html": [],
      "text/plain": [
       "<IPython.core.display.HTML object>"
      ]
     },
     "metadata": {},
     "output_type": "display_data"
    },
    {
     "data": {
      "text/html": [],
      "text/plain": [
       "<IPython.core.display.HTML object>"
      ]
     },
     "metadata": {},
     "output_type": "display_data"
    },
    {
     "data": {
      "text/html": [],
      "text/plain": [
       "<IPython.core.display.HTML object>"
      ]
     },
     "metadata": {},
     "output_type": "display_data"
    },
    {
     "name": "stderr",
     "output_type": "stream",
     "text": [
      "WARNING: MYSQL_OPT_RECONNECT is deprecated and will be removed in a future version.\n",
      "WARNING: MYSQL_OPT_RECONNECT is deprecated and will be removed in a future version.\n",
      "WARNING: MYSQL_OPT_RECONNECT is deprecated and will be removed in a future version.\n",
      "WARNING: MYSQL_OPT_RECONNECT is deprecated and will be removed in a future version.\n",
      "WARNING: MYSQL_OPT_RECONNECT is deprecated and will be removed in a future version.\n",
      "WARNING: MYSQL_OPT_RECONNECT is deprecated and will be removed in a future version.\n",
      "WARNING: MYSQL_OPT_RECONNECT is deprecated and will be removed in a future version.\n",
      "[I 2023-08-27 23:03:15,309] Trial 48 finished with value: -0.03307538691962057 and parameters: {'contamination': 0.00933409583444159, 'max_features': 0.3536567062732042, 'max_samples': 0.8809123106711567, 'n_estimators': 358}. Best is trial 25 with value: -0.08112830753869196.\n",
      "WARNING: MYSQL_OPT_RECONNECT is deprecated and will be removed in a future version.\n",
      "WARNING: MYSQL_OPT_RECONNECT is deprecated and will be removed in a future version.\n",
      "WARNING: MYSQL_OPT_RECONNECT is deprecated and will be removed in a future version.\n",
      "WARNING: MYSQL_OPT_RECONNECT is deprecated and will be removed in a future version.\n",
      "WARNING: MYSQL_OPT_RECONNECT is deprecated and will be removed in a future version.\n",
      "WARNING: MYSQL_OPT_RECONNECT is deprecated and will be removed in a future version.\n",
      "WARNING: MYSQL_OPT_RECONNECT is deprecated and will be removed in a future version.\n",
      "WARNING: MYSQL_OPT_RECONNECT is deprecated and will be removed in a future version.\n"
     ]
    },
    {
     "data": {
      "text/html": [],
      "text/plain": [
       "<IPython.core.display.HTML object>"
      ]
     },
     "metadata": {},
     "output_type": "display_data"
    },
    {
     "data": {
      "text/html": [],
      "text/plain": [
       "<IPython.core.display.HTML object>"
      ]
     },
     "metadata": {},
     "output_type": "display_data"
    },
    {
     "data": {
      "text/html": [],
      "text/plain": [
       "<IPython.core.display.HTML object>"
      ]
     },
     "metadata": {},
     "output_type": "display_data"
    },
    {
     "name": "stderr",
     "output_type": "stream",
     "text": [
      "WARNING: MYSQL_OPT_RECONNECT is deprecated and will be removed in a future version.\n",
      "WARNING: MYSQL_OPT_RECONNECT is deprecated and will be removed in a future version.\n",
      "WARNING: MYSQL_OPT_RECONNECT is deprecated and will be removed in a future version.\n",
      "WARNING: MYSQL_OPT_RECONNECT is deprecated and will be removed in a future version.\n",
      "WARNING: MYSQL_OPT_RECONNECT is deprecated and will be removed in a future version.\n",
      "WARNING: MYSQL_OPT_RECONNECT is deprecated and will be removed in a future version.\n",
      "WARNING: MYSQL_OPT_RECONNECT is deprecated and will be removed in a future version.\n",
      "[I 2023-08-27 23:03:34,631] Trial 50 finished with value: -0.044932601098352475 and parameters: {'contamination': 0.006013920029737437, 'max_features': 0.2644012239392821, 'max_samples': 0.7970375608953549, 'n_estimators': 286}. Best is trial 25 with value: -0.08112830753869196.\n",
      "WARNING: MYSQL_OPT_RECONNECT is deprecated and will be removed in a future version.\n",
      "WARNING: MYSQL_OPT_RECONNECT is deprecated and will be removed in a future version.\n",
      "WARNING: MYSQL_OPT_RECONNECT is deprecated and will be removed in a future version.\n",
      "WARNING: MYSQL_OPT_RECONNECT is deprecated and will be removed in a future version.\n",
      "WARNING: MYSQL_OPT_RECONNECT is deprecated and will be removed in a future version.\n",
      "WARNING: MYSQL_OPT_RECONNECT is deprecated and will be removed in a future version.\n",
      "WARNING: MYSQL_OPT_RECONNECT is deprecated and will be removed in a future version.\n",
      "WARNING: MYSQL_OPT_RECONNECT is deprecated and will be removed in a future version.\n"
     ]
    },
    {
     "data": {
      "text/html": [],
      "text/plain": [
       "<IPython.core.display.HTML object>"
      ]
     },
     "metadata": {},
     "output_type": "display_data"
    },
    {
     "data": {
      "text/html": [],
      "text/plain": [
       "<IPython.core.display.HTML object>"
      ]
     },
     "metadata": {},
     "output_type": "display_data"
    },
    {
     "data": {
      "text/html": [],
      "text/plain": [
       "<IPython.core.display.HTML object>"
      ]
     },
     "metadata": {},
     "output_type": "display_data"
    },
    {
     "name": "stderr",
     "output_type": "stream",
     "text": [
      "WARNING: MYSQL_OPT_RECONNECT is deprecated and will be removed in a future version.\n",
      "WARNING: MYSQL_OPT_RECONNECT is deprecated and will be removed in a future version.\n",
      "WARNING: MYSQL_OPT_RECONNECT is deprecated and will be removed in a future version.\n",
      "WARNING: MYSQL_OPT_RECONNECT is deprecated and will be removed in a future version.\n",
      "WARNING: MYSQL_OPT_RECONNECT is deprecated and will be removed in a future version.\n",
      "WARNING: MYSQL_OPT_RECONNECT is deprecated and will be removed in a future version.\n",
      "WARNING: MYSQL_OPT_RECONNECT is deprecated and will be removed in a future version.\n",
      "[I 2023-08-27 23:04:05,033] Trial 52 finished with value: -0.07675986020968546 and parameters: {'contamination': 0.0024964151258430357, 'max_features': 0.14809535398938037, 'max_samples': 0.8598448839979038, 'n_estimators': 434}. Best is trial 25 with value: -0.08112830753869196.\n",
      "WARNING: MYSQL_OPT_RECONNECT is deprecated and will be removed in a future version.\n",
      "WARNING: MYSQL_OPT_RECONNECT is deprecated and will be removed in a future version.\n",
      "WARNING: MYSQL_OPT_RECONNECT is deprecated and will be removed in a future version.\n",
      "WARNING: MYSQL_OPT_RECONNECT is deprecated and will be removed in a future version.\n",
      "WARNING: MYSQL_OPT_RECONNECT is deprecated and will be removed in a future version.\n",
      "WARNING: MYSQL_OPT_RECONNECT is deprecated and will be removed in a future version.\n",
      "WARNING: MYSQL_OPT_RECONNECT is deprecated and will be removed in a future version.\n",
      "WARNING: MYSQL_OPT_RECONNECT is deprecated and will be removed in a future version.\n"
     ]
    },
    {
     "data": {
      "text/html": [],
      "text/plain": [
       "<IPython.core.display.HTML object>"
      ]
     },
     "metadata": {},
     "output_type": "display_data"
    },
    {
     "data": {
      "text/html": [],
      "text/plain": [
       "<IPython.core.display.HTML object>"
      ]
     },
     "metadata": {},
     "output_type": "display_data"
    },
    {
     "data": {
      "text/html": [],
      "text/plain": [
       "<IPython.core.display.HTML object>"
      ]
     },
     "metadata": {},
     "output_type": "display_data"
    },
    {
     "name": "stderr",
     "output_type": "stream",
     "text": [
      "WARNING: MYSQL_OPT_RECONNECT is deprecated and will be removed in a future version.\n",
      "WARNING: MYSQL_OPT_RECONNECT is deprecated and will be removed in a future version.\n",
      "WARNING: MYSQL_OPT_RECONNECT is deprecated and will be removed in a future version.\n",
      "WARNING: MYSQL_OPT_RECONNECT is deprecated and will be removed in a future version.\n",
      "WARNING: MYSQL_OPT_RECONNECT is deprecated and will be removed in a future version.\n",
      "WARNING: MYSQL_OPT_RECONNECT is deprecated and will be removed in a future version.\n",
      "WARNING: MYSQL_OPT_RECONNECT is deprecated and will be removed in a future version.\n",
      "[I 2023-08-27 23:04:30,777] Trial 54 finished with value: -0.07675986020968546 and parameters: {'contamination': 0.003094762347068153, 'max_features': 0.13874207297985025, 'max_samples': 0.8281881455857584, 'n_estimators': 379}. Best is trial 25 with value: -0.08112830753869196.\n",
      "WARNING: MYSQL_OPT_RECONNECT is deprecated and will be removed in a future version.\n",
      "WARNING: MYSQL_OPT_RECONNECT is deprecated and will be removed in a future version.\n",
      "WARNING: MYSQL_OPT_RECONNECT is deprecated and will be removed in a future version.\n",
      "WARNING: MYSQL_OPT_RECONNECT is deprecated and will be removed in a future version.\n",
      "WARNING: MYSQL_OPT_RECONNECT is deprecated and will be removed in a future version.\n",
      "WARNING: MYSQL_OPT_RECONNECT is deprecated and will be removed in a future version.\n",
      "WARNING: MYSQL_OPT_RECONNECT is deprecated and will be removed in a future version.\n",
      "WARNING: MYSQL_OPT_RECONNECT is deprecated and will be removed in a future version.\n"
     ]
    },
    {
     "data": {
      "text/html": [],
      "text/plain": [
       "<IPython.core.display.HTML object>"
      ]
     },
     "metadata": {},
     "output_type": "display_data"
    },
    {
     "data": {
      "text/html": [],
      "text/plain": [
       "<IPython.core.display.HTML object>"
      ]
     },
     "metadata": {},
     "output_type": "display_data"
    },
    {
     "data": {
      "text/html": [],
      "text/plain": [
       "<IPython.core.display.HTML object>"
      ]
     },
     "metadata": {},
     "output_type": "display_data"
    },
    {
     "name": "stderr",
     "output_type": "stream",
     "text": [
      "WARNING: MYSQL_OPT_RECONNECT is deprecated and will be removed in a future version.\n",
      "WARNING: MYSQL_OPT_RECONNECT is deprecated and will be removed in a future version.\n",
      "WARNING: MYSQL_OPT_RECONNECT is deprecated and will be removed in a future version.\n",
      "WARNING: MYSQL_OPT_RECONNECT is deprecated and will be removed in a future version.\n",
      "WARNING: MYSQL_OPT_RECONNECT is deprecated and will be removed in a future version.\n",
      "WARNING: MYSQL_OPT_RECONNECT is deprecated and will be removed in a future version.\n",
      "WARNING: MYSQL_OPT_RECONNECT is deprecated and will be removed in a future version.\n",
      "[I 2023-08-27 23:04:53,538] Trial 56 finished with value: -0.05366949575636545 and parameters: {'contamination': 0.007421176609062007, 'max_features': 0.19317093103316757, 'max_samples': 0.9089374638665433, 'n_estimators': 337}. Best is trial 25 with value: -0.08112830753869196.\n",
      "WARNING: MYSQL_OPT_RECONNECT is deprecated and will be removed in a future version.\n",
      "WARNING: MYSQL_OPT_RECONNECT is deprecated and will be removed in a future version.\n",
      "WARNING: MYSQL_OPT_RECONNECT is deprecated and will be removed in a future version.\n",
      "WARNING: MYSQL_OPT_RECONNECT is deprecated and will be removed in a future version.\n",
      "WARNING: MYSQL_OPT_RECONNECT is deprecated and will be removed in a future version.\n",
      "WARNING: MYSQL_OPT_RECONNECT is deprecated and will be removed in a future version.\n",
      "WARNING: MYSQL_OPT_RECONNECT is deprecated and will be removed in a future version.\n",
      "WARNING: MYSQL_OPT_RECONNECT is deprecated and will be removed in a future version.\n"
     ]
    },
    {
     "data": {
      "text/html": [],
      "text/plain": [
       "<IPython.core.display.HTML object>"
      ]
     },
     "metadata": {},
     "output_type": "display_data"
    },
    {
     "data": {
      "text/html": [],
      "text/plain": [
       "<IPython.core.display.HTML object>"
      ]
     },
     "metadata": {},
     "output_type": "display_data"
    },
    {
     "data": {
      "text/html": [],
      "text/plain": [
       "<IPython.core.display.HTML object>"
      ]
     },
     "metadata": {},
     "output_type": "display_data"
    },
    {
     "name": "stderr",
     "output_type": "stream",
     "text": [
      "WARNING: MYSQL_OPT_RECONNECT is deprecated and will be removed in a future version.\n",
      "WARNING: MYSQL_OPT_RECONNECT is deprecated and will be removed in a future version.\n",
      "WARNING: MYSQL_OPT_RECONNECT is deprecated and will be removed in a future version.\n",
      "WARNING: MYSQL_OPT_RECONNECT is deprecated and will be removed in a future version.\n",
      "WARNING: MYSQL_OPT_RECONNECT is deprecated and will be removed in a future version.\n",
      "WARNING: MYSQL_OPT_RECONNECT is deprecated and will be removed in a future version.\n",
      "WARNING: MYSQL_OPT_RECONNECT is deprecated and will be removed in a future version.\n",
      "[I 2023-08-27 23:04:58,553] Trial 58 finished with value: -0.07488766849725412 and parameters: {'contamination': 0.005163827299688518, 'max_features': 0.13348684536051725, 'max_samples': 0.7857624259101721, 'n_estimators': 70}. Best is trial 25 with value: -0.08112830753869196.\n",
      "WARNING: MYSQL_OPT_RECONNECT is deprecated and will be removed in a future version.\n",
      "WARNING: MYSQL_OPT_RECONNECT is deprecated and will be removed in a future version.\n",
      "WARNING: MYSQL_OPT_RECONNECT is deprecated and will be removed in a future version.\n",
      "WARNING: MYSQL_OPT_RECONNECT is deprecated and will be removed in a future version.\n",
      "WARNING: MYSQL_OPT_RECONNECT is deprecated and will be removed in a future version.\n",
      "WARNING: MYSQL_OPT_RECONNECT is deprecated and will be removed in a future version.\n",
      "WARNING: MYSQL_OPT_RECONNECT is deprecated and will be removed in a future version.\n",
      "WARNING: MYSQL_OPT_RECONNECT is deprecated and will be removed in a future version.\n"
     ]
    },
    {
     "data": {
      "text/html": [],
      "text/plain": [
       "<IPython.core.display.HTML object>"
      ]
     },
     "metadata": {},
     "output_type": "display_data"
    },
    {
     "data": {
      "text/html": [],
      "text/plain": [
       "<IPython.core.display.HTML object>"
      ]
     },
     "metadata": {},
     "output_type": "display_data"
    },
    {
     "data": {
      "text/html": [],
      "text/plain": [
       "<IPython.core.display.HTML object>"
      ]
     },
     "metadata": {},
     "output_type": "display_data"
    },
    {
     "name": "stderr",
     "output_type": "stream",
     "text": [
      "WARNING: MYSQL_OPT_RECONNECT is deprecated and will be removed in a future version.\n",
      "WARNING: MYSQL_OPT_RECONNECT is deprecated and will be removed in a future version.\n",
      "WARNING: MYSQL_OPT_RECONNECT is deprecated and will be removed in a future version.\n",
      "WARNING: MYSQL_OPT_RECONNECT is deprecated and will be removed in a future version.\n",
      "WARNING: MYSQL_OPT_RECONNECT is deprecated and will be removed in a future version.\n",
      "WARNING: MYSQL_OPT_RECONNECT is deprecated and will be removed in a future version.\n",
      "WARNING: MYSQL_OPT_RECONNECT is deprecated and will be removed in a future version.\n",
      "[I 2023-08-27 23:05:21,886] Trial 59 finished with value: -0.0792561158262606 and parameters: {'contamination': 0.007726556712915085, 'max_features': 0.1036109544905425, 'max_samples': 0.9106117807621729, 'n_estimators': 347}. Best is trial 25 with value: -0.08112830753869196.\n",
      "WARNING: MYSQL_OPT_RECONNECT is deprecated and will be removed in a future version.\n",
      "WARNING: MYSQL_OPT_RECONNECT is deprecated and will be removed in a future version.\n",
      "WARNING: MYSQL_OPT_RECONNECT is deprecated and will be removed in a future version.\n",
      "WARNING: MYSQL_OPT_RECONNECT is deprecated and will be removed in a future version.\n",
      "WARNING: MYSQL_OPT_RECONNECT is deprecated and will be removed in a future version.\n",
      "WARNING: MYSQL_OPT_RECONNECT is deprecated and will be removed in a future version.\n",
      "WARNING: MYSQL_OPT_RECONNECT is deprecated and will be removed in a future version.\n",
      "WARNING: MYSQL_OPT_RECONNECT is deprecated and will be removed in a future version.\n"
     ]
    },
    {
     "data": {
      "text/html": [],
      "text/plain": [
       "<IPython.core.display.HTML object>"
      ]
     },
     "metadata": {},
     "output_type": "display_data"
    },
    {
     "data": {
      "text/html": [],
      "text/plain": [
       "<IPython.core.display.HTML object>"
      ]
     },
     "metadata": {},
     "output_type": "display_data"
    },
    {
     "data": {
      "text/html": [],
      "text/plain": [
       "<IPython.core.display.HTML object>"
      ]
     },
     "metadata": {},
     "output_type": "display_data"
    },
    {
     "name": "stderr",
     "output_type": "stream",
     "text": [
      "WARNING: MYSQL_OPT_RECONNECT is deprecated and will be removed in a future version.\n",
      "WARNING: MYSQL_OPT_RECONNECT is deprecated and will be removed in a future version.\n",
      "WARNING: MYSQL_OPT_RECONNECT is deprecated and will be removed in a future version.\n",
      "WARNING: MYSQL_OPT_RECONNECT is deprecated and will be removed in a future version.\n",
      "WARNING: MYSQL_OPT_RECONNECT is deprecated and will be removed in a future version.\n",
      "WARNING: MYSQL_OPT_RECONNECT is deprecated and will be removed in a future version.\n",
      "WARNING: MYSQL_OPT_RECONNECT is deprecated and will be removed in a future version.\n",
      "[I 2023-08-27 23:05:45,599] Trial 61 finished with value: -0.05616575137294059 and parameters: {'contamination': 0.004571483368734201, 'max_features': 0.17114029455057522, 'max_samples': 0.9719012175163927, 'n_estimators': 296}. Best is trial 25 with value: -0.08112830753869196.\n",
      "WARNING: MYSQL_OPT_RECONNECT is deprecated and will be removed in a future version.\n",
      "WARNING: MYSQL_OPT_RECONNECT is deprecated and will be removed in a future version.\n",
      "WARNING: MYSQL_OPT_RECONNECT is deprecated and will be removed in a future version.\n",
      "WARNING: MYSQL_OPT_RECONNECT is deprecated and will be removed in a future version.\n",
      "WARNING: MYSQL_OPT_RECONNECT is deprecated and will be removed in a future version.\n",
      "WARNING: MYSQL_OPT_RECONNECT is deprecated and will be removed in a future version.\n",
      "WARNING: MYSQL_OPT_RECONNECT is deprecated and will be removed in a future version.\n",
      "WARNING: MYSQL_OPT_RECONNECT is deprecated and will be removed in a future version.\n"
     ]
    },
    {
     "data": {
      "text/html": [],
      "text/plain": [
       "<IPython.core.display.HTML object>"
      ]
     },
     "metadata": {},
     "output_type": "display_data"
    },
    {
     "data": {
      "text/html": [],
      "text/plain": [
       "<IPython.core.display.HTML object>"
      ]
     },
     "metadata": {},
     "output_type": "display_data"
    },
    {
     "data": {
      "text/html": [],
      "text/plain": [
       "<IPython.core.display.HTML object>"
      ]
     },
     "metadata": {},
     "output_type": "display_data"
    },
    {
     "name": "stderr",
     "output_type": "stream",
     "text": [
      "WARNING: MYSQL_OPT_RECONNECT is deprecated and will be removed in a future version.\n",
      "WARNING: MYSQL_OPT_RECONNECT is deprecated and will be removed in a future version.\n",
      "WARNING: MYSQL_OPT_RECONNECT is deprecated and will be removed in a future version.\n",
      "WARNING: MYSQL_OPT_RECONNECT is deprecated and will be removed in a future version.\n",
      "WARNING: MYSQL_OPT_RECONNECT is deprecated and will be removed in a future version.\n",
      "WARNING: MYSQL_OPT_RECONNECT is deprecated and will be removed in a future version.\n",
      "WARNING: MYSQL_OPT_RECONNECT is deprecated and will be removed in a future version.\n",
      "[I 2023-08-27 23:06:16,999] Trial 64 finished with value: -0.07863205192211682 and parameters: {'contamination': 0.0011677242115879177, 'max_features': 0.1243078039339957, 'max_samples': 0.9038304188485362, 'n_estimators': 348}. Best is trial 25 with value: -0.08112830753869196.\n",
      "WARNING: MYSQL_OPT_RECONNECT is deprecated and will be removed in a future version.\n",
      "WARNING: MYSQL_OPT_RECONNECT is deprecated and will be removed in a future version.\n",
      "WARNING: MYSQL_OPT_RECONNECT is deprecated and will be removed in a future version.\n",
      "WARNING: MYSQL_OPT_RECONNECT is deprecated and will be removed in a future version.\n",
      "WARNING: MYSQL_OPT_RECONNECT is deprecated and will be removed in a future version.\n",
      "WARNING: MYSQL_OPT_RECONNECT is deprecated and will be removed in a future version.\n",
      "WARNING: MYSQL_OPT_RECONNECT is deprecated and will be removed in a future version.\n",
      "WARNING: MYSQL_OPT_RECONNECT is deprecated and will be removed in a future version.\n"
     ]
    },
    {
     "data": {
      "text/html": [],
      "text/plain": [
       "<IPython.core.display.HTML object>"
      ]
     },
     "metadata": {},
     "output_type": "display_data"
    },
    {
     "data": {
      "text/html": [],
      "text/plain": [
       "<IPython.core.display.HTML object>"
      ]
     },
     "metadata": {},
     "output_type": "display_data"
    },
    {
     "data": {
      "text/html": [],
      "text/plain": [
       "<IPython.core.display.HTML object>"
      ]
     },
     "metadata": {},
     "output_type": "display_data"
    },
    {
     "name": "stderr",
     "output_type": "stream",
     "text": [
      "WARNING: MYSQL_OPT_RECONNECT is deprecated and will be removed in a future version.\n",
      "WARNING: MYSQL_OPT_RECONNECT is deprecated and will be removed in a future version.\n",
      "WARNING: MYSQL_OPT_RECONNECT is deprecated and will be removed in a future version.\n",
      "WARNING: MYSQL_OPT_RECONNECT is deprecated and will be removed in a future version.\n",
      "WARNING: MYSQL_OPT_RECONNECT is deprecated and will be removed in a future version.\n",
      "WARNING: MYSQL_OPT_RECONNECT is deprecated and will be removed in a future version.\n",
      "WARNING: MYSQL_OPT_RECONNECT is deprecated and will be removed in a future version.\n",
      "[I 2023-08-27 23:06:45,998] Trial 65 finished with value: -0.0792561158262606 and parameters: {'contamination': 0.00675546520806675, 'max_features': 0.12097886411957637, 'max_samples': 0.9107400417401776, 'n_estimators': 323}. Best is trial 25 with value: -0.08112830753869196.\n",
      "WARNING: MYSQL_OPT_RECONNECT is deprecated and will be removed in a future version.\n",
      "WARNING: MYSQL_OPT_RECONNECT is deprecated and will be removed in a future version.\n",
      "WARNING: MYSQL_OPT_RECONNECT is deprecated and will be removed in a future version.\n",
      "WARNING: MYSQL_OPT_RECONNECT is deprecated and will be removed in a future version.\n",
      "WARNING: MYSQL_OPT_RECONNECT is deprecated and will be removed in a future version.\n",
      "WARNING: MYSQL_OPT_RECONNECT is deprecated and will be removed in a future version.\n",
      "WARNING: MYSQL_OPT_RECONNECT is deprecated and will be removed in a future version.\n",
      "WARNING: MYSQL_OPT_RECONNECT is deprecated and will be removed in a future version.\n"
     ]
    },
    {
     "data": {
      "text/html": [],
      "text/plain": [
       "<IPython.core.display.HTML object>"
      ]
     },
     "metadata": {},
     "output_type": "display_data"
    },
    {
     "data": {
      "text/html": [],
      "text/plain": [
       "<IPython.core.display.HTML object>"
      ]
     },
     "metadata": {},
     "output_type": "display_data"
    },
    {
     "data": {
      "text/html": [],
      "text/plain": [
       "<IPython.core.display.HTML object>"
      ]
     },
     "metadata": {},
     "output_type": "display_data"
    },
    {
     "name": "stderr",
     "output_type": "stream",
     "text": [
      "WARNING: MYSQL_OPT_RECONNECT is deprecated and will be removed in a future version.\n",
      "WARNING: MYSQL_OPT_RECONNECT is deprecated and will be removed in a future version.\n",
      "WARNING: MYSQL_OPT_RECONNECT is deprecated and will be removed in a future version.\n",
      "WARNING: MYSQL_OPT_RECONNECT is deprecated and will be removed in a future version.\n",
      "WARNING: MYSQL_OPT_RECONNECT is deprecated and will be removed in a future version.\n",
      "WARNING: MYSQL_OPT_RECONNECT is deprecated and will be removed in a future version.\n",
      "WARNING: MYSQL_OPT_RECONNECT is deprecated and will be removed in a future version.\n",
      "[I 2023-08-27 23:12:00,466] Trial 67 finished with value: -0.055541687468796806 and parameters: {'contamination': 0.012358316496992004, 'max_features': 0.17863445316423548, 'max_samples': 0.8672397404937485, 'n_estimators': 314}. Best is trial 25 with value: -0.08112830753869196.\n",
      "WARNING: MYSQL_OPT_RECONNECT is deprecated and will be removed in a future version.\n",
      "WARNING: MYSQL_OPT_RECONNECT is deprecated and will be removed in a future version.\n",
      "WARNING: MYSQL_OPT_RECONNECT is deprecated and will be removed in a future version.\n",
      "WARNING: MYSQL_OPT_RECONNECT is deprecated and will be removed in a future version.\n",
      "WARNING: MYSQL_OPT_RECONNECT is deprecated and will be removed in a future version.\n",
      "WARNING: MYSQL_OPT_RECONNECT is deprecated and will be removed in a future version.\n",
      "WARNING: MYSQL_OPT_RECONNECT is deprecated and will be removed in a future version.\n",
      "WARNING: MYSQL_OPT_RECONNECT is deprecated and will be removed in a future version.\n"
     ]
    },
    {
     "data": {
      "text/html": [],
      "text/plain": [
       "<IPython.core.display.HTML object>"
      ]
     },
     "metadata": {},
     "output_type": "display_data"
    },
    {
     "data": {
      "text/html": [],
      "text/plain": [
       "<IPython.core.display.HTML object>"
      ]
     },
     "metadata": {},
     "output_type": "display_data"
    },
    {
     "data": {
      "text/html": [],
      "text/plain": [
       "<IPython.core.display.HTML object>"
      ]
     },
     "metadata": {},
     "output_type": "display_data"
    },
    {
     "name": "stderr",
     "output_type": "stream",
     "text": [
      "WARNING: MYSQL_OPT_RECONNECT is deprecated and will be removed in a future version.\n",
      "WARNING: MYSQL_OPT_RECONNECT is deprecated and will be removed in a future version.\n",
      "WARNING: MYSQL_OPT_RECONNECT is deprecated and will be removed in a future version.\n",
      "WARNING: MYSQL_OPT_RECONNECT is deprecated and will be removed in a future version.\n",
      "WARNING: MYSQL_OPT_RECONNECT is deprecated and will be removed in a future version.\n",
      "WARNING: MYSQL_OPT_RECONNECT is deprecated and will be removed in a future version.\n",
      "WARNING: MYSQL_OPT_RECONNECT is deprecated and will be removed in a future version.\n",
      "[I 2023-08-27 23:15:32,128] Trial 70 finished with value: -0.05678981527708438 and parameters: {'contamination': 0.006649247172491082, 'max_features': 0.16498868479722253, 'max_samples': 0.9679132959397753, 'n_estimators': 344}. Best is trial 25 with value: -0.08112830753869196.\n",
      "WARNING: MYSQL_OPT_RECONNECT is deprecated and will be removed in a future version.\n",
      "WARNING: MYSQL_OPT_RECONNECT is deprecated and will be removed in a future version.\n",
      "WARNING: MYSQL_OPT_RECONNECT is deprecated and will be removed in a future version.\n",
      "WARNING: MYSQL_OPT_RECONNECT is deprecated and will be removed in a future version.\n",
      "WARNING: MYSQL_OPT_RECONNECT is deprecated and will be removed in a future version.\n",
      "WARNING: MYSQL_OPT_RECONNECT is deprecated and will be removed in a future version.\n",
      "WARNING: MYSQL_OPT_RECONNECT is deprecated and will be removed in a future version.\n",
      "WARNING: MYSQL_OPT_RECONNECT is deprecated and will be removed in a future version.\n"
     ]
    },
    {
     "data": {
      "text/html": [],
      "text/plain": [
       "<IPython.core.display.HTML object>"
      ]
     },
     "metadata": {},
     "output_type": "display_data"
    },
    {
     "data": {
      "text/html": [],
      "text/plain": [
       "<IPython.core.display.HTML object>"
      ]
     },
     "metadata": {},
     "output_type": "display_data"
    },
    {
     "data": {
      "text/html": [],
      "text/plain": [
       "<IPython.core.display.HTML object>"
      ]
     },
     "metadata": {},
     "output_type": "display_data"
    },
    {
     "name": "stderr",
     "output_type": "stream",
     "text": [
      "WARNING: MYSQL_OPT_RECONNECT is deprecated and will be removed in a future version.\n",
      "WARNING: MYSQL_OPT_RECONNECT is deprecated and will be removed in a future version.\n",
      "WARNING: MYSQL_OPT_RECONNECT is deprecated and will be removed in a future version.\n",
      "WARNING: MYSQL_OPT_RECONNECT is deprecated and will be removed in a future version.\n",
      "WARNING: MYSQL_OPT_RECONNECT is deprecated and will be removed in a future version.\n",
      "WARNING: MYSQL_OPT_RECONNECT is deprecated and will be removed in a future version.\n",
      "WARNING: MYSQL_OPT_RECONNECT is deprecated and will be removed in a future version.\n",
      "[I 2023-08-27 23:16:44,866] Trial 73 finished with value: -0.0798801797304044 and parameters: {'contamination': 0.0044697916863521234, 'max_features': 0.12798428588566255, 'max_samples': 0.8981193360231732, 'n_estimators': 351}. Best is trial 25 with value: -0.08112830753869196.\n",
      "WARNING: MYSQL_OPT_RECONNECT is deprecated and will be removed in a future version.\n",
      "WARNING: MYSQL_OPT_RECONNECT is deprecated and will be removed in a future version.\n",
      "WARNING: MYSQL_OPT_RECONNECT is deprecated and will be removed in a future version.\n",
      "WARNING: MYSQL_OPT_RECONNECT is deprecated and will be removed in a future version.\n",
      "WARNING: MYSQL_OPT_RECONNECT is deprecated and will be removed in a future version.\n",
      "WARNING: MYSQL_OPT_RECONNECT is deprecated and will be removed in a future version.\n",
      "WARNING: MYSQL_OPT_RECONNECT is deprecated and will be removed in a future version.\n",
      "WARNING: MYSQL_OPT_RECONNECT is deprecated and will be removed in a future version.\n"
     ]
    },
    {
     "data": {
      "text/html": [],
      "text/plain": [
       "<IPython.core.display.HTML object>"
      ]
     },
     "metadata": {},
     "output_type": "display_data"
    },
    {
     "data": {
      "text/html": [],
      "text/plain": [
       "<IPython.core.display.HTML object>"
      ]
     },
     "metadata": {},
     "output_type": "display_data"
    },
    {
     "data": {
      "text/html": [],
      "text/plain": [
       "<IPython.core.display.HTML object>"
      ]
     },
     "metadata": {},
     "output_type": "display_data"
    },
    {
     "name": "stderr",
     "output_type": "stream",
     "text": [
      "WARNING: MYSQL_OPT_RECONNECT is deprecated and will be removed in a future version.\n",
      "WARNING: MYSQL_OPT_RECONNECT is deprecated and will be removed in a future version.\n",
      "WARNING: MYSQL_OPT_RECONNECT is deprecated and will be removed in a future version.\n",
      "WARNING: MYSQL_OPT_RECONNECT is deprecated and will be removed in a future version.\n",
      "WARNING: MYSQL_OPT_RECONNECT is deprecated and will be removed in a future version.\n",
      "WARNING: MYSQL_OPT_RECONNECT is deprecated and will be removed in a future version.\n",
      "WARNING: MYSQL_OPT_RECONNECT is deprecated and will be removed in a future version.\n",
      "[I 2023-08-27 23:17:16,095] Trial 75 finished with value: -0.08112830753869196 and parameters: {'contamination': 0.008579608893652911, 'max_features': 0.1205887279926861, 'max_samples': 0.8834356348200612, 'n_estimators': 416}. Best is trial 75 with value: -0.08112830753869196.\n",
      "WARNING: MYSQL_OPT_RECONNECT is deprecated and will be removed in a future version.\n",
      "WARNING: MYSQL_OPT_RECONNECT is deprecated and will be removed in a future version.\n",
      "WARNING: MYSQL_OPT_RECONNECT is deprecated and will be removed in a future version.\n",
      "WARNING: MYSQL_OPT_RECONNECT is deprecated and will be removed in a future version.\n",
      "WARNING: MYSQL_OPT_RECONNECT is deprecated and will be removed in a future version.\n",
      "WARNING: MYSQL_OPT_RECONNECT is deprecated and will be removed in a future version.\n",
      "WARNING: MYSQL_OPT_RECONNECT is deprecated and will be removed in a future version.\n",
      "WARNING: MYSQL_OPT_RECONNECT is deprecated and will be removed in a future version.\n"
     ]
    },
    {
     "data": {
      "text/html": [],
      "text/plain": [
       "<IPython.core.display.HTML object>"
      ]
     },
     "metadata": {},
     "output_type": "display_data"
    },
    {
     "data": {
      "text/html": [],
      "text/plain": [
       "<IPython.core.display.HTML object>"
      ]
     },
     "metadata": {},
     "output_type": "display_data"
    },
    {
     "data": {
      "text/html": [],
      "text/plain": [
       "<IPython.core.display.HTML object>"
      ]
     },
     "metadata": {},
     "output_type": "display_data"
    },
    {
     "name": "stderr",
     "output_type": "stream",
     "text": [
      "WARNING: MYSQL_OPT_RECONNECT is deprecated and will be removed in a future version.\n",
      "WARNING: MYSQL_OPT_RECONNECT is deprecated and will be removed in a future version.\n",
      "WARNING: MYSQL_OPT_RECONNECT is deprecated and will be removed in a future version.\n",
      "WARNING: MYSQL_OPT_RECONNECT is deprecated and will be removed in a future version.\n",
      "WARNING: MYSQL_OPT_RECONNECT is deprecated and will be removed in a future version.\n",
      "WARNING: MYSQL_OPT_RECONNECT is deprecated and will be removed in a future version.\n",
      "WARNING: MYSQL_OPT_RECONNECT is deprecated and will be removed in a future version.\n",
      "[I 2023-08-27 23:17:39,625] Trial 77 finished with value: -0.05866200698951573 and parameters: {'contamination': 0.008533241602051456, 'max_features': 0.19009511681045782, 'max_samples': 0.9470342370517334, 'n_estimators': 302}. Best is trial 75 with value: -0.08112830753869196.\n",
      "WARNING: MYSQL_OPT_RECONNECT is deprecated and will be removed in a future version.\n",
      "WARNING: MYSQL_OPT_RECONNECT is deprecated and will be removed in a future version.\n",
      "WARNING: MYSQL_OPT_RECONNECT is deprecated and will be removed in a future version.\n",
      "WARNING: MYSQL_OPT_RECONNECT is deprecated and will be removed in a future version.\n",
      "WARNING: MYSQL_OPT_RECONNECT is deprecated and will be removed in a future version.\n",
      "WARNING: MYSQL_OPT_RECONNECT is deprecated and will be removed in a future version.\n",
      "WARNING: MYSQL_OPT_RECONNECT is deprecated and will be removed in a future version.\n",
      "WARNING: MYSQL_OPT_RECONNECT is deprecated and will be removed in a future version.\n"
     ]
    },
    {
     "data": {
      "text/html": [],
      "text/plain": [
       "<IPython.core.display.HTML object>"
      ]
     },
     "metadata": {},
     "output_type": "display_data"
    },
    {
     "data": {
      "text/html": [],
      "text/plain": [
       "<IPython.core.display.HTML object>"
      ]
     },
     "metadata": {},
     "output_type": "display_data"
    },
    {
     "data": {
      "text/html": [],
      "text/plain": [
       "<IPython.core.display.HTML object>"
      ]
     },
     "metadata": {},
     "output_type": "display_data"
    },
    {
     "name": "stderr",
     "output_type": "stream",
     "text": [
      "WARNING: MYSQL_OPT_RECONNECT is deprecated and will be removed in a future version.\n",
      "WARNING: MYSQL_OPT_RECONNECT is deprecated and will be removed in a future version.\n",
      "WARNING: MYSQL_OPT_RECONNECT is deprecated and will be removed in a future version.\n",
      "WARNING: MYSQL_OPT_RECONNECT is deprecated and will be removed in a future version.\n",
      "WARNING: MYSQL_OPT_RECONNECT is deprecated and will be removed in a future version.\n",
      "WARNING: MYSQL_OPT_RECONNECT is deprecated and will be removed in a future version.\n",
      "WARNING: MYSQL_OPT_RECONNECT is deprecated and will be removed in a future version.\n",
      "[I 2023-08-27 23:18:11,222] Trial 79 finished with value: -0.0798801797304044 and parameters: {'contamination': 0.010547005407594283, 'max_features': 0.12143417515764991, 'max_samples': 0.9997745149481129, 'n_estimators': 418}. Best is trial 75 with value: -0.08112830753869196.\n",
      "WARNING: MYSQL_OPT_RECONNECT is deprecated and will be removed in a future version.\n",
      "WARNING: MYSQL_OPT_RECONNECT is deprecated and will be removed in a future version.\n",
      "WARNING: MYSQL_OPT_RECONNECT is deprecated and will be removed in a future version.\n",
      "WARNING: MYSQL_OPT_RECONNECT is deprecated and will be removed in a future version.\n",
      "WARNING: MYSQL_OPT_RECONNECT is deprecated and will be removed in a future version.\n",
      "WARNING: MYSQL_OPT_RECONNECT is deprecated and will be removed in a future version.\n",
      "WARNING: MYSQL_OPT_RECONNECT is deprecated and will be removed in a future version.\n",
      "WARNING: MYSQL_OPT_RECONNECT is deprecated and will be removed in a future version.\n"
     ]
    },
    {
     "data": {
      "text/html": [],
      "text/plain": [
       "<IPython.core.display.HTML object>"
      ]
     },
     "metadata": {},
     "output_type": "display_data"
    },
    {
     "data": {
      "text/html": [],
      "text/plain": [
       "<IPython.core.display.HTML object>"
      ]
     },
     "metadata": {},
     "output_type": "display_data"
    },
    {
     "data": {
      "text/html": [],
      "text/plain": [
       "<IPython.core.display.HTML object>"
      ]
     },
     "metadata": {},
     "output_type": "display_data"
    },
    {
     "name": "stderr",
     "output_type": "stream",
     "text": [
      "WARNING: MYSQL_OPT_RECONNECT is deprecated and will be removed in a future version.\n",
      "WARNING: MYSQL_OPT_RECONNECT is deprecated and will be removed in a future version.\n",
      "WARNING: MYSQL_OPT_RECONNECT is deprecated and will be removed in a future version.\n",
      "WARNING: MYSQL_OPT_RECONNECT is deprecated and will be removed in a future version.\n",
      "WARNING: MYSQL_OPT_RECONNECT is deprecated and will be removed in a future version.\n",
      "WARNING: MYSQL_OPT_RECONNECT is deprecated and will be removed in a future version.\n",
      "WARNING: MYSQL_OPT_RECONNECT is deprecated and will be removed in a future version.\n",
      "[I 2023-08-27 23:18:43,868] Trial 81 finished with value: -0.08300049925112332 and parameters: {'contamination': 0.010478633364989451, 'max_features': 0.12039067371527061, 'max_samples': 0.9969844226272931, 'n_estimators': 442}. Best is trial 81 with value: -0.08300049925112332.\n",
      "WARNING: MYSQL_OPT_RECONNECT is deprecated and will be removed in a future version.\n",
      "WARNING: MYSQL_OPT_RECONNECT is deprecated and will be removed in a future version.\n",
      "WARNING: MYSQL_OPT_RECONNECT is deprecated and will be removed in a future version.\n",
      "WARNING: MYSQL_OPT_RECONNECT is deprecated and will be removed in a future version.\n",
      "WARNING: MYSQL_OPT_RECONNECT is deprecated and will be removed in a future version.\n",
      "WARNING: MYSQL_OPT_RECONNECT is deprecated and will be removed in a future version.\n",
      "WARNING: MYSQL_OPT_RECONNECT is deprecated and will be removed in a future version.\n",
      "WARNING: MYSQL_OPT_RECONNECT is deprecated and will be removed in a future version.\n"
     ]
    },
    {
     "data": {
      "text/html": [],
      "text/plain": [
       "<IPython.core.display.HTML object>"
      ]
     },
     "metadata": {},
     "output_type": "display_data"
    },
    {
     "data": {
      "text/html": [],
      "text/plain": [
       "<IPython.core.display.HTML object>"
      ]
     },
     "metadata": {},
     "output_type": "display_data"
    },
    {
     "data": {
      "text/html": [],
      "text/plain": [
       "<IPython.core.display.HTML object>"
      ]
     },
     "metadata": {},
     "output_type": "display_data"
    },
    {
     "name": "stderr",
     "output_type": "stream",
     "text": [
      "WARNING: MYSQL_OPT_RECONNECT is deprecated and will be removed in a future version.\n",
      "WARNING: MYSQL_OPT_RECONNECT is deprecated and will be removed in a future version.\n",
      "WARNING: MYSQL_OPT_RECONNECT is deprecated and will be removed in a future version.\n",
      "WARNING: MYSQL_OPT_RECONNECT is deprecated and will be removed in a future version.\n",
      "WARNING: MYSQL_OPT_RECONNECT is deprecated and will be removed in a future version.\n",
      "WARNING: MYSQL_OPT_RECONNECT is deprecated and will be removed in a future version.\n",
      "WARNING: MYSQL_OPT_RECONNECT is deprecated and will be removed in a future version.\n",
      "[I 2023-08-27 23:19:57,312] Trial 83 finished with value: -0.060534198701947074 and parameters: {'contamination': 0.010445815475933661, 'max_features': 0.15587441982115305, 'max_samples': 0.995291837357562, 'n_estimators': 438}. Best is trial 81 with value: -0.08300049925112332.\n",
      "WARNING: MYSQL_OPT_RECONNECT is deprecated and will be removed in a future version.\n",
      "WARNING: MYSQL_OPT_RECONNECT is deprecated and will be removed in a future version.\n",
      "WARNING: MYSQL_OPT_RECONNECT is deprecated and will be removed in a future version.\n",
      "WARNING: MYSQL_OPT_RECONNECT is deprecated and will be removed in a future version.\n",
      "WARNING: MYSQL_OPT_RECONNECT is deprecated and will be removed in a future version.\n",
      "WARNING: MYSQL_OPT_RECONNECT is deprecated and will be removed in a future version.\n",
      "WARNING: MYSQL_OPT_RECONNECT is deprecated and will be removed in a future version.\n",
      "WARNING: MYSQL_OPT_RECONNECT is deprecated and will be removed in a future version.\n"
     ]
    },
    {
     "data": {
      "text/html": [],
      "text/plain": [
       "<IPython.core.display.HTML object>"
      ]
     },
     "metadata": {},
     "output_type": "display_data"
    },
    {
     "data": {
      "text/html": [],
      "text/plain": [
       "<IPython.core.display.HTML object>"
      ]
     },
     "metadata": {},
     "output_type": "display_data"
    },
    {
     "data": {
      "text/html": [],
      "text/plain": [
       "<IPython.core.display.HTML object>"
      ]
     },
     "metadata": {},
     "output_type": "display_data"
    },
    {
     "name": "stderr",
     "output_type": "stream",
     "text": [
      "WARNING: MYSQL_OPT_RECONNECT is deprecated and will be removed in a future version.\n",
      "WARNING: MYSQL_OPT_RECONNECT is deprecated and will be removed in a future version.\n",
      "WARNING: MYSQL_OPT_RECONNECT is deprecated and will be removed in a future version.\n",
      "WARNING: MYSQL_OPT_RECONNECT is deprecated and will be removed in a future version.\n",
      "WARNING: MYSQL_OPT_RECONNECT is deprecated and will be removed in a future version.\n",
      "WARNING: MYSQL_OPT_RECONNECT is deprecated and will be removed in a future version.\n",
      "WARNING: MYSQL_OPT_RECONNECT is deprecated and will be removed in a future version.\n",
      "[I 2023-08-27 23:20:30,190] Trial 85 finished with value: -0.07675986020968546 and parameters: {'contamination': 0.016379006894740533, 'max_features': 0.10050949489821889, 'max_samples': 0.9316971140992008, 'n_estimators': 457}. Best is trial 81 with value: -0.08300049925112332.\n",
      "WARNING: MYSQL_OPT_RECONNECT is deprecated and will be removed in a future version.\n",
      "WARNING: MYSQL_OPT_RECONNECT is deprecated and will be removed in a future version.\n",
      "WARNING: MYSQL_OPT_RECONNECT is deprecated and will be removed in a future version.\n",
      "WARNING: MYSQL_OPT_RECONNECT is deprecated and will be removed in a future version.\n",
      "WARNING: MYSQL_OPT_RECONNECT is deprecated and will be removed in a future version.\n",
      "WARNING: MYSQL_OPT_RECONNECT is deprecated and will be removed in a future version.\n",
      "WARNING: MYSQL_OPT_RECONNECT is deprecated and will be removed in a future version.\n",
      "WARNING: MYSQL_OPT_RECONNECT is deprecated and will be removed in a future version.\n"
     ]
    },
    {
     "data": {
      "text/html": [],
      "text/plain": [
       "<IPython.core.display.HTML object>"
      ]
     },
     "metadata": {},
     "output_type": "display_data"
    },
    {
     "data": {
      "text/html": [],
      "text/plain": [
       "<IPython.core.display.HTML object>"
      ]
     },
     "metadata": {},
     "output_type": "display_data"
    },
    {
     "data": {
      "text/html": [],
      "text/plain": [
       "<IPython.core.display.HTML object>"
      ]
     },
     "metadata": {},
     "output_type": "display_data"
    },
    {
     "name": "stderr",
     "output_type": "stream",
     "text": [
      "WARNING: MYSQL_OPT_RECONNECT is deprecated and will be removed in a future version.\n",
      "WARNING: MYSQL_OPT_RECONNECT is deprecated and will be removed in a future version.\n",
      "WARNING: MYSQL_OPT_RECONNECT is deprecated and will be removed in a future version.\n",
      "WARNING: MYSQL_OPT_RECONNECT is deprecated and will be removed in a future version.\n",
      "WARNING: MYSQL_OPT_RECONNECT is deprecated and will be removed in a future version.\n",
      "WARNING: MYSQL_OPT_RECONNECT is deprecated and will be removed in a future version.\n",
      "WARNING: MYSQL_OPT_RECONNECT is deprecated and will be removed in a future version.\n",
      "[I 2023-08-27 23:21:08,234] Trial 88 finished with value: -0.042436345481777334 and parameters: {'contamination': 0.008223737061385978, 'max_features': 0.2415123624499193, 'max_samples': 0.8995171444339791, 'n_estimators': 405}. Best is trial 81 with value: -0.08300049925112332.\n",
      "WARNING: MYSQL_OPT_RECONNECT is deprecated and will be removed in a future version.\n",
      "WARNING: MYSQL_OPT_RECONNECT is deprecated and will be removed in a future version.\n",
      "WARNING: MYSQL_OPT_RECONNECT is deprecated and will be removed in a future version.\n",
      "WARNING: MYSQL_OPT_RECONNECT is deprecated and will be removed in a future version.\n",
      "WARNING: MYSQL_OPT_RECONNECT is deprecated and will be removed in a future version.\n",
      "WARNING: MYSQL_OPT_RECONNECT is deprecated and will be removed in a future version.\n",
      "WARNING: MYSQL_OPT_RECONNECT is deprecated and will be removed in a future version.\n",
      "WARNING: MYSQL_OPT_RECONNECT is deprecated and will be removed in a future version.\n"
     ]
    },
    {
     "data": {
      "text/html": [],
      "text/plain": [
       "<IPython.core.display.HTML object>"
      ]
     },
     "metadata": {},
     "output_type": "display_data"
    },
    {
     "data": {
      "text/html": [],
      "text/plain": [
       "<IPython.core.display.HTML object>"
      ]
     },
     "metadata": {},
     "output_type": "display_data"
    },
    {
     "data": {
      "text/html": [],
      "text/plain": [
       "<IPython.core.display.HTML object>"
      ]
     },
     "metadata": {},
     "output_type": "display_data"
    },
    {
     "name": "stderr",
     "output_type": "stream",
     "text": [
      "WARNING: MYSQL_OPT_RECONNECT is deprecated and will be removed in a future version.\n",
      "WARNING: MYSQL_OPT_RECONNECT is deprecated and will be removed in a future version.\n",
      "WARNING: MYSQL_OPT_RECONNECT is deprecated and will be removed in a future version.\n",
      "WARNING: MYSQL_OPT_RECONNECT is deprecated and will be removed in a future version.\n",
      "WARNING: MYSQL_OPT_RECONNECT is deprecated and will be removed in a future version.\n",
      "WARNING: MYSQL_OPT_RECONNECT is deprecated and will be removed in a future version.\n",
      "WARNING: MYSQL_OPT_RECONNECT is deprecated and will be removed in a future version.\n",
      "[I 2023-08-27 23:21:52,923] Trial 89 finished with value: -0.0792561158262606 and parameters: {'contamination': 0.013119559284612352, 'max_features': 0.12480891533993335, 'max_samples': 0.9528331959613647, 'n_estimators': 433}. Best is trial 81 with value: -0.08300049925112332.\n",
      "WARNING: MYSQL_OPT_RECONNECT is deprecated and will be removed in a future version.\n",
      "WARNING: MYSQL_OPT_RECONNECT is deprecated and will be removed in a future version.\n",
      "WARNING: MYSQL_OPT_RECONNECT is deprecated and will be removed in a future version.\n",
      "WARNING: MYSQL_OPT_RECONNECT is deprecated and will be removed in a future version.\n",
      "WARNING: MYSQL_OPT_RECONNECT is deprecated and will be removed in a future version.\n",
      "WARNING: MYSQL_OPT_RECONNECT is deprecated and will be removed in a future version.\n",
      "WARNING: MYSQL_OPT_RECONNECT is deprecated and will be removed in a future version.\n",
      "WARNING: MYSQL_OPT_RECONNECT is deprecated and will be removed in a future version.\n"
     ]
    },
    {
     "data": {
      "text/html": [],
      "text/plain": [
       "<IPython.core.display.HTML object>"
      ]
     },
     "metadata": {},
     "output_type": "display_data"
    },
    {
     "data": {
      "text/html": [],
      "text/plain": [
       "<IPython.core.display.HTML object>"
      ]
     },
     "metadata": {},
     "output_type": "display_data"
    },
    {
     "data": {
      "text/html": [],
      "text/plain": [
       "<IPython.core.display.HTML object>"
      ]
     },
     "metadata": {},
     "output_type": "display_data"
    },
    {
     "name": "stderr",
     "output_type": "stream",
     "text": [
      "WARNING: MYSQL_OPT_RECONNECT is deprecated and will be removed in a future version.\n",
      "WARNING: MYSQL_OPT_RECONNECT is deprecated and will be removed in a future version.\n",
      "WARNING: MYSQL_OPT_RECONNECT is deprecated and will be removed in a future version.\n",
      "WARNING: MYSQL_OPT_RECONNECT is deprecated and will be removed in a future version.\n",
      "WARNING: MYSQL_OPT_RECONNECT is deprecated and will be removed in a future version.\n",
      "WARNING: MYSQL_OPT_RECONNECT is deprecated and will be removed in a future version.\n",
      "WARNING: MYSQL_OPT_RECONNECT is deprecated and will be removed in a future version.\n",
      "[I 2023-08-27 23:27:32,250] Trial 92 finished with value: -0.07863205192211682 and parameters: {'contamination': 0.0074260733610778795, 'max_features': 0.12650035577182314, 'max_samples': 0.863281196906494, 'n_estimators': 435}. Best is trial 81 with value: -0.08300049925112332.\n",
      "WARNING: MYSQL_OPT_RECONNECT is deprecated and will be removed in a future version.\n",
      "WARNING: MYSQL_OPT_RECONNECT is deprecated and will be removed in a future version.\n",
      "WARNING: MYSQL_OPT_RECONNECT is deprecated and will be removed in a future version.\n",
      "WARNING: MYSQL_OPT_RECONNECT is deprecated and will be removed in a future version.\n",
      "WARNING: MYSQL_OPT_RECONNECT is deprecated and will be removed in a future version.\n",
      "WARNING: MYSQL_OPT_RECONNECT is deprecated and will be removed in a future version.\n",
      "WARNING: MYSQL_OPT_RECONNECT is deprecated and will be removed in a future version.\n",
      "WARNING: MYSQL_OPT_RECONNECT is deprecated and will be removed in a future version.\n"
     ]
    },
    {
     "data": {
      "text/html": [],
      "text/plain": [
       "<IPython.core.display.HTML object>"
      ]
     },
     "metadata": {},
     "output_type": "display_data"
    },
    {
     "data": {
      "text/html": [],
      "text/plain": [
       "<IPython.core.display.HTML object>"
      ]
     },
     "metadata": {},
     "output_type": "display_data"
    },
    {
     "data": {
      "text/html": [],
      "text/plain": [
       "<IPython.core.display.HTML object>"
      ]
     },
     "metadata": {},
     "output_type": "display_data"
    },
    {
     "name": "stderr",
     "output_type": "stream",
     "text": [
      "WARNING: MYSQL_OPT_RECONNECT is deprecated and will be removed in a future version.\n",
      "WARNING: MYSQL_OPT_RECONNECT is deprecated and will be removed in a future version.\n",
      "WARNING: MYSQL_OPT_RECONNECT is deprecated and will be removed in a future version.\n",
      "WARNING: MYSQL_OPT_RECONNECT is deprecated and will be removed in a future version.\n",
      "WARNING: MYSQL_OPT_RECONNECT is deprecated and will be removed in a future version.\n",
      "WARNING: MYSQL_OPT_RECONNECT is deprecated and will be removed in a future version.\n",
      "WARNING: MYSQL_OPT_RECONNECT is deprecated and will be removed in a future version.\n",
      "[I 2023-08-27 23:28:19,256] Trial 94 finished with value: -0.08237643534697953 and parameters: {'contamination': 0.005864504717996337, 'max_features': 0.14969351647691653, 'max_samples': 0.9647743792277791, 'n_estimators': 427}. Best is trial 81 with value: -0.08300049925112332.\n",
      "WARNING: MYSQL_OPT_RECONNECT is deprecated and will be removed in a future version.\n",
      "WARNING: MYSQL_OPT_RECONNECT is deprecated and will be removed in a future version.\n",
      "WARNING: MYSQL_OPT_RECONNECT is deprecated and will be removed in a future version.\n",
      "WARNING: MYSQL_OPT_RECONNECT is deprecated and will be removed in a future version.\n",
      "WARNING: MYSQL_OPT_RECONNECT is deprecated and will be removed in a future version.\n",
      "WARNING: MYSQL_OPT_RECONNECT is deprecated and will be removed in a future version.\n",
      "WARNING: MYSQL_OPT_RECONNECT is deprecated and will be removed in a future version.\n",
      "WARNING: MYSQL_OPT_RECONNECT is deprecated and will be removed in a future version.\n"
     ]
    },
    {
     "data": {
      "text/html": [],
      "text/plain": [
       "<IPython.core.display.HTML object>"
      ]
     },
     "metadata": {},
     "output_type": "display_data"
    },
    {
     "data": {
      "text/html": [],
      "text/plain": [
       "<IPython.core.display.HTML object>"
      ]
     },
     "metadata": {},
     "output_type": "display_data"
    },
    {
     "data": {
      "text/html": [],
      "text/plain": [
       "<IPython.core.display.HTML object>"
      ]
     },
     "metadata": {},
     "output_type": "display_data"
    },
    {
     "name": "stderr",
     "output_type": "stream",
     "text": [
      "WARNING: MYSQL_OPT_RECONNECT is deprecated and will be removed in a future version.\n",
      "WARNING: MYSQL_OPT_RECONNECT is deprecated and will be removed in a future version.\n",
      "WARNING: MYSQL_OPT_RECONNECT is deprecated and will be removed in a future version.\n",
      "WARNING: MYSQL_OPT_RECONNECT is deprecated and will be removed in a future version.\n",
      "WARNING: MYSQL_OPT_RECONNECT is deprecated and will be removed in a future version.\n",
      "WARNING: MYSQL_OPT_RECONNECT is deprecated and will be removed in a future version.\n",
      "WARNING: MYSQL_OPT_RECONNECT is deprecated and will be removed in a future version.\n",
      "[I 2023-08-28 00:21:40,239] Trial 96 finished with value: -0.052421367948077884 and parameters: {'contamination': 0.0054308400035421615, 'max_features': 0.18067365798903764, 'max_samples': 0.8939348615227953, 'n_estimators': 452}. Best is trial 81 with value: -0.08300049925112332.\n",
      "WARNING: MYSQL_OPT_RECONNECT is deprecated and will be removed in a future version.\n",
      "WARNING: MYSQL_OPT_RECONNECT is deprecated and will be removed in a future version.\n",
      "WARNING: MYSQL_OPT_RECONNECT is deprecated and will be removed in a future version.\n",
      "WARNING: MYSQL_OPT_RECONNECT is deprecated and will be removed in a future version.\n",
      "WARNING: MYSQL_OPT_RECONNECT is deprecated and will be removed in a future version.\n",
      "WARNING: MYSQL_OPT_RECONNECT is deprecated and will be removed in a future version.\n",
      "WARNING: MYSQL_OPT_RECONNECT is deprecated and will be removed in a future version.\n",
      "WARNING: MYSQL_OPT_RECONNECT is deprecated and will be removed in a future version.\n"
     ]
    },
    {
     "data": {
      "text/html": [],
      "text/plain": [
       "<IPython.core.display.HTML object>"
      ]
     },
     "metadata": {},
     "output_type": "display_data"
    },
    {
     "data": {
      "text/html": [],
      "text/plain": [
       "<IPython.core.display.HTML object>"
      ]
     },
     "metadata": {},
     "output_type": "display_data"
    },
    {
     "data": {
      "text/html": [],
      "text/plain": [
       "<IPython.core.display.HTML object>"
      ]
     },
     "metadata": {},
     "output_type": "display_data"
    },
    {
     "name": "stderr",
     "output_type": "stream",
     "text": [
      "WARNING: MYSQL_OPT_RECONNECT is deprecated and will be removed in a future version.\n",
      "WARNING: MYSQL_OPT_RECONNECT is deprecated and will be removed in a future version.\n",
      "WARNING: MYSQL_OPT_RECONNECT is deprecated and will be removed in a future version.\n",
      "WARNING: MYSQL_OPT_RECONNECT is deprecated and will be removed in a future version.\n",
      "WARNING: MYSQL_OPT_RECONNECT is deprecated and will be removed in a future version.\n",
      "WARNING: MYSQL_OPT_RECONNECT is deprecated and will be removed in a future version.\n",
      "WARNING: MYSQL_OPT_RECONNECT is deprecated and will be removed in a future version.\n",
      "[I 2023-08-28 02:15:20,186] Trial 98 finished with value: -0.05366949575636545 and parameters: {'contamination': 0.0023937329610367007, 'max_features': 0.2136334813852392, 'max_samples': 0.9315611438458272, 'n_estimators': 402}. Best is trial 81 with value: -0.08300049925112332.\n",
      "WARNING: MYSQL_OPT_RECONNECT is deprecated and will be removed in a future version.\n",
      "WARNING: MYSQL_OPT_RECONNECT is deprecated and will be removed in a future version.\n",
      "WARNING: MYSQL_OPT_RECONNECT is deprecated and will be removed in a future version.\n",
      "WARNING: MYSQL_OPT_RECONNECT is deprecated and will be removed in a future version.\n",
      "WARNING: MYSQL_OPT_RECONNECT is deprecated and will be removed in a future version.\n",
      "WARNING: MYSQL_OPT_RECONNECT is deprecated and will be removed in a future version.\n",
      "WARNING: MYSQL_OPT_RECONNECT is deprecated and will be removed in a future version.\n",
      "WARNING: MYSQL_OPT_RECONNECT is deprecated and will be removed in a future version.\n"
     ]
    },
    {
     "data": {
      "text/html": [],
      "text/plain": [
       "<IPython.core.display.HTML object>"
      ]
     },
     "metadata": {},
     "output_type": "display_data"
    },
    {
     "data": {
      "text/html": [],
      "text/plain": [
       "<IPython.core.display.HTML object>"
      ]
     },
     "metadata": {},
     "output_type": "display_data"
    },
    {
     "data": {
      "text/html": [],
      "text/plain": [
       "<IPython.core.display.HTML object>"
      ]
     },
     "metadata": {},
     "output_type": "display_data"
    },
    {
     "name": "stderr",
     "output_type": "stream",
     "text": [
      "WARNING: MYSQL_OPT_RECONNECT is deprecated and will be removed in a future version.\n",
      "WARNING: MYSQL_OPT_RECONNECT is deprecated and will be removed in a future version.\n",
      "WARNING: MYSQL_OPT_RECONNECT is deprecated and will be removed in a future version.\n",
      "WARNING: MYSQL_OPT_RECONNECT is deprecated and will be removed in a future version.\n",
      "WARNING: MYSQL_OPT_RECONNECT is deprecated and will be removed in a future version.\n",
      "WARNING: MYSQL_OPT_RECONNECT is deprecated and will be removed in a future version.\n",
      "WARNING: MYSQL_OPT_RECONNECT is deprecated and will be removed in a future version.\n",
      "[I 2023-08-28 04:27:33,380] Trial 100 finished with value: -0.08050424363454818 and parameters: {'contamination': 0.003906401112778693, 'max_features': 0.15024346816689116, 'max_samples': 0.9754033776627462, 'n_estimators': 381}. Best is trial 81 with value: -0.08300049925112332.\n",
      "WARNING: MYSQL_OPT_RECONNECT is deprecated and will be removed in a future version.\n",
      "WARNING: MYSQL_OPT_RECONNECT is deprecated and will be removed in a future version.\n",
      "WARNING: MYSQL_OPT_RECONNECT is deprecated and will be removed in a future version.\n",
      "WARNING: MYSQL_OPT_RECONNECT is deprecated and will be removed in a future version.\n",
      "WARNING: MYSQL_OPT_RECONNECT is deprecated and will be removed in a future version.\n",
      "WARNING: MYSQL_OPT_RECONNECT is deprecated and will be removed in a future version.\n",
      "WARNING: MYSQL_OPT_RECONNECT is deprecated and will be removed in a future version.\n",
      "WARNING: MYSQL_OPT_RECONNECT is deprecated and will be removed in a future version.\n"
     ]
    },
    {
     "data": {
      "text/html": [],
      "text/plain": [
       "<IPython.core.display.HTML object>"
      ]
     },
     "metadata": {},
     "output_type": "display_data"
    },
    {
     "data": {
      "text/html": [],
      "text/plain": [
       "<IPython.core.display.HTML object>"
      ]
     },
     "metadata": {},
     "output_type": "display_data"
    },
    {
     "data": {
      "text/html": [],
      "text/plain": [
       "<IPython.core.display.HTML object>"
      ]
     },
     "metadata": {},
     "output_type": "display_data"
    },
    {
     "name": "stderr",
     "output_type": "stream",
     "text": [
      "WARNING: MYSQL_OPT_RECONNECT is deprecated and will be removed in a future version.\n",
      "WARNING: MYSQL_OPT_RECONNECT is deprecated and will be removed in a future version.\n",
      "WARNING: MYSQL_OPT_RECONNECT is deprecated and will be removed in a future version.\n",
      "WARNING: MYSQL_OPT_RECONNECT is deprecated and will be removed in a future version.\n",
      "WARNING: MYSQL_OPT_RECONNECT is deprecated and will be removed in a future version.\n",
      "WARNING: MYSQL_OPT_RECONNECT is deprecated and will be removed in a future version.\n",
      "WARNING: MYSQL_OPT_RECONNECT is deprecated and will be removed in a future version.\n",
      "[I 2023-08-28 05:18:28,283] Trial 102 finished with value: -0.08112830753869196 and parameters: {'contamination': 0.002096250200553071, 'max_features': 0.11662942431158604, 'max_samples': 0.9882127078354063, 'n_estimators': 328}. Best is trial 81 with value: -0.08300049925112332.\n",
      "WARNING: MYSQL_OPT_RECONNECT is deprecated and will be removed in a future version.\n",
      "WARNING: MYSQL_OPT_RECONNECT is deprecated and will be removed in a future version.\n",
      "WARNING: MYSQL_OPT_RECONNECT is deprecated and will be removed in a future version.\n",
      "WARNING: MYSQL_OPT_RECONNECT is deprecated and will be removed in a future version.\n",
      "WARNING: MYSQL_OPT_RECONNECT is deprecated and will be removed in a future version.\n",
      "WARNING: MYSQL_OPT_RECONNECT is deprecated and will be removed in a future version.\n",
      "WARNING: MYSQL_OPT_RECONNECT is deprecated and will be removed in a future version.\n",
      "WARNING: MYSQL_OPT_RECONNECT is deprecated and will be removed in a future version.\n"
     ]
    },
    {
     "data": {
      "text/html": [],
      "text/plain": [
       "<IPython.core.display.HTML object>"
      ]
     },
     "metadata": {},
     "output_type": "display_data"
    },
    {
     "data": {
      "text/html": [],
      "text/plain": [
       "<IPython.core.display.HTML object>"
      ]
     },
     "metadata": {},
     "output_type": "display_data"
    },
    {
     "data": {
      "text/html": [],
      "text/plain": [
       "<IPython.core.display.HTML object>"
      ]
     },
     "metadata": {},
     "output_type": "display_data"
    },
    {
     "name": "stderr",
     "output_type": "stream",
     "text": [
      "WARNING: MYSQL_OPT_RECONNECT is deprecated and will be removed in a future version.\n",
      "WARNING: MYSQL_OPT_RECONNECT is deprecated and will be removed in a future version.\n",
      "WARNING: MYSQL_OPT_RECONNECT is deprecated and will be removed in a future version.\n",
      "WARNING: MYSQL_OPT_RECONNECT is deprecated and will be removed in a future version.\n",
      "WARNING: MYSQL_OPT_RECONNECT is deprecated and will be removed in a future version.\n",
      "WARNING: MYSQL_OPT_RECONNECT is deprecated and will be removed in a future version.\n",
      "WARNING: MYSQL_OPT_RECONNECT is deprecated and will be removed in a future version.\n",
      "[I 2023-08-28 06:13:55,287] Trial 104 finished with value: -0.08112830753869196 and parameters: {'contamination': 0.0022292530027336324, 'max_features': 0.1440593357848643, 'max_samples': 0.9812771154293277, 'n_estimators': 373}. Best is trial 81 with value: -0.08300049925112332.\n",
      "WARNING: MYSQL_OPT_RECONNECT is deprecated and will be removed in a future version.\n",
      "WARNING: MYSQL_OPT_RECONNECT is deprecated and will be removed in a future version.\n",
      "WARNING: MYSQL_OPT_RECONNECT is deprecated and will be removed in a future version.\n",
      "WARNING: MYSQL_OPT_RECONNECT is deprecated and will be removed in a future version.\n",
      "WARNING: MYSQL_OPT_RECONNECT is deprecated and will be removed in a future version.\n",
      "WARNING: MYSQL_OPT_RECONNECT is deprecated and will be removed in a future version.\n",
      "WARNING: MYSQL_OPT_RECONNECT is deprecated and will be removed in a future version.\n",
      "WARNING: MYSQL_OPT_RECONNECT is deprecated and will be removed in a future version.\n"
     ]
    },
    {
     "data": {
      "text/html": [],
      "text/plain": [
       "<IPython.core.display.HTML object>"
      ]
     },
     "metadata": {},
     "output_type": "display_data"
    },
    {
     "data": {
      "text/html": [],
      "text/plain": [
       "<IPython.core.display.HTML object>"
      ]
     },
     "metadata": {},
     "output_type": "display_data"
    },
    {
     "data": {
      "text/html": [],
      "text/plain": [
       "<IPython.core.display.HTML object>"
      ]
     },
     "metadata": {},
     "output_type": "display_data"
    },
    {
     "name": "stderr",
     "output_type": "stream",
     "text": [
      "WARNING: MYSQL_OPT_RECONNECT is deprecated and will be removed in a future version.\n",
      "WARNING: MYSQL_OPT_RECONNECT is deprecated and will be removed in a future version.\n",
      "WARNING: MYSQL_OPT_RECONNECT is deprecated and will be removed in a future version.\n",
      "WARNING: MYSQL_OPT_RECONNECT is deprecated and will be removed in a future version.\n",
      "WARNING: MYSQL_OPT_RECONNECT is deprecated and will be removed in a future version.\n",
      "WARNING: MYSQL_OPT_RECONNECT is deprecated and will be removed in a future version.\n",
      "WARNING: MYSQL_OPT_RECONNECT is deprecated and will be removed in a future version.\n",
      "[I 2023-08-28 07:19:03,036] Trial 106 finished with value: -0.05366949575636545 and parameters: {'contamination': 0.0018720501585035726, 'max_features': 0.1971028923892834, 'max_samples': 0.9993381766773748, 'n_estimators': 332}. Best is trial 81 with value: -0.08300049925112332.\n",
      "WARNING: MYSQL_OPT_RECONNECT is deprecated and will be removed in a future version.\n",
      "WARNING: MYSQL_OPT_RECONNECT is deprecated and will be removed in a future version.\n",
      "WARNING: MYSQL_OPT_RECONNECT is deprecated and will be removed in a future version.\n",
      "WARNING: MYSQL_OPT_RECONNECT is deprecated and will be removed in a future version.\n",
      "WARNING: MYSQL_OPT_RECONNECT is deprecated and will be removed in a future version.\n",
      "WARNING: MYSQL_OPT_RECONNECT is deprecated and will be removed in a future version.\n",
      "WARNING: MYSQL_OPT_RECONNECT is deprecated and will be removed in a future version.\n",
      "WARNING: MYSQL_OPT_RECONNECT is deprecated and will be removed in a future version.\n"
     ]
    },
    {
     "data": {
      "text/html": [],
      "text/plain": [
       "<IPython.core.display.HTML object>"
      ]
     },
     "metadata": {},
     "output_type": "display_data"
    },
    {
     "data": {
      "text/html": [],
      "text/plain": [
       "<IPython.core.display.HTML object>"
      ]
     },
     "metadata": {},
     "output_type": "display_data"
    },
    {
     "data": {
      "text/html": [],
      "text/plain": [
       "<IPython.core.display.HTML object>"
      ]
     },
     "metadata": {},
     "output_type": "display_data"
    },
    {
     "name": "stderr",
     "output_type": "stream",
     "text": [
      "WARNING: MYSQL_OPT_RECONNECT is deprecated and will be removed in a future version.\n",
      "WARNING: MYSQL_OPT_RECONNECT is deprecated and will be removed in a future version.\n",
      "WARNING: MYSQL_OPT_RECONNECT is deprecated and will be removed in a future version.\n",
      "WARNING: MYSQL_OPT_RECONNECT is deprecated and will be removed in a future version.\n",
      "WARNING: MYSQL_OPT_RECONNECT is deprecated and will be removed in a future version.\n",
      "WARNING: MYSQL_OPT_RECONNECT is deprecated and will be removed in a future version.\n",
      "WARNING: MYSQL_OPT_RECONNECT is deprecated and will be removed in a future version.\n",
      "[I 2023-08-28 07:20:07,306] Trial 108 finished with value: -0.055541687468796806 and parameters: {'contamination': 0.003422958107944285, 'max_features': 0.1701765642165809, 'max_samples': 0.9779987622195445, 'n_estimators': 414}. Best is trial 81 with value: -0.08300049925112332.\n",
      "WARNING: MYSQL_OPT_RECONNECT is deprecated and will be removed in a future version.\n",
      "WARNING: MYSQL_OPT_RECONNECT is deprecated and will be removed in a future version.\n",
      "WARNING: MYSQL_OPT_RECONNECT is deprecated and will be removed in a future version.\n",
      "WARNING: MYSQL_OPT_RECONNECT is deprecated and will be removed in a future version.\n",
      "WARNING: MYSQL_OPT_RECONNECT is deprecated and will be removed in a future version.\n",
      "WARNING: MYSQL_OPT_RECONNECT is deprecated and will be removed in a future version.\n",
      "WARNING: MYSQL_OPT_RECONNECT is deprecated and will be removed in a future version.\n",
      "WARNING: MYSQL_OPT_RECONNECT is deprecated and will be removed in a future version.\n"
     ]
    },
    {
     "data": {
      "text/html": [],
      "text/plain": [
       "<IPython.core.display.HTML object>"
      ]
     },
     "metadata": {},
     "output_type": "display_data"
    },
    {
     "data": {
      "text/html": [],
      "text/plain": [
       "<IPython.core.display.HTML object>"
      ]
     },
     "metadata": {},
     "output_type": "display_data"
    },
    {
     "data": {
      "text/html": [],
      "text/plain": [
       "<IPython.core.display.HTML object>"
      ]
     },
     "metadata": {},
     "output_type": "display_data"
    },
    {
     "name": "stderr",
     "output_type": "stream",
     "text": [
      "WARNING: MYSQL_OPT_RECONNECT is deprecated and will be removed in a future version.\n",
      "WARNING: MYSQL_OPT_RECONNECT is deprecated and will be removed in a future version.\n",
      "WARNING: MYSQL_OPT_RECONNECT is deprecated and will be removed in a future version.\n",
      "WARNING: MYSQL_OPT_RECONNECT is deprecated and will be removed in a future version.\n",
      "WARNING: MYSQL_OPT_RECONNECT is deprecated and will be removed in a future version.\n",
      "WARNING: MYSQL_OPT_RECONNECT is deprecated and will be removed in a future version.\n",
      "WARNING: MYSQL_OPT_RECONNECT is deprecated and will be removed in a future version.\n",
      "[I 2023-08-28 07:20:37,919] Trial 110 finished with value: -0.04680479281078382 and parameters: {'contamination': 0.0021471393056186495, 'max_features': 0.23470336914880513, 'max_samples': 0.9584089519912408, 'n_estimators': 395}. Best is trial 81 with value: -0.08300049925112332.\n",
      "WARNING: MYSQL_OPT_RECONNECT is deprecated and will be removed in a future version.\n",
      "WARNING: MYSQL_OPT_RECONNECT is deprecated and will be removed in a future version.\n",
      "WARNING: MYSQL_OPT_RECONNECT is deprecated and will be removed in a future version.\n",
      "WARNING: MYSQL_OPT_RECONNECT is deprecated and will be removed in a future version.\n",
      "WARNING: MYSQL_OPT_RECONNECT is deprecated and will be removed in a future version.\n",
      "WARNING: MYSQL_OPT_RECONNECT is deprecated and will be removed in a future version.\n",
      "WARNING: MYSQL_OPT_RECONNECT is deprecated and will be removed in a future version.\n",
      "WARNING: MYSQL_OPT_RECONNECT is deprecated and will be removed in a future version.\n"
     ]
    },
    {
     "data": {
      "text/html": [],
      "text/plain": [
       "<IPython.core.display.HTML object>"
      ]
     },
     "metadata": {},
     "output_type": "display_data"
    },
    {
     "data": {
      "text/html": [],
      "text/plain": [
       "<IPython.core.display.HTML object>"
      ]
     },
     "metadata": {},
     "output_type": "display_data"
    },
    {
     "data": {
      "text/html": [],
      "text/plain": [
       "<IPython.core.display.HTML object>"
      ]
     },
     "metadata": {},
     "output_type": "display_data"
    },
    {
     "name": "stderr",
     "output_type": "stream",
     "text": [
      "WARNING: MYSQL_OPT_RECONNECT is deprecated and will be removed in a future version.\n",
      "WARNING: MYSQL_OPT_RECONNECT is deprecated and will be removed in a future version.\n",
      "WARNING: MYSQL_OPT_RECONNECT is deprecated and will be removed in a future version.\n",
      "WARNING: MYSQL_OPT_RECONNECT is deprecated and will be removed in a future version.\n",
      "WARNING: MYSQL_OPT_RECONNECT is deprecated and will be removed in a future version.\n",
      "WARNING: MYSQL_OPT_RECONNECT is deprecated and will be removed in a future version.\n",
      "WARNING: MYSQL_OPT_RECONNECT is deprecated and will be removed in a future version.\n",
      "[I 2023-08-28 07:21:02,924] Trial 112 finished with value: -0.08050424363454818 and parameters: {'contamination': 0.004510096841145202, 'max_features': 0.11414366942667258, 'max_samples': 0.9310790648218814, 'n_estimators': 352}. Best is trial 81 with value: -0.08300049925112332.\n",
      "WARNING: MYSQL_OPT_RECONNECT is deprecated and will be removed in a future version.\n",
      "WARNING: MYSQL_OPT_RECONNECT is deprecated and will be removed in a future version.\n",
      "WARNING: MYSQL_OPT_RECONNECT is deprecated and will be removed in a future version.\n",
      "WARNING: MYSQL_OPT_RECONNECT is deprecated and will be removed in a future version.\n",
      "WARNING: MYSQL_OPT_RECONNECT is deprecated and will be removed in a future version.\n",
      "WARNING: MYSQL_OPT_RECONNECT is deprecated and will be removed in a future version.\n",
      "WARNING: MYSQL_OPT_RECONNECT is deprecated and will be removed in a future version.\n",
      "WARNING: MYSQL_OPT_RECONNECT is deprecated and will be removed in a future version.\n"
     ]
    },
    {
     "data": {
      "text/html": [],
      "text/plain": [
       "<IPython.core.display.HTML object>"
      ]
     },
     "metadata": {},
     "output_type": "display_data"
    },
    {
     "data": {
      "text/html": [],
      "text/plain": [
       "<IPython.core.display.HTML object>"
      ]
     },
     "metadata": {},
     "output_type": "display_data"
    },
    {
     "data": {
      "text/html": [],
      "text/plain": [
       "<IPython.core.display.HTML object>"
      ]
     },
     "metadata": {},
     "output_type": "display_data"
    },
    {
     "name": "stderr",
     "output_type": "stream",
     "text": [
      "[I 2023-08-28 07:21:41,510] Trial 113 finished with value: -0.07863205192211682 and parameters: {'contamination': 0.004114918502038316, 'max_features': 0.11631216430302982, 'max_samples': 0.9473681648160621, 'n_estimators': 304}. Best is trial 81 with value: -0.08300049925112332.\n",
      "WARNING: MYSQL_OPT_RECONNECT is deprecated and will be removed in a future version.\n",
      "WARNING: MYSQL_OPT_RECONNECT is deprecated and will be removed in a future version.\n",
      "WARNING: MYSQL_OPT_RECONNECT is deprecated and will be removed in a future version.\n",
      "WARNING: MYSQL_OPT_RECONNECT is deprecated and will be removed in a future version.\n",
      "WARNING: MYSQL_OPT_RECONNECT is deprecated and will be removed in a future version.\n",
      "WARNING: MYSQL_OPT_RECONNECT is deprecated and will be removed in a future version.\n",
      "WARNING: MYSQL_OPT_RECONNECT is deprecated and will be removed in a future version.\n",
      "WARNING: MYSQL_OPT_RECONNECT is deprecated and will be removed in a future version.\n",
      "WARNING: MYSQL_OPT_RECONNECT is deprecated and will be removed in a future version.\n",
      "WARNING: MYSQL_OPT_RECONNECT is deprecated and will be removed in a future version.\n",
      "WARNING: MYSQL_OPT_RECONNECT is deprecated and will be removed in a future version.\n",
      "WARNING: MYSQL_OPT_RECONNECT is deprecated and will be removed in a future version.\n",
      "WARNING: MYSQL_OPT_RECONNECT is deprecated and will be removed in a future version.\n",
      "WARNING: MYSQL_OPT_RECONNECT is deprecated and will be removed in a future version.\n",
      "WARNING: MYSQL_OPT_RECONNECT is deprecated and will be removed in a future version.\n"
     ]
    },
    {
     "data": {
      "text/html": [],
      "text/plain": [
       "<IPython.core.display.HTML object>"
      ]
     },
     "metadata": {},
     "output_type": "display_data"
    },
    {
     "data": {
      "text/html": [],
      "text/plain": [
       "<IPython.core.display.HTML object>"
      ]
     },
     "metadata": {},
     "output_type": "display_data"
    },
    {
     "data": {
      "text/html": [],
      "text/plain": [
       "<IPython.core.display.HTML object>"
      ]
     },
     "metadata": {},
     "output_type": "display_data"
    },
    {
     "name": "stderr",
     "output_type": "stream",
     "text": [
      "WARNING: MYSQL_OPT_RECONNECT is deprecated and will be removed in a future version.\n",
      "WARNING: MYSQL_OPT_RECONNECT is deprecated and will be removed in a future version.\n",
      "WARNING: MYSQL_OPT_RECONNECT is deprecated and will be removed in a future version.\n",
      "WARNING: MYSQL_OPT_RECONNECT is deprecated and will be removed in a future version.\n",
      "WARNING: MYSQL_OPT_RECONNECT is deprecated and will be removed in a future version.\n",
      "WARNING: MYSQL_OPT_RECONNECT is deprecated and will be removed in a future version.\n",
      "WARNING: MYSQL_OPT_RECONNECT is deprecated and will be removed in a future version.\n",
      "[I 2023-08-28 07:22:51,982] Trial 116 finished with value: -0.08487269096355467 and parameters: {'contamination': 0.0057798669629399516, 'max_features': 0.13773125084924318, 'max_samples': 0.9230752716647671, 'n_estimators': 277}. Best is trial 116 with value: -0.08487269096355467.\n",
      "WARNING: MYSQL_OPT_RECONNECT is deprecated and will be removed in a future version.\n",
      "WARNING: MYSQL_OPT_RECONNECT is deprecated and will be removed in a future version.\n",
      "WARNING: MYSQL_OPT_RECONNECT is deprecated and will be removed in a future version.\n",
      "WARNING: MYSQL_OPT_RECONNECT is deprecated and will be removed in a future version.\n",
      "WARNING: MYSQL_OPT_RECONNECT is deprecated and will be removed in a future version.\n",
      "WARNING: MYSQL_OPT_RECONNECT is deprecated and will be removed in a future version.\n",
      "WARNING: MYSQL_OPT_RECONNECT is deprecated and will be removed in a future version.\n",
      "WARNING: MYSQL_OPT_RECONNECT is deprecated and will be removed in a future version.\n"
     ]
    },
    {
     "data": {
      "text/html": [],
      "text/plain": [
       "<IPython.core.display.HTML object>"
      ]
     },
     "metadata": {},
     "output_type": "display_data"
    },
    {
     "data": {
      "text/html": [],
      "text/plain": [
       "<IPython.core.display.HTML object>"
      ]
     },
     "metadata": {},
     "output_type": "display_data"
    },
    {
     "data": {
      "text/html": [],
      "text/plain": [
       "<IPython.core.display.HTML object>"
      ]
     },
     "metadata": {},
     "output_type": "display_data"
    },
    {
     "name": "stderr",
     "output_type": "stream",
     "text": [
      "WARNING: MYSQL_OPT_RECONNECT is deprecated and will be removed in a future version.\n",
      "WARNING: MYSQL_OPT_RECONNECT is deprecated and will be removed in a future version.\n",
      "WARNING: MYSQL_OPT_RECONNECT is deprecated and will be removed in a future version.\n",
      "WARNING: MYSQL_OPT_RECONNECT is deprecated and will be removed in a future version.\n",
      "WARNING: MYSQL_OPT_RECONNECT is deprecated and will be removed in a future version.\n",
      "WARNING: MYSQL_OPT_RECONNECT is deprecated and will be removed in a future version.\n",
      "WARNING: MYSQL_OPT_RECONNECT is deprecated and will be removed in a future version.\n",
      "[I 2023-08-28 07:23:12,284] Trial 117 finished with value: -0.08424862705941087 and parameters: {'contamination': 0.005277398626954033, 'max_features': 0.14115964206848164, 'max_samples': 0.9242762640470017, 'n_estimators': 288}. Best is trial 116 with value: -0.08487269096355467.\n",
      "WARNING: MYSQL_OPT_RECONNECT is deprecated and will be removed in a future version.\n",
      "WARNING: MYSQL_OPT_RECONNECT is deprecated and will be removed in a future version.\n",
      "WARNING: MYSQL_OPT_RECONNECT is deprecated and will be removed in a future version.\n",
      "WARNING: MYSQL_OPT_RECONNECT is deprecated and will be removed in a future version.\n",
      "WARNING: MYSQL_OPT_RECONNECT is deprecated and will be removed in a future version.\n",
      "WARNING: MYSQL_OPT_RECONNECT is deprecated and will be removed in a future version.\n",
      "WARNING: MYSQL_OPT_RECONNECT is deprecated and will be removed in a future version.\n",
      "WARNING: MYSQL_OPT_RECONNECT is deprecated and will be removed in a future version.\n"
     ]
    },
    {
     "data": {
      "text/html": [],
      "text/plain": [
       "<IPython.core.display.HTML object>"
      ]
     },
     "metadata": {},
     "output_type": "display_data"
    },
    {
     "data": {
      "text/html": [],
      "text/plain": [
       "<IPython.core.display.HTML object>"
      ]
     },
     "metadata": {},
     "output_type": "display_data"
    },
    {
     "data": {
      "text/html": [],
      "text/plain": [
       "<IPython.core.display.HTML object>"
      ]
     },
     "metadata": {},
     "output_type": "display_data"
    },
    {
     "name": "stderr",
     "output_type": "stream",
     "text": [
      "WARNING: MYSQL_OPT_RECONNECT is deprecated and will be removed in a future version.\n",
      "WARNING: MYSQL_OPT_RECONNECT is deprecated and will be removed in a future version.\n",
      "WARNING: MYSQL_OPT_RECONNECT is deprecated and will be removed in a future version.\n",
      "WARNING: MYSQL_OPT_RECONNECT is deprecated and will be removed in a future version.\n",
      "WARNING: MYSQL_OPT_RECONNECT is deprecated and will be removed in a future version.\n",
      "WARNING: MYSQL_OPT_RECONNECT is deprecated and will be removed in a future version.\n",
      "WARNING: MYSQL_OPT_RECONNECT is deprecated and will be removed in a future version.\n",
      "[I 2023-08-28 07:23:31,934] Trial 119 finished with value: -0.05366949575636545 and parameters: {'contamination': 0.00607883561285128, 'max_features': 0.16361285913677676, 'max_samples': 0.9308208359955858, 'n_estimators': 271}. Best is trial 116 with value: -0.08487269096355467.\n",
      "WARNING: MYSQL_OPT_RECONNECT is deprecated and will be removed in a future version.\n",
      "WARNING: MYSQL_OPT_RECONNECT is deprecated and will be removed in a future version.\n",
      "WARNING: MYSQL_OPT_RECONNECT is deprecated and will be removed in a future version.\n",
      "WARNING: MYSQL_OPT_RECONNECT is deprecated and will be removed in a future version.\n",
      "WARNING: MYSQL_OPT_RECONNECT is deprecated and will be removed in a future version.\n",
      "WARNING: MYSQL_OPT_RECONNECT is deprecated and will be removed in a future version.\n",
      "WARNING: MYSQL_OPT_RECONNECT is deprecated and will be removed in a future version.\n",
      "WARNING: MYSQL_OPT_RECONNECT is deprecated and will be removed in a future version.\n"
     ]
    },
    {
     "data": {
      "text/html": [],
      "text/plain": [
       "<IPython.core.display.HTML object>"
      ]
     },
     "metadata": {},
     "output_type": "display_data"
    },
    {
     "data": {
      "text/html": [],
      "text/plain": [
       "<IPython.core.display.HTML object>"
      ]
     },
     "metadata": {},
     "output_type": "display_data"
    },
    {
     "data": {
      "text/html": [],
      "text/plain": [
       "<IPython.core.display.HTML object>"
      ]
     },
     "metadata": {},
     "output_type": "display_data"
    },
    {
     "name": "stderr",
     "output_type": "stream",
     "text": [
      "WARNING: MYSQL_OPT_RECONNECT is deprecated and will be removed in a future version.\n",
      "WARNING: MYSQL_OPT_RECONNECT is deprecated and will be removed in a future version.\n",
      "WARNING: MYSQL_OPT_RECONNECT is deprecated and will be removed in a future version.\n",
      "WARNING: MYSQL_OPT_RECONNECT is deprecated and will be removed in a future version.\n",
      "WARNING: MYSQL_OPT_RECONNECT is deprecated and will be removed in a future version.\n",
      "WARNING: MYSQL_OPT_RECONNECT is deprecated and will be removed in a future version.\n",
      "WARNING: MYSQL_OPT_RECONNECT is deprecated and will be removed in a future version.\n",
      "[I 2023-08-28 07:23:51,800] Trial 121 finished with value: -0.05803794308537194 and parameters: {'contamination': 0.0071717797387176666, 'max_features': 0.18281052076636164, 'max_samples': 0.9159340783460137, 'n_estimators': 290}. Best is trial 116 with value: -0.08487269096355467.\n",
      "WARNING: MYSQL_OPT_RECONNECT is deprecated and will be removed in a future version.\n",
      "WARNING: MYSQL_OPT_RECONNECT is deprecated and will be removed in a future version.\n",
      "WARNING: MYSQL_OPT_RECONNECT is deprecated and will be removed in a future version.\n",
      "WARNING: MYSQL_OPT_RECONNECT is deprecated and will be removed in a future version.\n",
      "WARNING: MYSQL_OPT_RECONNECT is deprecated and will be removed in a future version.\n",
      "WARNING: MYSQL_OPT_RECONNECT is deprecated and will be removed in a future version.\n",
      "WARNING: MYSQL_OPT_RECONNECT is deprecated and will be removed in a future version.\n",
      "WARNING: MYSQL_OPT_RECONNECT is deprecated and will be removed in a future version.\n"
     ]
    },
    {
     "data": {
      "text/html": [],
      "text/plain": [
       "<IPython.core.display.HTML object>"
      ]
     },
     "metadata": {},
     "output_type": "display_data"
    },
    {
     "data": {
      "text/html": [],
      "text/plain": [
       "<IPython.core.display.HTML object>"
      ]
     },
     "metadata": {},
     "output_type": "display_data"
    },
    {
     "data": {
      "text/html": [],
      "text/plain": [
       "<IPython.core.display.HTML object>"
      ]
     },
     "metadata": {},
     "output_type": "display_data"
    },
    {
     "name": "stderr",
     "output_type": "stream",
     "text": [
      "WARNING: MYSQL_OPT_RECONNECT is deprecated and will be removed in a future version.\n",
      "WARNING: MYSQL_OPT_RECONNECT is deprecated and will be removed in a future version.\n",
      "WARNING: MYSQL_OPT_RECONNECT is deprecated and will be removed in a future version.\n",
      "WARNING: MYSQL_OPT_RECONNECT is deprecated and will be removed in a future version.\n",
      "WARNING: MYSQL_OPT_RECONNECT is deprecated and will be removed in a future version.\n",
      "WARNING: MYSQL_OPT_RECONNECT is deprecated and will be removed in a future version.\n",
      "WARNING: MYSQL_OPT_RECONNECT is deprecated and will be removed in a future version.\n",
      "[I 2023-08-28 07:24:14,595] Trial 123 finished with value: -0.08300049925112332 and parameters: {'contamination': 0.0032034107574674866, 'max_features': 0.10045466054034857, 'max_samples': 0.9632515926955372, 'n_estimators': 308}. Best is trial 116 with value: -0.08487269096355467.\n",
      "WARNING: MYSQL_OPT_RECONNECT is deprecated and will be removed in a future version.\n",
      "WARNING: MYSQL_OPT_RECONNECT is deprecated and will be removed in a future version.\n",
      "WARNING: MYSQL_OPT_RECONNECT is deprecated and will be removed in a future version.\n",
      "WARNING: MYSQL_OPT_RECONNECT is deprecated and will be removed in a future version.\n",
      "WARNING: MYSQL_OPT_RECONNECT is deprecated and will be removed in a future version.\n",
      "WARNING: MYSQL_OPT_RECONNECT is deprecated and will be removed in a future version.\n",
      "WARNING: MYSQL_OPT_RECONNECT is deprecated and will be removed in a future version.\n",
      "WARNING: MYSQL_OPT_RECONNECT is deprecated and will be removed in a future version.\n"
     ]
    },
    {
     "data": {
      "text/html": [],
      "text/plain": [
       "<IPython.core.display.HTML object>"
      ]
     },
     "metadata": {},
     "output_type": "display_data"
    },
    {
     "data": {
      "text/html": [],
      "text/plain": [
       "<IPython.core.display.HTML object>"
      ]
     },
     "metadata": {},
     "output_type": "display_data"
    },
    {
     "data": {
      "text/html": [],
      "text/plain": [
       "<IPython.core.display.HTML object>"
      ]
     },
     "metadata": {},
     "output_type": "display_data"
    },
    {
     "name": "stderr",
     "output_type": "stream",
     "text": [
      "WARNING: MYSQL_OPT_RECONNECT is deprecated and will be removed in a future version.\n",
      "WARNING: MYSQL_OPT_RECONNECT is deprecated and will be removed in a future version.\n",
      "WARNING: MYSQL_OPT_RECONNECT is deprecated and will be removed in a future version.\n",
      "WARNING: MYSQL_OPT_RECONNECT is deprecated and will be removed in a future version.\n",
      "WARNING: MYSQL_OPT_RECONNECT is deprecated and will be removed in a future version.\n",
      "WARNING: MYSQL_OPT_RECONNECT is deprecated and will be removed in a future version.\n",
      "WARNING: MYSQL_OPT_RECONNECT is deprecated and will be removed in a future version.\n",
      "[I 2023-08-28 07:24:32,480] Trial 126 finished with value: -0.08424862705941087 and parameters: {'contamination': 0.0033006309269872328, 'max_features': 0.1121881603090071, 'max_samples': 0.9831050276095454, 'n_estimators': 246}. Best is trial 116 with value: -0.08487269096355467.\n",
      "WARNING: MYSQL_OPT_RECONNECT is deprecated and will be removed in a future version.\n",
      "WARNING: MYSQL_OPT_RECONNECT is deprecated and will be removed in a future version.\n",
      "WARNING: MYSQL_OPT_RECONNECT is deprecated and will be removed in a future version.\n",
      "WARNING: MYSQL_OPT_RECONNECT is deprecated and will be removed in a future version.\n",
      "WARNING: MYSQL_OPT_RECONNECT is deprecated and will be removed in a future version.\n",
      "WARNING: MYSQL_OPT_RECONNECT is deprecated and will be removed in a future version.\n",
      "WARNING: MYSQL_OPT_RECONNECT is deprecated and will be removed in a future version.\n",
      "WARNING: MYSQL_OPT_RECONNECT is deprecated and will be removed in a future version.\n"
     ]
    },
    {
     "data": {
      "text/html": [],
      "text/plain": [
       "<IPython.core.display.HTML object>"
      ]
     },
     "metadata": {},
     "output_type": "display_data"
    },
    {
     "data": {
      "text/html": [],
      "text/plain": [
       "<IPython.core.display.HTML object>"
      ]
     },
     "metadata": {},
     "output_type": "display_data"
    },
    {
     "data": {
      "text/html": [],
      "text/plain": [
       "<IPython.core.display.HTML object>"
      ]
     },
     "metadata": {},
     "output_type": "display_data"
    },
    {
     "name": "stderr",
     "output_type": "stream",
     "text": [
      "WARNING: MYSQL_OPT_RECONNECT is deprecated and will be removed in a future version.\n",
      "WARNING: MYSQL_OPT_RECONNECT is deprecated and will be removed in a future version.\n",
      "WARNING: MYSQL_OPT_RECONNECT is deprecated and will be removed in a future version.\n",
      "WARNING: MYSQL_OPT_RECONNECT is deprecated and will be removed in a future version.\n",
      "WARNING: MYSQL_OPT_RECONNECT is deprecated and will be removed in a future version.\n",
      "WARNING: MYSQL_OPT_RECONNECT is deprecated and will be removed in a future version.\n",
      "WARNING: MYSQL_OPT_RECONNECT is deprecated and will be removed in a future version.\n",
      "[I 2023-08-28 07:24:53,078] Trial 128 finished with value: -0.08487269096355467 and parameters: {'contamination': 0.008603895909077617, 'max_features': 0.14217879746655218, 'max_samples': 0.9780840861863068, 'n_estimators': 280}. Best is trial 116 with value: -0.08487269096355467.\n",
      "WARNING: MYSQL_OPT_RECONNECT is deprecated and will be removed in a future version.\n",
      "WARNING: MYSQL_OPT_RECONNECT is deprecated and will be removed in a future version.\n",
      "WARNING: MYSQL_OPT_RECONNECT is deprecated and will be removed in a future version.\n",
      "WARNING: MYSQL_OPT_RECONNECT is deprecated and will be removed in a future version.\n",
      "WARNING: MYSQL_OPT_RECONNECT is deprecated and will be removed in a future version.\n",
      "WARNING: MYSQL_OPT_RECONNECT is deprecated and will be removed in a future version.\n",
      "WARNING: MYSQL_OPT_RECONNECT is deprecated and will be removed in a future version.\n",
      "WARNING: MYSQL_OPT_RECONNECT is deprecated and will be removed in a future version.\n"
     ]
    },
    {
     "data": {
      "text/html": [],
      "text/plain": [
       "<IPython.core.display.HTML object>"
      ]
     },
     "metadata": {},
     "output_type": "display_data"
    },
    {
     "data": {
      "text/html": [],
      "text/plain": [
       "<IPython.core.display.HTML object>"
      ]
     },
     "metadata": {},
     "output_type": "display_data"
    },
    {
     "data": {
      "text/html": [],
      "text/plain": [
       "<IPython.core.display.HTML object>"
      ]
     },
     "metadata": {},
     "output_type": "display_data"
    },
    {
     "name": "stderr",
     "output_type": "stream",
     "text": [
      "WARNING: MYSQL_OPT_RECONNECT is deprecated and will be removed in a future version.\n",
      "WARNING: MYSQL_OPT_RECONNECT is deprecated and will be removed in a future version.\n",
      "WARNING: MYSQL_OPT_RECONNECT is deprecated and will be removed in a future version.\n",
      "WARNING: MYSQL_OPT_RECONNECT is deprecated and will be removed in a future version.\n",
      "WARNING: MYSQL_OPT_RECONNECT is deprecated and will be removed in a future version.\n",
      "WARNING: MYSQL_OPT_RECONNECT is deprecated and will be removed in a future version.\n",
      "WARNING: MYSQL_OPT_RECONNECT is deprecated and will be removed in a future version.\n",
      "[I 2023-08-28 07:25:16,664] Trial 130 finished with value: -0.0836245631552671 and parameters: {'contamination': 0.008061718275139476, 'max_features': 0.14617627906686895, 'max_samples': 0.9825403949288343, 'n_estimators': 319}. Best is trial 116 with value: -0.08487269096355467.\n",
      "WARNING: MYSQL_OPT_RECONNECT is deprecated and will be removed in a future version.\n",
      "WARNING: MYSQL_OPT_RECONNECT is deprecated and will be removed in a future version.\n",
      "WARNING: MYSQL_OPT_RECONNECT is deprecated and will be removed in a future version.\n",
      "WARNING: MYSQL_OPT_RECONNECT is deprecated and will be removed in a future version.\n",
      "WARNING: MYSQL_OPT_RECONNECT is deprecated and will be removed in a future version.\n",
      "WARNING: MYSQL_OPT_RECONNECT is deprecated and will be removed in a future version.\n",
      "WARNING: MYSQL_OPT_RECONNECT is deprecated and will be removed in a future version.\n",
      "WARNING: MYSQL_OPT_RECONNECT is deprecated and will be removed in a future version.\n"
     ]
    },
    {
     "data": {
      "text/html": [],
      "text/plain": [
       "<IPython.core.display.HTML object>"
      ]
     },
     "metadata": {},
     "output_type": "display_data"
    },
    {
     "data": {
      "text/html": [],
      "text/plain": [
       "<IPython.core.display.HTML object>"
      ]
     },
     "metadata": {},
     "output_type": "display_data"
    },
    {
     "data": {
      "text/html": [],
      "text/plain": [
       "<IPython.core.display.HTML object>"
      ]
     },
     "metadata": {},
     "output_type": "display_data"
    },
    {
     "name": "stderr",
     "output_type": "stream",
     "text": [
      "WARNING: MYSQL_OPT_RECONNECT is deprecated and will be removed in a future version.\n",
      "WARNING: MYSQL_OPT_RECONNECT is deprecated and will be removed in a future version.\n",
      "WARNING: MYSQL_OPT_RECONNECT is deprecated and will be removed in a future version.\n",
      "WARNING: MYSQL_OPT_RECONNECT is deprecated and will be removed in a future version.\n",
      "WARNING: MYSQL_OPT_RECONNECT is deprecated and will be removed in a future version.\n",
      "WARNING: MYSQL_OPT_RECONNECT is deprecated and will be removed in a future version.\n",
      "WARNING: MYSQL_OPT_RECONNECT is deprecated and will be removed in a future version.\n",
      "[I 2023-08-28 07:25:31,591] Trial 132 finished with value: -0.08424862705941087 and parameters: {'contamination': 0.008705187474034454, 'max_features': 0.13719218473300882, 'max_samples': 0.9853037360971051, 'n_estimators': 203}. Best is trial 116 with value: -0.08487269096355467.\n",
      "WARNING: MYSQL_OPT_RECONNECT is deprecated and will be removed in a future version.\n",
      "WARNING: MYSQL_OPT_RECONNECT is deprecated and will be removed in a future version.\n",
      "WARNING: MYSQL_OPT_RECONNECT is deprecated and will be removed in a future version.\n",
      "WARNING: MYSQL_OPT_RECONNECT is deprecated and will be removed in a future version.\n",
      "WARNING: MYSQL_OPT_RECONNECT is deprecated and will be removed in a future version.\n",
      "WARNING: MYSQL_OPT_RECONNECT is deprecated and will be removed in a future version.\n",
      "WARNING: MYSQL_OPT_RECONNECT is deprecated and will be removed in a future version.\n",
      "WARNING: MYSQL_OPT_RECONNECT is deprecated and will be removed in a future version.\n"
     ]
    },
    {
     "data": {
      "text/html": [],
      "text/plain": [
       "<IPython.core.display.HTML object>"
      ]
     },
     "metadata": {},
     "output_type": "display_data"
    },
    {
     "data": {
      "text/html": [],
      "text/plain": [
       "<IPython.core.display.HTML object>"
      ]
     },
     "metadata": {},
     "output_type": "display_data"
    },
    {
     "data": {
      "text/html": [],
      "text/plain": [
       "<IPython.core.display.HTML object>"
      ]
     },
     "metadata": {},
     "output_type": "display_data"
    },
    {
     "name": "stderr",
     "output_type": "stream",
     "text": [
      "WARNING: MYSQL_OPT_RECONNECT is deprecated and will be removed in a future version.\n",
      "WARNING: MYSQL_OPT_RECONNECT is deprecated and will be removed in a future version.\n",
      "WARNING: MYSQL_OPT_RECONNECT is deprecated and will be removed in a future version.\n",
      "WARNING: MYSQL_OPT_RECONNECT is deprecated and will be removed in a future version.\n",
      "WARNING: MYSQL_OPT_RECONNECT is deprecated and will be removed in a future version.\n",
      "WARNING: MYSQL_OPT_RECONNECT is deprecated and will be removed in a future version.\n",
      "WARNING: MYSQL_OPT_RECONNECT is deprecated and will be removed in a future version.\n",
      "[I 2023-08-28 07:25:43,588] Trial 134 finished with value: -0.05491762356465303 and parameters: {'contamination': 0.008435483890602193, 'max_features': 0.16761874469926713, 'max_samples': 0.9545898694537942, 'n_estimators': 158}. Best is trial 116 with value: -0.08487269096355467.\n",
      "WARNING: MYSQL_OPT_RECONNECT is deprecated and will be removed in a future version.\n",
      "WARNING: MYSQL_OPT_RECONNECT is deprecated and will be removed in a future version.\n",
      "WARNING: MYSQL_OPT_RECONNECT is deprecated and will be removed in a future version.\n",
      "WARNING: MYSQL_OPT_RECONNECT is deprecated and will be removed in a future version.\n",
      "WARNING: MYSQL_OPT_RECONNECT is deprecated and will be removed in a future version.\n",
      "WARNING: MYSQL_OPT_RECONNECT is deprecated and will be removed in a future version.\n",
      "WARNING: MYSQL_OPT_RECONNECT is deprecated and will be removed in a future version.\n",
      "WARNING: MYSQL_OPT_RECONNECT is deprecated and will be removed in a future version.\n"
     ]
    },
    {
     "data": {
      "text/html": [],
      "text/plain": [
       "<IPython.core.display.HTML object>"
      ]
     },
     "metadata": {},
     "output_type": "display_data"
    },
    {
     "data": {
      "text/html": [],
      "text/plain": [
       "<IPython.core.display.HTML object>"
      ]
     },
     "metadata": {},
     "output_type": "display_data"
    },
    {
     "data": {
      "text/html": [],
      "text/plain": [
       "<IPython.core.display.HTML object>"
      ]
     },
     "metadata": {},
     "output_type": "display_data"
    },
    {
     "name": "stderr",
     "output_type": "stream",
     "text": [
      "WARNING: MYSQL_OPT_RECONNECT is deprecated and will be removed in a future version.\n",
      "WARNING: MYSQL_OPT_RECONNECT is deprecated and will be removed in a future version.\n",
      "WARNING: MYSQL_OPT_RECONNECT is deprecated and will be removed in a future version.\n",
      "WARNING: MYSQL_OPT_RECONNECT is deprecated and will be removed in a future version.\n",
      "WARNING: MYSQL_OPT_RECONNECT is deprecated and will be removed in a future version.\n",
      "WARNING: MYSQL_OPT_RECONNECT is deprecated and will be removed in a future version.\n",
      "WARNING: MYSQL_OPT_RECONNECT is deprecated and will be removed in a future version.\n",
      "[I 2023-08-28 07:25:59,412] Trial 135 finished with value: -0.08487269096355467 and parameters: {'contamination': 0.011431152593430045, 'max_features': 0.13684845056553716, 'max_samples': 0.9602639602804638, 'n_estimators': 204}. Best is trial 116 with value: -0.08487269096355467.\n",
      "WARNING: MYSQL_OPT_RECONNECT is deprecated and will be removed in a future version.\n",
      "WARNING: MYSQL_OPT_RECONNECT is deprecated and will be removed in a future version.\n",
      "WARNING: MYSQL_OPT_RECONNECT is deprecated and will be removed in a future version.\n",
      "WARNING: MYSQL_OPT_RECONNECT is deprecated and will be removed in a future version.\n",
      "WARNING: MYSQL_OPT_RECONNECT is deprecated and will be removed in a future version.\n",
      "WARNING: MYSQL_OPT_RECONNECT is deprecated and will be removed in a future version.\n",
      "WARNING: MYSQL_OPT_RECONNECT is deprecated and will be removed in a future version.\n",
      "WARNING: MYSQL_OPT_RECONNECT is deprecated and will be removed in a future version.\n"
     ]
    },
    {
     "data": {
      "text/html": [],
      "text/plain": [
       "<IPython.core.display.HTML object>"
      ]
     },
     "metadata": {},
     "output_type": "display_data"
    },
    {
     "data": {
      "text/html": [],
      "text/plain": [
       "<IPython.core.display.HTML object>"
      ]
     },
     "metadata": {},
     "output_type": "display_data"
    },
    {
     "data": {
      "text/html": [],
      "text/plain": [
       "<IPython.core.display.HTML object>"
      ]
     },
     "metadata": {},
     "output_type": "display_data"
    },
    {
     "name": "stderr",
     "output_type": "stream",
     "text": [
      "WARNING: MYSQL_OPT_RECONNECT is deprecated and will be removed in a future version.\n",
      "WARNING: MYSQL_OPT_RECONNECT is deprecated and will be removed in a future version.\n",
      "WARNING: MYSQL_OPT_RECONNECT is deprecated and will be removed in a future version.\n",
      "WARNING: MYSQL_OPT_RECONNECT is deprecated and will be removed in a future version.\n",
      "WARNING: MYSQL_OPT_RECONNECT is deprecated and will be removed in a future version.\n",
      "WARNING: MYSQL_OPT_RECONNECT is deprecated and will be removed in a future version.\n",
      "WARNING: MYSQL_OPT_RECONNECT is deprecated and will be removed in a future version.\n",
      "[I 2023-08-28 07:26:51,239] Trial 137 finished with value: -0.05803794308537194 and parameters: {'contamination': 0.012051583612746195, 'max_features': 0.19956988302106216, 'max_samples': 0.9044467889083343, 'n_estimators': 209}. Best is trial 116 with value: -0.08487269096355467.\n",
      "WARNING: MYSQL_OPT_RECONNECT is deprecated and will be removed in a future version.\n",
      "WARNING: MYSQL_OPT_RECONNECT is deprecated and will be removed in a future version.\n",
      "WARNING: MYSQL_OPT_RECONNECT is deprecated and will be removed in a future version.\n",
      "WARNING: MYSQL_OPT_RECONNECT is deprecated and will be removed in a future version.\n",
      "WARNING: MYSQL_OPT_RECONNECT is deprecated and will be removed in a future version.\n",
      "WARNING: MYSQL_OPT_RECONNECT is deprecated and will be removed in a future version.\n",
      "WARNING: MYSQL_OPT_RECONNECT is deprecated and will be removed in a future version.\n",
      "WARNING: MYSQL_OPT_RECONNECT is deprecated and will be removed in a future version.\n"
     ]
    },
    {
     "data": {
      "text/html": [],
      "text/plain": [
       "<IPython.core.display.HTML object>"
      ]
     },
     "metadata": {},
     "output_type": "display_data"
    },
    {
     "data": {
      "text/html": [],
      "text/plain": [
       "<IPython.core.display.HTML object>"
      ]
     },
     "metadata": {},
     "output_type": "display_data"
    },
    {
     "data": {
      "text/html": [],
      "text/plain": [
       "<IPython.core.display.HTML object>"
      ]
     },
     "metadata": {},
     "output_type": "display_data"
    },
    {
     "name": "stderr",
     "output_type": "stream",
     "text": [
      "WARNING: MYSQL_OPT_RECONNECT is deprecated and will be removed in a future version.\n",
      "WARNING: MYSQL_OPT_RECONNECT is deprecated and will be removed in a future version.\n",
      "WARNING: MYSQL_OPT_RECONNECT is deprecated and will be removed in a future version.\n",
      "WARNING: MYSQL_OPT_RECONNECT is deprecated and will be removed in a future version.\n",
      "WARNING: MYSQL_OPT_RECONNECT is deprecated and will be removed in a future version.\n",
      "WARNING: MYSQL_OPT_RECONNECT is deprecated and will be removed in a future version.\n",
      "WARNING: MYSQL_OPT_RECONNECT is deprecated and will be removed in a future version.\n",
      "[I 2023-08-28 07:27:15,261] Trial 140 finished with value: -0.063654518222666 and parameters: {'contamination': 0.007734223085597616, 'max_features': 0.15924626270546594, 'max_samples': 0.9601383079579944, 'n_estimators': 241}. Best is trial 116 with value: -0.08487269096355467.\n",
      "WARNING: MYSQL_OPT_RECONNECT is deprecated and will be removed in a future version.\n",
      "WARNING: MYSQL_OPT_RECONNECT is deprecated and will be removed in a future version.\n",
      "WARNING: MYSQL_OPT_RECONNECT is deprecated and will be removed in a future version.\n",
      "WARNING: MYSQL_OPT_RECONNECT is deprecated and will be removed in a future version.\n",
      "WARNING: MYSQL_OPT_RECONNECT is deprecated and will be removed in a future version.\n",
      "WARNING: MYSQL_OPT_RECONNECT is deprecated and will be removed in a future version.\n",
      "WARNING: MYSQL_OPT_RECONNECT is deprecated and will be removed in a future version.\n",
      "WARNING: MYSQL_OPT_RECONNECT is deprecated and will be removed in a future version.\n"
     ]
    },
    {
     "data": {
      "text/html": [],
      "text/plain": [
       "<IPython.core.display.HTML object>"
      ]
     },
     "metadata": {},
     "output_type": "display_data"
    },
    {
     "data": {
      "text/html": [],
      "text/plain": [
       "<IPython.core.display.HTML object>"
      ]
     },
     "metadata": {},
     "output_type": "display_data"
    },
    {
     "data": {
      "text/html": [],
      "text/plain": [
       "<IPython.core.display.HTML object>"
      ]
     },
     "metadata": {},
     "output_type": "display_data"
    },
    {
     "name": "stderr",
     "output_type": "stream",
     "text": [
      "WARNING: MYSQL_OPT_RECONNECT is deprecated and will be removed in a future version.\n",
      "WARNING: MYSQL_OPT_RECONNECT is deprecated and will be removed in a future version.\n",
      "WARNING: MYSQL_OPT_RECONNECT is deprecated and will be removed in a future version.\n",
      "WARNING: MYSQL_OPT_RECONNECT is deprecated and will be removed in a future version.\n",
      "WARNING: MYSQL_OPT_RECONNECT is deprecated and will be removed in a future version.\n",
      "WARNING: MYSQL_OPT_RECONNECT is deprecated and will be removed in a future version.\n",
      "WARNING: MYSQL_OPT_RECONNECT is deprecated and will be removed in a future version.\n",
      "[I 2023-08-28 07:27:38,883] Trial 142 finished with value: -0.0836245631552671 and parameters: {'contamination': 0.009194632705324264, 'max_features': 0.10302814844768265, 'max_samples': 0.9987276450501861, 'n_estimators': 318}. Best is trial 116 with value: -0.08487269096355467.\n",
      "WARNING: MYSQL_OPT_RECONNECT is deprecated and will be removed in a future version.\n",
      "WARNING: MYSQL_OPT_RECONNECT is deprecated and will be removed in a future version.\n",
      "WARNING: MYSQL_OPT_RECONNECT is deprecated and will be removed in a future version.\n",
      "WARNING: MYSQL_OPT_RECONNECT is deprecated and will be removed in a future version.\n",
      "WARNING: MYSQL_OPT_RECONNECT is deprecated and will be removed in a future version.\n",
      "WARNING: MYSQL_OPT_RECONNECT is deprecated and will be removed in a future version.\n",
      "WARNING: MYSQL_OPT_RECONNECT is deprecated and will be removed in a future version.\n",
      "WARNING: MYSQL_OPT_RECONNECT is deprecated and will be removed in a future version.\n"
     ]
    },
    {
     "data": {
      "text/html": [],
      "text/plain": [
       "<IPython.core.display.HTML object>"
      ]
     },
     "metadata": {},
     "output_type": "display_data"
    },
    {
     "data": {
      "text/html": [],
      "text/plain": [
       "<IPython.core.display.HTML object>"
      ]
     },
     "metadata": {},
     "output_type": "display_data"
    },
    {
     "data": {
      "text/html": [],
      "text/plain": [
       "<IPython.core.display.HTML object>"
      ]
     },
     "metadata": {},
     "output_type": "display_data"
    },
    {
     "name": "stderr",
     "output_type": "stream",
     "text": [
      "WARNING: MYSQL_OPT_RECONNECT is deprecated and will be removed in a future version.\n",
      "WARNING: MYSQL_OPT_RECONNECT is deprecated and will be removed in a future version.\n",
      "WARNING: MYSQL_OPT_RECONNECT is deprecated and will be removed in a future version.\n",
      "WARNING: MYSQL_OPT_RECONNECT is deprecated and will be removed in a future version.\n",
      "WARNING: MYSQL_OPT_RECONNECT is deprecated and will be removed in a future version.\n",
      "WARNING: MYSQL_OPT_RECONNECT is deprecated and will be removed in a future version.\n",
      "WARNING: MYSQL_OPT_RECONNECT is deprecated and will be removed in a future version.\n",
      "[I 2023-08-28 07:28:01,801] Trial 144 finished with value: -0.08175237144283574 and parameters: {'contamination': 0.00895657104445788, 'max_features': 0.12460459068562105, 'max_samples': 0.94177336932327, 'n_estimators': 310}. Best is trial 116 with value: -0.08487269096355467.\n",
      "WARNING: MYSQL_OPT_RECONNECT is deprecated and will be removed in a future version.\n",
      "WARNING: MYSQL_OPT_RECONNECT is deprecated and will be removed in a future version.\n",
      "WARNING: MYSQL_OPT_RECONNECT is deprecated and will be removed in a future version.\n",
      "WARNING: MYSQL_OPT_RECONNECT is deprecated and will be removed in a future version.\n",
      "WARNING: MYSQL_OPT_RECONNECT is deprecated and will be removed in a future version.\n",
      "WARNING: MYSQL_OPT_RECONNECT is deprecated and will be removed in a future version.\n",
      "WARNING: MYSQL_OPT_RECONNECT is deprecated and will be removed in a future version.\n",
      "WARNING: MYSQL_OPT_RECONNECT is deprecated and will be removed in a future version.\n"
     ]
    },
    {
     "data": {
      "text/html": [],
      "text/plain": [
       "<IPython.core.display.HTML object>"
      ]
     },
     "metadata": {},
     "output_type": "display_data"
    },
    {
     "data": {
      "text/html": [],
      "text/plain": [
       "<IPython.core.display.HTML object>"
      ]
     },
     "metadata": {},
     "output_type": "display_data"
    },
    {
     "data": {
      "text/html": [],
      "text/plain": [
       "<IPython.core.display.HTML object>"
      ]
     },
     "metadata": {},
     "output_type": "display_data"
    },
    {
     "name": "stderr",
     "output_type": "stream",
     "text": [
      "WARNING: MYSQL_OPT_RECONNECT is deprecated and will be removed in a future version.\n",
      "WARNING: MYSQL_OPT_RECONNECT is deprecated and will be removed in a future version.\n",
      "WARNING: MYSQL_OPT_RECONNECT is deprecated and will be removed in a future version.\n",
      "WARNING: MYSQL_OPT_RECONNECT is deprecated and will be removed in a future version.\n",
      "WARNING: MYSQL_OPT_RECONNECT is deprecated and will be removed in a future version.\n",
      "WARNING: MYSQL_OPT_RECONNECT is deprecated and will be removed in a future version.\n",
      "WARNING: MYSQL_OPT_RECONNECT is deprecated and will be removed in a future version.\n",
      "[I 2023-08-28 07:28:16,576] Trial 147 finished with value: -0.08612081877184223 and parameters: {'contamination': 0.006762370434478793, 'max_features': 0.1381898811175073, 'max_samples': 0.9810026719619328, 'n_estimators': 200}. Best is trial 147 with value: -0.08612081877184223.\n",
      "WARNING: MYSQL_OPT_RECONNECT is deprecated and will be removed in a future version.\n",
      "WARNING: MYSQL_OPT_RECONNECT is deprecated and will be removed in a future version.\n",
      "WARNING: MYSQL_OPT_RECONNECT is deprecated and will be removed in a future version.\n",
      "WARNING: MYSQL_OPT_RECONNECT is deprecated and will be removed in a future version.\n",
      "WARNING: MYSQL_OPT_RECONNECT is deprecated and will be removed in a future version.\n",
      "WARNING: MYSQL_OPT_RECONNECT is deprecated and will be removed in a future version.\n",
      "WARNING: MYSQL_OPT_RECONNECT is deprecated and will be removed in a future version.\n",
      "WARNING: MYSQL_OPT_RECONNECT is deprecated and will be removed in a future version.\n"
     ]
    },
    {
     "data": {
      "text/html": [],
      "text/plain": [
       "<IPython.core.display.HTML object>"
      ]
     },
     "metadata": {},
     "output_type": "display_data"
    },
    {
     "data": {
      "text/html": [],
      "text/plain": [
       "<IPython.core.display.HTML object>"
      ]
     },
     "metadata": {},
     "output_type": "display_data"
    },
    {
     "data": {
      "text/html": [],
      "text/plain": [
       "<IPython.core.display.HTML object>"
      ]
     },
     "metadata": {},
     "output_type": "display_data"
    },
    {
     "name": "stderr",
     "output_type": "stream",
     "text": [
      "WARNING: MYSQL_OPT_RECONNECT is deprecated and will be removed in a future version.\n",
      "WARNING: MYSQL_OPT_RECONNECT is deprecated and will be removed in a future version.\n",
      "WARNING: MYSQL_OPT_RECONNECT is deprecated and will be removed in a future version.\n",
      "WARNING: MYSQL_OPT_RECONNECT is deprecated and will be removed in a future version.\n",
      "WARNING: MYSQL_OPT_RECONNECT is deprecated and will be removed in a future version.\n",
      "WARNING: MYSQL_OPT_RECONNECT is deprecated and will be removed in a future version.\n",
      "WARNING: MYSQL_OPT_RECONNECT is deprecated and will be removed in a future version.\n",
      "[I 2023-08-28 07:28:35,707] Trial 149 finished with value: -0.05054917623564653 and parameters: {'contamination': 0.006583773522075803, 'max_features': 0.2842354478467708, 'max_samples': 0.9851812418244145, 'n_estimators': 265}. Best is trial 147 with value: -0.08612081877184223.\n",
      "WARNING: MYSQL_OPT_RECONNECT is deprecated and will be removed in a future version.\n",
      "WARNING: MYSQL_OPT_RECONNECT is deprecated and will be removed in a future version.\n",
      "WARNING: MYSQL_OPT_RECONNECT is deprecated and will be removed in a future version.\n",
      "WARNING: MYSQL_OPT_RECONNECT is deprecated and will be removed in a future version.\n",
      "WARNING: MYSQL_OPT_RECONNECT is deprecated and will be removed in a future version.\n",
      "WARNING: MYSQL_OPT_RECONNECT is deprecated and will be removed in a future version.\n",
      "WARNING: MYSQL_OPT_RECONNECT is deprecated and will be removed in a future version.\n",
      "WARNING: MYSQL_OPT_RECONNECT is deprecated and will be removed in a future version.\n"
     ]
    },
    {
     "data": {
      "text/html": [],
      "text/plain": [
       "<IPython.core.display.HTML object>"
      ]
     },
     "metadata": {},
     "output_type": "display_data"
    },
    {
     "data": {
      "text/html": [],
      "text/plain": [
       "<IPython.core.display.HTML object>"
      ]
     },
     "metadata": {},
     "output_type": "display_data"
    },
    {
     "data": {
      "text/html": [],
      "text/plain": [
       "<IPython.core.display.HTML object>"
      ]
     },
     "metadata": {},
     "output_type": "display_data"
    },
    {
     "name": "stderr",
     "output_type": "stream",
     "text": [
      "WARNING: MYSQL_OPT_RECONNECT is deprecated and will be removed in a future version.\n",
      "WARNING: MYSQL_OPT_RECONNECT is deprecated and will be removed in a future version.\n",
      "WARNING: MYSQL_OPT_RECONNECT is deprecated and will be removed in a future version.\n",
      "WARNING: MYSQL_OPT_RECONNECT is deprecated and will be removed in a future version.\n",
      "WARNING: MYSQL_OPT_RECONNECT is deprecated and will be removed in a future version.\n",
      "WARNING: MYSQL_OPT_RECONNECT is deprecated and will be removed in a future version.\n",
      "WARNING: MYSQL_OPT_RECONNECT is deprecated and will be removed in a future version.\n",
      "[I 2023-08-28 07:29:27,351] Trial 151 finished with value: -0.05678981527708438 and parameters: {'contamination': 0.011142569205450063, 'max_features': 0.22742653571824378, 'max_samples': 0.9986081360496047, 'n_estimators': 195}. Best is trial 147 with value: -0.08612081877184223.\n",
      "WARNING: MYSQL_OPT_RECONNECT is deprecated and will be removed in a future version.\n",
      "WARNING: MYSQL_OPT_RECONNECT is deprecated and will be removed in a future version.\n",
      "WARNING: MYSQL_OPT_RECONNECT is deprecated and will be removed in a future version.\n",
      "WARNING: MYSQL_OPT_RECONNECT is deprecated and will be removed in a future version.\n",
      "WARNING: MYSQL_OPT_RECONNECT is deprecated and will be removed in a future version.\n",
      "WARNING: MYSQL_OPT_RECONNECT is deprecated and will be removed in a future version.\n",
      "WARNING: MYSQL_OPT_RECONNECT is deprecated and will be removed in a future version.\n",
      "WARNING: MYSQL_OPT_RECONNECT is deprecated and will be removed in a future version.\n"
     ]
    },
    {
     "data": {
      "text/html": [],
      "text/plain": [
       "<IPython.core.display.HTML object>"
      ]
     },
     "metadata": {},
     "output_type": "display_data"
    },
    {
     "data": {
      "text/html": [],
      "text/plain": [
       "<IPython.core.display.HTML object>"
      ]
     },
     "metadata": {},
     "output_type": "display_data"
    },
    {
     "data": {
      "text/html": [],
      "text/plain": [
       "<IPython.core.display.HTML object>"
      ]
     },
     "metadata": {},
     "output_type": "display_data"
    },
    {
     "name": "stderr",
     "output_type": "stream",
     "text": [
      "WARNING: MYSQL_OPT_RECONNECT is deprecated and will be removed in a future version.\n",
      "WARNING: MYSQL_OPT_RECONNECT is deprecated and will be removed in a future version.\n",
      "WARNING: MYSQL_OPT_RECONNECT is deprecated and will be removed in a future version.\n",
      "WARNING: MYSQL_OPT_RECONNECT is deprecated and will be removed in a future version.\n",
      "WARNING: MYSQL_OPT_RECONNECT is deprecated and will be removed in a future version.\n",
      "WARNING: MYSQL_OPT_RECONNECT is deprecated and will be removed in a future version.\n",
      "WARNING: MYSQL_OPT_RECONNECT is deprecated and will be removed in a future version.\n",
      "[I 2023-08-28 07:30:10,569] Trial 154 finished with value: -0.08424862705941087 and parameters: {'contamination': 0.008814325943162966, 'max_features': 0.10148905630361511, 'max_samples': 0.9674285386871838, 'n_estimators': 280}. Best is trial 147 with value: -0.08612081877184223.\n",
      "WARNING: MYSQL_OPT_RECONNECT is deprecated and will be removed in a future version.\n",
      "WARNING: MYSQL_OPT_RECONNECT is deprecated and will be removed in a future version.\n",
      "WARNING: MYSQL_OPT_RECONNECT is deprecated and will be removed in a future version.\n",
      "WARNING: MYSQL_OPT_RECONNECT is deprecated and will be removed in a future version.\n",
      "WARNING: MYSQL_OPT_RECONNECT is deprecated and will be removed in a future version.\n",
      "WARNING: MYSQL_OPT_RECONNECT is deprecated and will be removed in a future version.\n",
      "WARNING: MYSQL_OPT_RECONNECT is deprecated and will be removed in a future version.\n",
      "WARNING: MYSQL_OPT_RECONNECT is deprecated and will be removed in a future version.\n"
     ]
    },
    {
     "data": {
      "text/html": [],
      "text/plain": [
       "<IPython.core.display.HTML object>"
      ]
     },
     "metadata": {},
     "output_type": "display_data"
    },
    {
     "data": {
      "text/html": [],
      "text/plain": [
       "<IPython.core.display.HTML object>"
      ]
     },
     "metadata": {},
     "output_type": "display_data"
    },
    {
     "data": {
      "text/html": [],
      "text/plain": [
       "<IPython.core.display.HTML object>"
      ]
     },
     "metadata": {},
     "output_type": "display_data"
    },
    {
     "name": "stderr",
     "output_type": "stream",
     "text": [
      "WARNING: MYSQL_OPT_RECONNECT is deprecated and will be removed in a future version.\n",
      "WARNING: MYSQL_OPT_RECONNECT is deprecated and will be removed in a future version.\n",
      "WARNING: MYSQL_OPT_RECONNECT is deprecated and will be removed in a future version.\n",
      "WARNING: MYSQL_OPT_RECONNECT is deprecated and will be removed in a future version.\n",
      "WARNING: MYSQL_OPT_RECONNECT is deprecated and will be removed in a future version.\n",
      "WARNING: MYSQL_OPT_RECONNECT is deprecated and will be removed in a future version.\n",
      "WARNING: MYSQL_OPT_RECONNECT is deprecated and will be removed in a future version.\n",
      "[I 2023-08-28 07:30:30,984] Trial 158 finished with value: -0.0836245631552671 and parameters: {'contamination': 0.006675902563069398, 'max_features': 0.1368609677318071, 'max_samples': 0.9405078515832943, 'n_estimators': 233}. Best is trial 147 with value: -0.08612081877184223.\n",
      "WARNING: MYSQL_OPT_RECONNECT is deprecated and will be removed in a future version.\n",
      "WARNING: MYSQL_OPT_RECONNECT is deprecated and will be removed in a future version.\n",
      "WARNING: MYSQL_OPT_RECONNECT is deprecated and will be removed in a future version.\n",
      "WARNING: MYSQL_OPT_RECONNECT is deprecated and will be removed in a future version.\n",
      "WARNING: MYSQL_OPT_RECONNECT is deprecated and will be removed in a future version.\n",
      "WARNING: MYSQL_OPT_RECONNECT is deprecated and will be removed in a future version.\n",
      "WARNING: MYSQL_OPT_RECONNECT is deprecated and will be removed in a future version.\n",
      "WARNING: MYSQL_OPT_RECONNECT is deprecated and will be removed in a future version.\n"
     ]
    },
    {
     "data": {
      "text/html": [],
      "text/plain": [
       "<IPython.core.display.HTML object>"
      ]
     },
     "metadata": {},
     "output_type": "display_data"
    },
    {
     "data": {
      "text/html": [],
      "text/plain": [
       "<IPython.core.display.HTML object>"
      ]
     },
     "metadata": {},
     "output_type": "display_data"
    },
    {
     "data": {
      "text/html": [],
      "text/plain": [
       "<IPython.core.display.HTML object>"
      ]
     },
     "metadata": {},
     "output_type": "display_data"
    },
    {
     "name": "stderr",
     "output_type": "stream",
     "text": [
      "WARNING: MYSQL_OPT_RECONNECT is deprecated and will be removed in a future version.\n",
      "WARNING: MYSQL_OPT_RECONNECT is deprecated and will be removed in a future version.\n",
      "[I 2023-08-28 07:31:12,364] Trial 160 finished with value: -0.05678981527708438 and parameters: {'contamination': 0.006818687006049618, 'max_features': 0.16347724171357772, 'max_samples': 0.649594964496911, 'n_estimators': 251}. Best is trial 147 with value: -0.08612081877184223.\n",
      "WARNING: MYSQL_OPT_RECONNECT is deprecated and will be removed in a future version.\n",
      "WARNING: MYSQL_OPT_RECONNECT is deprecated and will be removed in a future version.\n",
      "WARNING: MYSQL_OPT_RECONNECT is deprecated and will be removed in a future version.\n",
      "WARNING: MYSQL_OPT_RECONNECT is deprecated and will be removed in a future version.\n",
      "WARNING: MYSQL_OPT_RECONNECT is deprecated and will be removed in a future version.\n",
      "WARNING: MYSQL_OPT_RECONNECT is deprecated and will be removed in a future version.\n",
      "WARNING: MYSQL_OPT_RECONNECT is deprecated and will be removed in a future version.\n",
      "WARNING: MYSQL_OPT_RECONNECT is deprecated and will be removed in a future version.\n",
      "WARNING: MYSQL_OPT_RECONNECT is deprecated and will be removed in a future version.\n",
      "WARNING: MYSQL_OPT_RECONNECT is deprecated and will be removed in a future version.\n",
      "WARNING: MYSQL_OPT_RECONNECT is deprecated and will be removed in a future version.\n",
      "WARNING: MYSQL_OPT_RECONNECT is deprecated and will be removed in a future version.\n",
      "WARNING: MYSQL_OPT_RECONNECT is deprecated and will be removed in a future version.\n"
     ]
    },
    {
     "data": {
      "text/html": [],
      "text/plain": [
       "<IPython.core.display.HTML object>"
      ]
     },
     "metadata": {},
     "output_type": "display_data"
    },
    {
     "data": {
      "text/html": [],
      "text/plain": [
       "<IPython.core.display.HTML object>"
      ]
     },
     "metadata": {},
     "output_type": "display_data"
    },
    {
     "data": {
      "text/html": [],
      "text/plain": [
       "<IPython.core.display.HTML object>"
      ]
     },
     "metadata": {},
     "output_type": "display_data"
    },
    {
     "name": "stderr",
     "output_type": "stream",
     "text": [
      "WARNING: MYSQL_OPT_RECONNECT is deprecated and will be removed in a future version.\n",
      "WARNING: MYSQL_OPT_RECONNECT is deprecated and will be removed in a future version.\n",
      "WARNING: MYSQL_OPT_RECONNECT is deprecated and will be removed in a future version.\n",
      "WARNING: MYSQL_OPT_RECONNECT is deprecated and will be removed in a future version.\n",
      "WARNING: MYSQL_OPT_RECONNECT is deprecated and will be removed in a future version.\n",
      "WARNING: MYSQL_OPT_RECONNECT is deprecated and will be removed in a future version.\n",
      "WARNING: MYSQL_OPT_RECONNECT is deprecated and will be removed in a future version.\n",
      "[I 2023-08-28 07:32:02,192] Trial 163 finished with value: -0.08612081877184223 and parameters: {'contamination': 0.006011396479526615, 'max_features': 0.12393103289754856, 'max_samples': 0.9816303107260675, 'n_estimators': 214}. Best is trial 147 with value: -0.08612081877184223.\n",
      "WARNING: MYSQL_OPT_RECONNECT is deprecated and will be removed in a future version.\n",
      "WARNING: MYSQL_OPT_RECONNECT is deprecated and will be removed in a future version.\n",
      "WARNING: MYSQL_OPT_RECONNECT is deprecated and will be removed in a future version.\n",
      "WARNING: MYSQL_OPT_RECONNECT is deprecated and will be removed in a future version.\n",
      "WARNING: MYSQL_OPT_RECONNECT is deprecated and will be removed in a future version.\n",
      "WARNING: MYSQL_OPT_RECONNECT is deprecated and will be removed in a future version.\n",
      "WARNING: MYSQL_OPT_RECONNECT is deprecated and will be removed in a future version.\n",
      "WARNING: MYSQL_OPT_RECONNECT is deprecated and will be removed in a future version.\n"
     ]
    },
    {
     "data": {
      "text/html": [],
      "text/plain": [
       "<IPython.core.display.HTML object>"
      ]
     },
     "metadata": {},
     "output_type": "display_data"
    },
    {
     "data": {
      "text/html": [],
      "text/plain": [
       "<IPython.core.display.HTML object>"
      ]
     },
     "metadata": {},
     "output_type": "display_data"
    },
    {
     "data": {
      "text/html": [],
      "text/plain": [
       "<IPython.core.display.HTML object>"
      ]
     },
     "metadata": {},
     "output_type": "display_data"
    },
    {
     "name": "stderr",
     "output_type": "stream",
     "text": [
      "WARNING: MYSQL_OPT_RECONNECT is deprecated and will be removed in a future version.\n",
      "WARNING: MYSQL_OPT_RECONNECT is deprecated and will be removed in a future version.\n",
      "WARNING: MYSQL_OPT_RECONNECT is deprecated and will be removed in a future version.\n",
      "WARNING: MYSQL_OPT_RECONNECT is deprecated and will be removed in a future version.\n",
      "WARNING: MYSQL_OPT_RECONNECT is deprecated and will be removed in a future version.\n",
      "WARNING: MYSQL_OPT_RECONNECT is deprecated and will be removed in a future version.\n",
      "WARNING: MYSQL_OPT_RECONNECT is deprecated and will be removed in a future version.\n",
      "[I 2023-08-28 07:34:17,610] Trial 165 finished with value: -0.08674488267598603 and parameters: {'contamination': 0.005553519279976174, 'max_features': 0.14290445848192374, 'max_samples': 0.9838285625889155, 'n_estimators': 232}. Best is trial 165 with value: -0.08674488267598603.\n",
      "WARNING: MYSQL_OPT_RECONNECT is deprecated and will be removed in a future version.\n",
      "WARNING: MYSQL_OPT_RECONNECT is deprecated and will be removed in a future version.\n",
      "WARNING: MYSQL_OPT_RECONNECT is deprecated and will be removed in a future version.\n",
      "WARNING: MYSQL_OPT_RECONNECT is deprecated and will be removed in a future version.\n",
      "WARNING: MYSQL_OPT_RECONNECT is deprecated and will be removed in a future version.\n",
      "WARNING: MYSQL_OPT_RECONNECT is deprecated and will be removed in a future version.\n",
      "WARNING: MYSQL_OPT_RECONNECT is deprecated and will be removed in a future version.\n",
      "WARNING: MYSQL_OPT_RECONNECT is deprecated and will be removed in a future version.\n"
     ]
    },
    {
     "data": {
      "text/html": [],
      "text/plain": [
       "<IPython.core.display.HTML object>"
      ]
     },
     "metadata": {},
     "output_type": "display_data"
    },
    {
     "data": {
      "text/html": [],
      "text/plain": [
       "<IPython.core.display.HTML object>"
      ]
     },
     "metadata": {},
     "output_type": "display_data"
    },
    {
     "data": {
      "text/html": [],
      "text/plain": [
       "<IPython.core.display.HTML object>"
      ]
     },
     "metadata": {},
     "output_type": "display_data"
    },
    {
     "name": "stderr",
     "output_type": "stream",
     "text": [
      "WARNING: MYSQL_OPT_RECONNECT is deprecated and will be removed in a future version.\n",
      "WARNING: MYSQL_OPT_RECONNECT is deprecated and will be removed in a future version.\n",
      "WARNING: MYSQL_OPT_RECONNECT is deprecated and will be removed in a future version.\n",
      "WARNING: MYSQL_OPT_RECONNECT is deprecated and will be removed in a future version.\n",
      "WARNING: MYSQL_OPT_RECONNECT is deprecated and will be removed in a future version.\n",
      "WARNING: MYSQL_OPT_RECONNECT is deprecated and will be removed in a future version.\n",
      "WARNING: MYSQL_OPT_RECONNECT is deprecated and will be removed in a future version.\n",
      "[I 2023-08-28 07:34:32,176] Trial 167 finished with value: -0.059910134797803286 and parameters: {'contamination': 0.00611029122170631, 'max_features': 0.1736558919797281, 'max_samples': 0.9990182908388839, 'n_estimators': 199}. Best is trial 165 with value: -0.08674488267598603.\n",
      "WARNING: MYSQL_OPT_RECONNECT is deprecated and will be removed in a future version.\n",
      "WARNING: MYSQL_OPT_RECONNECT is deprecated and will be removed in a future version.\n",
      "WARNING: MYSQL_OPT_RECONNECT is deprecated and will be removed in a future version.\n",
      "WARNING: MYSQL_OPT_RECONNECT is deprecated and will be removed in a future version.\n",
      "WARNING: MYSQL_OPT_RECONNECT is deprecated and will be removed in a future version.\n",
      "WARNING: MYSQL_OPT_RECONNECT is deprecated and will be removed in a future version.\n",
      "WARNING: MYSQL_OPT_RECONNECT is deprecated and will be removed in a future version.\n",
      "WARNING: MYSQL_OPT_RECONNECT is deprecated and will be removed in a future version.\n"
     ]
    },
    {
     "data": {
      "text/html": [],
      "text/plain": [
       "<IPython.core.display.HTML object>"
      ]
     },
     "metadata": {},
     "output_type": "display_data"
    },
    {
     "data": {
      "text/html": [],
      "text/plain": [
       "<IPython.core.display.HTML object>"
      ]
     },
     "metadata": {},
     "output_type": "display_data"
    },
    {
     "data": {
      "text/html": [],
      "text/plain": [
       "<IPython.core.display.HTML object>"
      ]
     },
     "metadata": {},
     "output_type": "display_data"
    },
    {
     "name": "stderr",
     "output_type": "stream",
     "text": [
      "WARNING: MYSQL_OPT_RECONNECT is deprecated and will be removed in a future version.\n",
      "WARNING: MYSQL_OPT_RECONNECT is deprecated and will be removed in a future version.\n",
      "WARNING: MYSQL_OPT_RECONNECT is deprecated and will be removed in a future version.\n",
      "WARNING: MYSQL_OPT_RECONNECT is deprecated and will be removed in a future version.\n",
      "WARNING: MYSQL_OPT_RECONNECT is deprecated and will be removed in a future version.\n",
      "WARNING: MYSQL_OPT_RECONNECT is deprecated and will be removed in a future version.\n",
      "WARNING: MYSQL_OPT_RECONNECT is deprecated and will be removed in a future version.\n",
      "[I 2023-08-28 07:36:48,264] Trial 169 finished with value: -0.08736894658012982 and parameters: {'contamination': 0.0050597334320996905, 'max_features': 0.1159109440119982, 'max_samples': 0.9230846037741187, 'n_estimators': 218}. Best is trial 169 with value: -0.08736894658012982.\n",
      "WARNING: MYSQL_OPT_RECONNECT is deprecated and will be removed in a future version.\n",
      "WARNING: MYSQL_OPT_RECONNECT is deprecated and will be removed in a future version.\n",
      "WARNING: MYSQL_OPT_RECONNECT is deprecated and will be removed in a future version.\n",
      "WARNING: MYSQL_OPT_RECONNECT is deprecated and will be removed in a future version.\n",
      "WARNING: MYSQL_OPT_RECONNECT is deprecated and will be removed in a future version.\n",
      "WARNING: MYSQL_OPT_RECONNECT is deprecated and will be removed in a future version.\n",
      "WARNING: MYSQL_OPT_RECONNECT is deprecated and will be removed in a future version.\n",
      "WARNING: MYSQL_OPT_RECONNECT is deprecated and will be removed in a future version.\n"
     ]
    },
    {
     "data": {
      "text/html": [],
      "text/plain": [
       "<IPython.core.display.HTML object>"
      ]
     },
     "metadata": {},
     "output_type": "display_data"
    },
    {
     "data": {
      "text/html": [],
      "text/plain": [
       "<IPython.core.display.HTML object>"
      ]
     },
     "metadata": {},
     "output_type": "display_data"
    },
    {
     "data": {
      "text/html": [],
      "text/plain": [
       "<IPython.core.display.HTML object>"
      ]
     },
     "metadata": {},
     "output_type": "display_data"
    },
    {
     "name": "stderr",
     "output_type": "stream",
     "text": [
      "WARNING: MYSQL_OPT_RECONNECT is deprecated and will be removed in a future version.\n",
      "WARNING: MYSQL_OPT_RECONNECT is deprecated and will be removed in a future version.\n",
      "WARNING: MYSQL_OPT_RECONNECT is deprecated and will be removed in a future version.\n",
      "WARNING: MYSQL_OPT_RECONNECT is deprecated and will be removed in a future version.\n",
      "WARNING: MYSQL_OPT_RECONNECT is deprecated and will be removed in a future version.\n",
      "WARNING: MYSQL_OPT_RECONNECT is deprecated and will be removed in a future version.\n",
      "WARNING: MYSQL_OPT_RECONNECT is deprecated and will be removed in a future version.\n",
      "[I 2023-08-28 07:37:00,822] Trial 171 finished with value: -0.08799301048427359 and parameters: {'contamination': 0.004700195587183917, 'max_features': 0.11629177738394027, 'max_samples': 0.7639024975803201, 'n_estimators': 185}. Best is trial 171 with value: -0.08799301048427359.\n",
      "WARNING: MYSQL_OPT_RECONNECT is deprecated and will be removed in a future version.\n",
      "WARNING: MYSQL_OPT_RECONNECT is deprecated and will be removed in a future version.\n",
      "WARNING: MYSQL_OPT_RECONNECT is deprecated and will be removed in a future version.\n",
      "WARNING: MYSQL_OPT_RECONNECT is deprecated and will be removed in a future version.\n",
      "WARNING: MYSQL_OPT_RECONNECT is deprecated and will be removed in a future version.\n",
      "WARNING: MYSQL_OPT_RECONNECT is deprecated and will be removed in a future version.\n",
      "WARNING: MYSQL_OPT_RECONNECT is deprecated and will be removed in a future version.\n",
      "WARNING: MYSQL_OPT_RECONNECT is deprecated and will be removed in a future version.\n"
     ]
    },
    {
     "data": {
      "text/html": [],
      "text/plain": [
       "<IPython.core.display.HTML object>"
      ]
     },
     "metadata": {},
     "output_type": "display_data"
    },
    {
     "data": {
      "text/html": [],
      "text/plain": [
       "<IPython.core.display.HTML object>"
      ]
     },
     "metadata": {},
     "output_type": "display_data"
    },
    {
     "data": {
      "text/html": [],
      "text/plain": [
       "<IPython.core.display.HTML object>"
      ]
     },
     "metadata": {},
     "output_type": "display_data"
    },
    {
     "name": "stderr",
     "output_type": "stream",
     "text": [
      "[I 2023-08-28 08:22:36,014] Trial 173 finished with value: -0.08799301048427359 and parameters: {'contamination': 0.0051195776305344625, 'max_features': 0.1179205299703537, 'max_samples': 0.736090429028778, 'n_estimators': 215}. Best is trial 171 with value: -0.08799301048427359.\n",
      "WARNING: MYSQL_OPT_RECONNECT is deprecated and will be removed in a future version.\n",
      "WARNING: MYSQL_OPT_RECONNECT is deprecated and will be removed in a future version.\n",
      "WARNING: MYSQL_OPT_RECONNECT is deprecated and will be removed in a future version.\n",
      "WARNING: MYSQL_OPT_RECONNECT is deprecated and will be removed in a future version.\n",
      "WARNING: MYSQL_OPT_RECONNECT is deprecated and will be removed in a future version.\n",
      "WARNING: MYSQL_OPT_RECONNECT is deprecated and will be removed in a future version.\n",
      "WARNING: MYSQL_OPT_RECONNECT is deprecated and will be removed in a future version.\n",
      "WARNING: MYSQL_OPT_RECONNECT is deprecated and will be removed in a future version.\n",
      "WARNING: MYSQL_OPT_RECONNECT is deprecated and will be removed in a future version.\n",
      "WARNING: MYSQL_OPT_RECONNECT is deprecated and will be removed in a future version.\n",
      "WARNING: MYSQL_OPT_RECONNECT is deprecated and will be removed in a future version.\n",
      "WARNING: MYSQL_OPT_RECONNECT is deprecated and will be removed in a future version.\n",
      "WARNING: MYSQL_OPT_RECONNECT is deprecated and will be removed in a future version.\n",
      "WARNING: MYSQL_OPT_RECONNECT is deprecated and will be removed in a future version.\n",
      "WARNING: MYSQL_OPT_RECONNECT is deprecated and will be removed in a future version.\n"
     ]
    },
    {
     "data": {
      "text/html": [],
      "text/plain": [
       "<IPython.core.display.HTML object>"
      ]
     },
     "metadata": {},
     "output_type": "display_data"
    },
    {
     "data": {
      "text/html": [],
      "text/plain": [
       "<IPython.core.display.HTML object>"
      ]
     },
     "metadata": {},
     "output_type": "display_data"
    },
    {
     "data": {
      "text/html": [],
      "text/plain": [
       "<IPython.core.display.HTML object>"
      ]
     },
     "metadata": {},
     "output_type": "display_data"
    },
    {
     "name": "stderr",
     "output_type": "stream",
     "text": [
      "WARNING: MYSQL_OPT_RECONNECT is deprecated and will be removed in a future version.\n",
      "WARNING: MYSQL_OPT_RECONNECT is deprecated and will be removed in a future version.\n",
      "WARNING: MYSQL_OPT_RECONNECT is deprecated and will be removed in a future version.\n",
      "WARNING: MYSQL_OPT_RECONNECT is deprecated and will be removed in a future version.\n",
      "WARNING: MYSQL_OPT_RECONNECT is deprecated and will be removed in a future version.\n",
      "WARNING: MYSQL_OPT_RECONNECT is deprecated and will be removed in a future version.\n",
      "WARNING: MYSQL_OPT_RECONNECT is deprecated and will be removed in a future version.\n",
      "[I 2023-08-28 08:28:47,244] Trial 174 finished with value: -0.08424862705941087 and parameters: {'contamination': 0.007611047569659211, 'max_features': 0.12216750043276664, 'max_samples': 0.7622086793617547, 'n_estimators': 164}. Best is trial 171 with value: -0.08799301048427359.\n",
      "WARNING: MYSQL_OPT_RECONNECT is deprecated and will be removed in a future version.\n",
      "WARNING: MYSQL_OPT_RECONNECT is deprecated and will be removed in a future version.\n",
      "WARNING: MYSQL_OPT_RECONNECT is deprecated and will be removed in a future version.\n",
      "WARNING: MYSQL_OPT_RECONNECT is deprecated and will be removed in a future version.\n",
      "WARNING: MYSQL_OPT_RECONNECT is deprecated and will be removed in a future version.\n",
      "WARNING: MYSQL_OPT_RECONNECT is deprecated and will be removed in a future version.\n",
      "WARNING: MYSQL_OPT_RECONNECT is deprecated and will be removed in a future version.\n",
      "WARNING: MYSQL_OPT_RECONNECT is deprecated and will be removed in a future version.\n"
     ]
    },
    {
     "data": {
      "text/html": [],
      "text/plain": [
       "<IPython.core.display.HTML object>"
      ]
     },
     "metadata": {},
     "output_type": "display_data"
    },
    {
     "data": {
      "text/html": [],
      "text/plain": [
       "<IPython.core.display.HTML object>"
      ]
     },
     "metadata": {},
     "output_type": "display_data"
    },
    {
     "data": {
      "text/html": [],
      "text/plain": [
       "<IPython.core.display.HTML object>"
      ]
     },
     "metadata": {},
     "output_type": "display_data"
    },
    {
     "name": "stderr",
     "output_type": "stream",
     "text": [
      "WARNING: MYSQL_OPT_RECONNECT is deprecated and will be removed in a future version.\n",
      "WARNING: MYSQL_OPT_RECONNECT is deprecated and will be removed in a future version.\n",
      "WARNING: MYSQL_OPT_RECONNECT is deprecated and will be removed in a future version.\n",
      "WARNING: MYSQL_OPT_RECONNECT is deprecated and will be removed in a future version.\n",
      "WARNING: MYSQL_OPT_RECONNECT is deprecated and will be removed in a future version.\n",
      "WARNING: MYSQL_OPT_RECONNECT is deprecated and will be removed in a future version.\n",
      "WARNING: MYSQL_OPT_RECONNECT is deprecated and will be removed in a future version.\n",
      "[I 2023-08-28 08:28:58,201] Trial 175 finished with value: -0.026834747878182724 and parameters: {'contamination': 0.008125399594958966, 'max_features': 0.40361751557071224, 'max_samples': 0.7531613652205521, 'n_estimators': 163}. Best is trial 171 with value: -0.08799301048427359.\n",
      "WARNING: MYSQL_OPT_RECONNECT is deprecated and will be removed in a future version.\n",
      "WARNING: MYSQL_OPT_RECONNECT is deprecated and will be removed in a future version.\n",
      "WARNING: MYSQL_OPT_RECONNECT is deprecated and will be removed in a future version.\n",
      "WARNING: MYSQL_OPT_RECONNECT is deprecated and will be removed in a future version.\n",
      "WARNING: MYSQL_OPT_RECONNECT is deprecated and will be removed in a future version.\n",
      "WARNING: MYSQL_OPT_RECONNECT is deprecated and will be removed in a future version.\n",
      "WARNING: MYSQL_OPT_RECONNECT is deprecated and will be removed in a future version.\n",
      "WARNING: MYSQL_OPT_RECONNECT is deprecated and will be removed in a future version.\n"
     ]
    },
    {
     "data": {
      "text/html": [],
      "text/plain": [
       "<IPython.core.display.HTML object>"
      ]
     },
     "metadata": {},
     "output_type": "display_data"
    },
    {
     "data": {
      "text/html": [],
      "text/plain": [
       "<IPython.core.display.HTML object>"
      ]
     },
     "metadata": {},
     "output_type": "display_data"
    },
    {
     "data": {
      "text/html": [],
      "text/plain": [
       "<IPython.core.display.HTML object>"
      ]
     },
     "metadata": {},
     "output_type": "display_data"
    },
    {
     "name": "stderr",
     "output_type": "stream",
     "text": [
      "WARNING: MYSQL_OPT_RECONNECT is deprecated and will be removed in a future version.\n",
      "WARNING: MYSQL_OPT_RECONNECT is deprecated and will be removed in a future version.\n",
      "WARNING: MYSQL_OPT_RECONNECT is deprecated and will be removed in a future version.\n",
      "WARNING: MYSQL_OPT_RECONNECT is deprecated and will be removed in a future version.\n",
      "WARNING: MYSQL_OPT_RECONNECT is deprecated and will be removed in a future version.\n",
      "WARNING: MYSQL_OPT_RECONNECT is deprecated and will be removed in a future version.\n",
      "WARNING: MYSQL_OPT_RECONNECT is deprecated and will be removed in a future version.\n",
      "[I 2023-08-28 08:29:11,939] Trial 176 finished with value: -0.0836245631552671 and parameters: {'contamination': 0.007408639212932705, 'max_features': 0.13255257811968235, 'max_samples': 0.8717983102000778, 'n_estimators': 203}. Best is trial 171 with value: -0.08799301048427359.\n",
      "WARNING: MYSQL_OPT_RECONNECT is deprecated and will be removed in a future version.\n",
      "WARNING: MYSQL_OPT_RECONNECT is deprecated and will be removed in a future version.\n",
      "WARNING: MYSQL_OPT_RECONNECT is deprecated and will be removed in a future version.\n",
      "WARNING: MYSQL_OPT_RECONNECT is deprecated and will be removed in a future version.\n",
      "WARNING: MYSQL_OPT_RECONNECT is deprecated and will be removed in a future version.\n",
      "WARNING: MYSQL_OPT_RECONNECT is deprecated and will be removed in a future version.\n",
      "WARNING: MYSQL_OPT_RECONNECT is deprecated and will be removed in a future version.\n",
      "WARNING: MYSQL_OPT_RECONNECT is deprecated and will be removed in a future version.\n"
     ]
    },
    {
     "data": {
      "text/html": [],
      "text/plain": [
       "<IPython.core.display.HTML object>"
      ]
     },
     "metadata": {},
     "output_type": "display_data"
    },
    {
     "data": {
      "text/html": [],
      "text/plain": [
       "<IPython.core.display.HTML object>"
      ]
     },
     "metadata": {},
     "output_type": "display_data"
    },
    {
     "data": {
      "text/html": [],
      "text/plain": [
       "<IPython.core.display.HTML object>"
      ]
     },
     "metadata": {},
     "output_type": "display_data"
    },
    {
     "name": "stderr",
     "output_type": "stream",
     "text": [
      "WARNING: MYSQL_OPT_RECONNECT is deprecated and will be removed in a future version.\n",
      "WARNING: MYSQL_OPT_RECONNECT is deprecated and will be removed in a future version.\n",
      "WARNING: MYSQL_OPT_RECONNECT is deprecated and will be removed in a future version.\n",
      "WARNING: MYSQL_OPT_RECONNECT is deprecated and will be removed in a future version.\n",
      "WARNING: MYSQL_OPT_RECONNECT is deprecated and will be removed in a future version.\n",
      "WARNING: MYSQL_OPT_RECONNECT is deprecated and will be removed in a future version.\n",
      "WARNING: MYSQL_OPT_RECONNECT is deprecated and will be removed in a future version.\n",
      "[I 2023-08-28 08:29:24,481] Trial 177 finished with value: -0.05616575137294059 and parameters: {'contamination': 0.007758435865919064, 'max_features': 0.15493576368773973, 'max_samples': 0.7219033117587126, 'n_estimators': 188}. Best is trial 171 with value: -0.08799301048427359.\n",
      "WARNING: MYSQL_OPT_RECONNECT is deprecated and will be removed in a future version.\n",
      "WARNING: MYSQL_OPT_RECONNECT is deprecated and will be removed in a future version.\n",
      "WARNING: MYSQL_OPT_RECONNECT is deprecated and will be removed in a future version.\n",
      "WARNING: MYSQL_OPT_RECONNECT is deprecated and will be removed in a future version.\n",
      "WARNING: MYSQL_OPT_RECONNECT is deprecated and will be removed in a future version.\n",
      "WARNING: MYSQL_OPT_RECONNECT is deprecated and will be removed in a future version.\n",
      "WARNING: MYSQL_OPT_RECONNECT is deprecated and will be removed in a future version.\n",
      "WARNING: MYSQL_OPT_RECONNECT is deprecated and will be removed in a future version.\n"
     ]
    },
    {
     "data": {
      "text/html": [],
      "text/plain": [
       "<IPython.core.display.HTML object>"
      ]
     },
     "metadata": {},
     "output_type": "display_data"
    },
    {
     "data": {
      "text/html": [],
      "text/plain": [
       "<IPython.core.display.HTML object>"
      ]
     },
     "metadata": {},
     "output_type": "display_data"
    },
    {
     "data": {
      "text/html": [],
      "text/plain": [
       "<IPython.core.display.HTML object>"
      ]
     },
     "metadata": {},
     "output_type": "display_data"
    },
    {
     "name": "stderr",
     "output_type": "stream",
     "text": [
      "WARNING: MYSQL_OPT_RECONNECT is deprecated and will be removed in a future version.\n",
      "WARNING: MYSQL_OPT_RECONNECT is deprecated and will be removed in a future version.\n",
      "WARNING: MYSQL_OPT_RECONNECT is deprecated and will be removed in a future version.\n",
      "WARNING: MYSQL_OPT_RECONNECT is deprecated and will be removed in a future version.\n",
      "WARNING: MYSQL_OPT_RECONNECT is deprecated and will be removed in a future version.\n",
      "WARNING: MYSQL_OPT_RECONNECT is deprecated and will be removed in a future version.\n",
      "WARNING: MYSQL_OPT_RECONNECT is deprecated and will be removed in a future version.\n",
      "[I 2023-08-28 08:29:38,404] Trial 178 finished with value: -0.08549675486769845 and parameters: {'contamination': 0.0048140517684660735, 'max_features': 0.13594395837544387, 'max_samples': 0.811631419104519, 'n_estimators': 205}. Best is trial 171 with value: -0.08799301048427359.\n",
      "WARNING: MYSQL_OPT_RECONNECT is deprecated and will be removed in a future version.\n",
      "WARNING: MYSQL_OPT_RECONNECT is deprecated and will be removed in a future version.\n",
      "WARNING: MYSQL_OPT_RECONNECT is deprecated and will be removed in a future version.\n",
      "WARNING: MYSQL_OPT_RECONNECT is deprecated and will be removed in a future version.\n",
      "WARNING: MYSQL_OPT_RECONNECT is deprecated and will be removed in a future version.\n",
      "WARNING: MYSQL_OPT_RECONNECT is deprecated and will be removed in a future version.\n",
      "WARNING: MYSQL_OPT_RECONNECT is deprecated and will be removed in a future version.\n",
      "WARNING: MYSQL_OPT_RECONNECT is deprecated and will be removed in a future version.\n"
     ]
    },
    {
     "data": {
      "text/html": [],
      "text/plain": [
       "<IPython.core.display.HTML object>"
      ]
     },
     "metadata": {},
     "output_type": "display_data"
    },
    {
     "data": {
      "text/html": [],
      "text/plain": [
       "<IPython.core.display.HTML object>"
      ]
     },
     "metadata": {},
     "output_type": "display_data"
    },
    {
     "data": {
      "text/html": [],
      "text/plain": [
       "<IPython.core.display.HTML object>"
      ]
     },
     "metadata": {},
     "output_type": "display_data"
    },
    {
     "name": "stderr",
     "output_type": "stream",
     "text": [
      "WARNING: MYSQL_OPT_RECONNECT is deprecated and will be removed in a future version.\n",
      "WARNING: MYSQL_OPT_RECONNECT is deprecated and will be removed in a future version.\n",
      "WARNING: MYSQL_OPT_RECONNECT is deprecated and will be removed in a future version.\n",
      "WARNING: MYSQL_OPT_RECONNECT is deprecated and will be removed in a future version.\n",
      "WARNING: MYSQL_OPT_RECONNECT is deprecated and will be removed in a future version.\n",
      "WARNING: MYSQL_OPT_RECONNECT is deprecated and will be removed in a future version.\n",
      "WARNING: MYSQL_OPT_RECONNECT is deprecated and will be removed in a future version.\n",
      "[I 2023-08-28 08:29:48,280] Trial 179 finished with value: -0.05678981527708438 and parameters: {'contamination': 0.0046358173065119, 'max_features': 0.16845697722658615, 'max_samples': 0.7529051772630977, 'n_estimators': 146}. Best is trial 171 with value: -0.08799301048427359.\n",
      "WARNING: MYSQL_OPT_RECONNECT is deprecated and will be removed in a future version.\n",
      "WARNING: MYSQL_OPT_RECONNECT is deprecated and will be removed in a future version.\n",
      "WARNING: MYSQL_OPT_RECONNECT is deprecated and will be removed in a future version.\n",
      "WARNING: MYSQL_OPT_RECONNECT is deprecated and will be removed in a future version.\n",
      "WARNING: MYSQL_OPT_RECONNECT is deprecated and will be removed in a future version.\n",
      "WARNING: MYSQL_OPT_RECONNECT is deprecated and will be removed in a future version.\n",
      "WARNING: MYSQL_OPT_RECONNECT is deprecated and will be removed in a future version.\n",
      "WARNING: MYSQL_OPT_RECONNECT is deprecated and will be removed in a future version.\n"
     ]
    },
    {
     "data": {
      "text/html": [],
      "text/plain": [
       "<IPython.core.display.HTML object>"
      ]
     },
     "metadata": {},
     "output_type": "display_data"
    },
    {
     "data": {
      "text/html": [],
      "text/plain": [
       "<IPython.core.display.HTML object>"
      ]
     },
     "metadata": {},
     "output_type": "display_data"
    },
    {
     "data": {
      "text/html": [],
      "text/plain": [
       "<IPython.core.display.HTML object>"
      ]
     },
     "metadata": {},
     "output_type": "display_data"
    },
    {
     "name": "stderr",
     "output_type": "stream",
     "text": [
      "WARNING: MYSQL_OPT_RECONNECT is deprecated and will be removed in a future version.\n",
      "WARNING: MYSQL_OPT_RECONNECT is deprecated and will be removed in a future version.\n",
      "WARNING: MYSQL_OPT_RECONNECT is deprecated and will be removed in a future version.\n",
      "WARNING: MYSQL_OPT_RECONNECT is deprecated and will be removed in a future version.\n",
      "WARNING: MYSQL_OPT_RECONNECT is deprecated and will be removed in a future version.\n",
      "WARNING: MYSQL_OPT_RECONNECT is deprecated and will be removed in a future version.\n",
      "WARNING: MYSQL_OPT_RECONNECT is deprecated and will be removed in a future version.\n",
      "[I 2023-08-28 08:30:02,744] Trial 180 finished with value: -0.08549675486769845 and parameters: {'contamination': 0.005113667196032714, 'max_features': 0.14266280509168522, 'max_samples': 0.7983816142503342, 'n_estimators': 216}. Best is trial 171 with value: -0.08799301048427359.\n",
      "WARNING: MYSQL_OPT_RECONNECT is deprecated and will be removed in a future version.\n",
      "WARNING: MYSQL_OPT_RECONNECT is deprecated and will be removed in a future version.\n",
      "WARNING: MYSQL_OPT_RECONNECT is deprecated and will be removed in a future version.\n",
      "WARNING: MYSQL_OPT_RECONNECT is deprecated and will be removed in a future version.\n",
      "WARNING: MYSQL_OPT_RECONNECT is deprecated and will be removed in a future version.\n",
      "WARNING: MYSQL_OPT_RECONNECT is deprecated and will be removed in a future version.\n",
      "WARNING: MYSQL_OPT_RECONNECT is deprecated and will be removed in a future version.\n",
      "WARNING: MYSQL_OPT_RECONNECT is deprecated and will be removed in a future version.\n"
     ]
    },
    {
     "data": {
      "text/html": [],
      "text/plain": [
       "<IPython.core.display.HTML object>"
      ]
     },
     "metadata": {},
     "output_type": "display_data"
    },
    {
     "data": {
      "text/html": [],
      "text/plain": [
       "<IPython.core.display.HTML object>"
      ]
     },
     "metadata": {},
     "output_type": "display_data"
    },
    {
     "data": {
      "text/html": [],
      "text/plain": [
       "<IPython.core.display.HTML object>"
      ]
     },
     "metadata": {},
     "output_type": "display_data"
    },
    {
     "name": "stderr",
     "output_type": "stream",
     "text": [
      "WARNING: MYSQL_OPT_RECONNECT is deprecated and will be removed in a future version.\n",
      "WARNING: MYSQL_OPT_RECONNECT is deprecated and will be removed in a future version.\n",
      "WARNING: MYSQL_OPT_RECONNECT is deprecated and will be removed in a future version.\n",
      "WARNING: MYSQL_OPT_RECONNECT is deprecated and will be removed in a future version.\n",
      "WARNING: MYSQL_OPT_RECONNECT is deprecated and will be removed in a future version.\n",
      "WARNING: MYSQL_OPT_RECONNECT is deprecated and will be removed in a future version.\n",
      "WARNING: MYSQL_OPT_RECONNECT is deprecated and will be removed in a future version.\n",
      "[I 2023-08-28 08:30:16,833] Trial 181 finished with value: -0.08986520219670495 and parameters: {'contamination': 0.004615241955162514, 'max_features': 0.14211144184910798, 'max_samples': 0.7978415437353712, 'n_estimators': 213}. Best is trial 181 with value: -0.08986520219670495.\n",
      "WARNING: MYSQL_OPT_RECONNECT is deprecated and will be removed in a future version.\n",
      "WARNING: MYSQL_OPT_RECONNECT is deprecated and will be removed in a future version.\n",
      "WARNING: MYSQL_OPT_RECONNECT is deprecated and will be removed in a future version.\n",
      "WARNING: MYSQL_OPT_RECONNECT is deprecated and will be removed in a future version.\n",
      "WARNING: MYSQL_OPT_RECONNECT is deprecated and will be removed in a future version.\n",
      "WARNING: MYSQL_OPT_RECONNECT is deprecated and will be removed in a future version.\n",
      "WARNING: MYSQL_OPT_RECONNECT is deprecated and will be removed in a future version.\n",
      "WARNING: MYSQL_OPT_RECONNECT is deprecated and will be removed in a future version.\n"
     ]
    },
    {
     "data": {
      "text/html": [],
      "text/plain": [
       "<IPython.core.display.HTML object>"
      ]
     },
     "metadata": {},
     "output_type": "display_data"
    },
    {
     "data": {
      "text/html": [],
      "text/plain": [
       "<IPython.core.display.HTML object>"
      ]
     },
     "metadata": {},
     "output_type": "display_data"
    },
    {
     "data": {
      "text/html": [],
      "text/plain": [
       "<IPython.core.display.HTML object>"
      ]
     },
     "metadata": {},
     "output_type": "display_data"
    },
    {
     "name": "stderr",
     "output_type": "stream",
     "text": [
      "WARNING: MYSQL_OPT_RECONNECT is deprecated and will be removed in a future version.\n",
      "WARNING: MYSQL_OPT_RECONNECT is deprecated and will be removed in a future version.\n",
      "WARNING: MYSQL_OPT_RECONNECT is deprecated and will be removed in a future version.\n",
      "WARNING: MYSQL_OPT_RECONNECT is deprecated and will be removed in a future version.\n",
      "WARNING: MYSQL_OPT_RECONNECT is deprecated and will be removed in a future version.\n",
      "WARNING: MYSQL_OPT_RECONNECT is deprecated and will be removed in a future version.\n",
      "WARNING: MYSQL_OPT_RECONNECT is deprecated and will be removed in a future version.\n",
      "[I 2023-08-28 08:30:30,667] Trial 182 finished with value: -0.08674488267598603 and parameters: {'contamination': 0.0038322829974405974, 'max_features': 0.11691467607166775, 'max_samples': 0.7931840361028634, 'n_estimators': 205}. Best is trial 181 with value: -0.08986520219670495.\n",
      "WARNING: MYSQL_OPT_RECONNECT is deprecated and will be removed in a future version.\n",
      "WARNING: MYSQL_OPT_RECONNECT is deprecated and will be removed in a future version.\n",
      "WARNING: MYSQL_OPT_RECONNECT is deprecated and will be removed in a future version.\n",
      "WARNING: MYSQL_OPT_RECONNECT is deprecated and will be removed in a future version.\n",
      "WARNING: MYSQL_OPT_RECONNECT is deprecated and will be removed in a future version.\n",
      "WARNING: MYSQL_OPT_RECONNECT is deprecated and will be removed in a future version.\n",
      "WARNING: MYSQL_OPT_RECONNECT is deprecated and will be removed in a future version.\n",
      "WARNING: MYSQL_OPT_RECONNECT is deprecated and will be removed in a future version.\n"
     ]
    },
    {
     "data": {
      "text/html": [],
      "text/plain": [
       "<IPython.core.display.HTML object>"
      ]
     },
     "metadata": {},
     "output_type": "display_data"
    },
    {
     "data": {
      "text/html": [],
      "text/plain": [
       "<IPython.core.display.HTML object>"
      ]
     },
     "metadata": {},
     "output_type": "display_data"
    },
    {
     "data": {
      "text/html": [],
      "text/plain": [
       "<IPython.core.display.HTML object>"
      ]
     },
     "metadata": {},
     "output_type": "display_data"
    },
    {
     "name": "stderr",
     "output_type": "stream",
     "text": [
      "WARNING: MYSQL_OPT_RECONNECT is deprecated and will be removed in a future version.\n",
      "WARNING: MYSQL_OPT_RECONNECT is deprecated and will be removed in a future version.\n",
      "WARNING: MYSQL_OPT_RECONNECT is deprecated and will be removed in a future version.\n",
      "WARNING: MYSQL_OPT_RECONNECT is deprecated and will be removed in a future version.\n",
      "WARNING: MYSQL_OPT_RECONNECT is deprecated and will be removed in a future version.\n",
      "WARNING: MYSQL_OPT_RECONNECT is deprecated and will be removed in a future version.\n",
      "WARNING: MYSQL_OPT_RECONNECT is deprecated and will be removed in a future version.\n",
      "[I 2023-08-28 08:30:44,935] Trial 183 finished with value: -0.08674488267598603 and parameters: {'contamination': 0.003761693705445897, 'max_features': 0.1531190633520232, 'max_samples': 0.7925462844265508, 'n_estimators': 212}. Best is trial 181 with value: -0.08986520219670495.\n",
      "WARNING: MYSQL_OPT_RECONNECT is deprecated and will be removed in a future version.\n",
      "WARNING: MYSQL_OPT_RECONNECT is deprecated and will be removed in a future version.\n",
      "WARNING: MYSQL_OPT_RECONNECT is deprecated and will be removed in a future version.\n",
      "WARNING: MYSQL_OPT_RECONNECT is deprecated and will be removed in a future version.\n",
      "WARNING: MYSQL_OPT_RECONNECT is deprecated and will be removed in a future version.\n",
      "WARNING: MYSQL_OPT_RECONNECT is deprecated and will be removed in a future version.\n",
      "WARNING: MYSQL_OPT_RECONNECT is deprecated and will be removed in a future version.\n",
      "WARNING: MYSQL_OPT_RECONNECT is deprecated and will be removed in a future version.\n"
     ]
    },
    {
     "data": {
      "text/html": [],
      "text/plain": [
       "<IPython.core.display.HTML object>"
      ]
     },
     "metadata": {},
     "output_type": "display_data"
    },
    {
     "data": {
      "text/html": [],
      "text/plain": [
       "<IPython.core.display.HTML object>"
      ]
     },
     "metadata": {},
     "output_type": "display_data"
    },
    {
     "data": {
      "text/html": [],
      "text/plain": [
       "<IPython.core.display.HTML object>"
      ]
     },
     "metadata": {},
     "output_type": "display_data"
    },
    {
     "name": "stderr",
     "output_type": "stream",
     "text": [
      "WARNING: MYSQL_OPT_RECONNECT is deprecated and will be removed in a future version.\n",
      "WARNING: MYSQL_OPT_RECONNECT is deprecated and will be removed in a future version.\n",
      "WARNING: MYSQL_OPT_RECONNECT is deprecated and will be removed in a future version.\n",
      "WARNING: MYSQL_OPT_RECONNECT is deprecated and will be removed in a future version.\n",
      "WARNING: MYSQL_OPT_RECONNECT is deprecated and will be removed in a future version.\n",
      "WARNING: MYSQL_OPT_RECONNECT is deprecated and will be removed in a future version.\n",
      "WARNING: MYSQL_OPT_RECONNECT is deprecated and will be removed in a future version.\n",
      "[I 2023-08-28 08:30:59,438] Trial 184 finished with value: -0.0836245631552671 and parameters: {'contamination': 0.0034005433117593126, 'max_features': 0.12103733039292243, 'max_samples': 0.8016567617731806, 'n_estimators': 214}. Best is trial 181 with value: -0.08986520219670495.\n",
      "WARNING: MYSQL_OPT_RECONNECT is deprecated and will be removed in a future version.\n",
      "WARNING: MYSQL_OPT_RECONNECT is deprecated and will be removed in a future version.\n",
      "WARNING: MYSQL_OPT_RECONNECT is deprecated and will be removed in a future version.\n",
      "WARNING: MYSQL_OPT_RECONNECT is deprecated and will be removed in a future version.\n",
      "WARNING: MYSQL_OPT_RECONNECT is deprecated and will be removed in a future version.\n",
      "WARNING: MYSQL_OPT_RECONNECT is deprecated and will be removed in a future version.\n",
      "WARNING: MYSQL_OPT_RECONNECT is deprecated and will be removed in a future version.\n",
      "WARNING: MYSQL_OPT_RECONNECT is deprecated and will be removed in a future version.\n"
     ]
    },
    {
     "data": {
      "text/html": [],
      "text/plain": [
       "<IPython.core.display.HTML object>"
      ]
     },
     "metadata": {},
     "output_type": "display_data"
    },
    {
     "data": {
      "text/html": [],
      "text/plain": [
       "<IPython.core.display.HTML object>"
      ]
     },
     "metadata": {},
     "output_type": "display_data"
    },
    {
     "data": {
      "text/html": [],
      "text/plain": [
       "<IPython.core.display.HTML object>"
      ]
     },
     "metadata": {},
     "output_type": "display_data"
    },
    {
     "name": "stderr",
     "output_type": "stream",
     "text": [
      "WARNING: MYSQL_OPT_RECONNECT is deprecated and will be removed in a future version.\n",
      "WARNING: MYSQL_OPT_RECONNECT is deprecated and will be removed in a future version.\n",
      "WARNING: MYSQL_OPT_RECONNECT is deprecated and will be removed in a future version.\n",
      "WARNING: MYSQL_OPT_RECONNECT is deprecated and will be removed in a future version.\n",
      "WARNING: MYSQL_OPT_RECONNECT is deprecated and will be removed in a future version.\n",
      "WARNING: MYSQL_OPT_RECONNECT is deprecated and will be removed in a future version.\n",
      "WARNING: MYSQL_OPT_RECONNECT is deprecated and will be removed in a future version.\n",
      "[I 2023-08-28 08:31:13,226] Trial 185 finished with value: -0.06303045431852221 and parameters: {'contamination': 0.004340602620373946, 'max_features': 0.16099280985848535, 'max_samples': 0.7792536285039983, 'n_estimators': 204}. Best is trial 181 with value: -0.08986520219670495.\n",
      "WARNING: MYSQL_OPT_RECONNECT is deprecated and will be removed in a future version.\n",
      "WARNING: MYSQL_OPT_RECONNECT is deprecated and will be removed in a future version.\n",
      "WARNING: MYSQL_OPT_RECONNECT is deprecated and will be removed in a future version.\n",
      "WARNING: MYSQL_OPT_RECONNECT is deprecated and will be removed in a future version.\n",
      "WARNING: MYSQL_OPT_RECONNECT is deprecated and will be removed in a future version.\n",
      "WARNING: MYSQL_OPT_RECONNECT is deprecated and will be removed in a future version.\n",
      "WARNING: MYSQL_OPT_RECONNECT is deprecated and will be removed in a future version.\n",
      "WARNING: MYSQL_OPT_RECONNECT is deprecated and will be removed in a future version.\n"
     ]
    },
    {
     "data": {
      "text/html": [],
      "text/plain": [
       "<IPython.core.display.HTML object>"
      ]
     },
     "metadata": {},
     "output_type": "display_data"
    },
    {
     "data": {
      "text/html": [],
      "text/plain": [
       "<IPython.core.display.HTML object>"
      ]
     },
     "metadata": {},
     "output_type": "display_data"
    },
    {
     "data": {
      "text/html": [],
      "text/plain": [
       "<IPython.core.display.HTML object>"
      ]
     },
     "metadata": {},
     "output_type": "display_data"
    },
    {
     "name": "stderr",
     "output_type": "stream",
     "text": [
      "WARNING: MYSQL_OPT_RECONNECT is deprecated and will be removed in a future version.\n",
      "WARNING: MYSQL_OPT_RECONNECT is deprecated and will be removed in a future version.\n",
      "WARNING: MYSQL_OPT_RECONNECT is deprecated and will be removed in a future version.\n",
      "WARNING: MYSQL_OPT_RECONNECT is deprecated and will be removed in a future version.\n",
      "WARNING: MYSQL_OPT_RECONNECT is deprecated and will be removed in a future version.\n",
      "WARNING: MYSQL_OPT_RECONNECT is deprecated and will be removed in a future version.\n",
      "WARNING: MYSQL_OPT_RECONNECT is deprecated and will be removed in a future version.\n",
      "[I 2023-08-28 08:31:26,258] Trial 186 finished with value: -0.05304543185222167 and parameters: {'contamination': 0.004779813975741648, 'max_features': 0.18626023953418022, 'max_samples': 0.7891700265015746, 'n_estimators': 191}. Best is trial 181 with value: -0.08986520219670495.\n",
      "WARNING: MYSQL_OPT_RECONNECT is deprecated and will be removed in a future version.\n",
      "WARNING: MYSQL_OPT_RECONNECT is deprecated and will be removed in a future version.\n",
      "WARNING: MYSQL_OPT_RECONNECT is deprecated and will be removed in a future version.\n",
      "WARNING: MYSQL_OPT_RECONNECT is deprecated and will be removed in a future version.\n",
      "WARNING: MYSQL_OPT_RECONNECT is deprecated and will be removed in a future version.\n",
      "WARNING: MYSQL_OPT_RECONNECT is deprecated and will be removed in a future version.\n",
      "WARNING: MYSQL_OPT_RECONNECT is deprecated and will be removed in a future version.\n",
      "WARNING: MYSQL_OPT_RECONNECT is deprecated and will be removed in a future version.\n"
     ]
    },
    {
     "data": {
      "text/html": [],
      "text/plain": [
       "<IPython.core.display.HTML object>"
      ]
     },
     "metadata": {},
     "output_type": "display_data"
    },
    {
     "data": {
      "text/html": [],
      "text/plain": [
       "<IPython.core.display.HTML object>"
      ]
     },
     "metadata": {},
     "output_type": "display_data"
    },
    {
     "data": {
      "text/html": [],
      "text/plain": [
       "<IPython.core.display.HTML object>"
      ]
     },
     "metadata": {},
     "output_type": "display_data"
    },
    {
     "name": "stderr",
     "output_type": "stream",
     "text": [
      "WARNING: MYSQL_OPT_RECONNECT is deprecated and will be removed in a future version.\n",
      "WARNING: MYSQL_OPT_RECONNECT is deprecated and will be removed in a future version.\n",
      "WARNING: MYSQL_OPT_RECONNECT is deprecated and will be removed in a future version.\n",
      "WARNING: MYSQL_OPT_RECONNECT is deprecated and will be removed in a future version.\n",
      "WARNING: MYSQL_OPT_RECONNECT is deprecated and will be removed in a future version.\n",
      "WARNING: MYSQL_OPT_RECONNECT is deprecated and will be removed in a future version.\n",
      "WARNING: MYSQL_OPT_RECONNECT is deprecated and will be removed in a future version.\n",
      "[I 2023-08-28 08:31:37,620] Trial 187 finished with value: -0.08050424363454818 and parameters: {'contamination': 0.003577689224577828, 'max_features': 0.14471612480220492, 'max_samples': 0.807275311054909, 'n_estimators': 169}. Best is trial 181 with value: -0.08986520219670495.\n",
      "WARNING: MYSQL_OPT_RECONNECT is deprecated and will be removed in a future version.\n",
      "WARNING: MYSQL_OPT_RECONNECT is deprecated and will be removed in a future version.\n",
      "WARNING: MYSQL_OPT_RECONNECT is deprecated and will be removed in a future version.\n",
      "WARNING: MYSQL_OPT_RECONNECT is deprecated and will be removed in a future version.\n",
      "WARNING: MYSQL_OPT_RECONNECT is deprecated and will be removed in a future version.\n",
      "WARNING: MYSQL_OPT_RECONNECT is deprecated and will be removed in a future version.\n",
      "WARNING: MYSQL_OPT_RECONNECT is deprecated and will be removed in a future version.\n",
      "WARNING: MYSQL_OPT_RECONNECT is deprecated and will be removed in a future version.\n"
     ]
    },
    {
     "data": {
      "text/html": [],
      "text/plain": [
       "<IPython.core.display.HTML object>"
      ]
     },
     "metadata": {},
     "output_type": "display_data"
    },
    {
     "data": {
      "text/html": [],
      "text/plain": [
       "<IPython.core.display.HTML object>"
      ]
     },
     "metadata": {},
     "output_type": "display_data"
    },
    {
     "data": {
      "text/html": [],
      "text/plain": [
       "<IPython.core.display.HTML object>"
      ]
     },
     "metadata": {},
     "output_type": "display_data"
    },
    {
     "name": "stderr",
     "output_type": "stream",
     "text": [
      "WARNING: MYSQL_OPT_RECONNECT is deprecated and will be removed in a future version.\n",
      "WARNING: MYSQL_OPT_RECONNECT is deprecated and will be removed in a future version.\n",
      "WARNING: MYSQL_OPT_RECONNECT is deprecated and will be removed in a future version.\n",
      "WARNING: MYSQL_OPT_RECONNECT is deprecated and will be removed in a future version.\n",
      "WARNING: MYSQL_OPT_RECONNECT is deprecated and will be removed in a future version.\n",
      "WARNING: MYSQL_OPT_RECONNECT is deprecated and will be removed in a future version.\n",
      "WARNING: MYSQL_OPT_RECONNECT is deprecated and will be removed in a future version.\n",
      "[I 2023-08-28 08:31:52,301] Trial 188 finished with value: -0.08549675486769845 and parameters: {'contamination': 0.005402487008467797, 'max_features': 0.11976237063294595, 'max_samples': 0.8266441193709471, 'n_estimators': 217}. Best is trial 181 with value: -0.08986520219670495.\n",
      "WARNING: MYSQL_OPT_RECONNECT is deprecated and will be removed in a future version.\n",
      "WARNING: MYSQL_OPT_RECONNECT is deprecated and will be removed in a future version.\n",
      "WARNING: MYSQL_OPT_RECONNECT is deprecated and will be removed in a future version.\n",
      "WARNING: MYSQL_OPT_RECONNECT is deprecated and will be removed in a future version.\n",
      "WARNING: MYSQL_OPT_RECONNECT is deprecated and will be removed in a future version.\n",
      "WARNING: MYSQL_OPT_RECONNECT is deprecated and will be removed in a future version.\n",
      "WARNING: MYSQL_OPT_RECONNECT is deprecated and will be removed in a future version.\n",
      "WARNING: MYSQL_OPT_RECONNECT is deprecated and will be removed in a future version.\n"
     ]
    },
    {
     "data": {
      "text/html": [],
      "text/plain": [
       "<IPython.core.display.HTML object>"
      ]
     },
     "metadata": {},
     "output_type": "display_data"
    },
    {
     "data": {
      "text/html": [],
      "text/plain": [
       "<IPython.core.display.HTML object>"
      ]
     },
     "metadata": {},
     "output_type": "display_data"
    },
    {
     "data": {
      "text/html": [],
      "text/plain": [
       "<IPython.core.display.HTML object>"
      ]
     },
     "metadata": {},
     "output_type": "display_data"
    },
    {
     "name": "stderr",
     "output_type": "stream",
     "text": [
      "WARNING: MYSQL_OPT_RECONNECT is deprecated and will be removed in a future version.\n",
      "WARNING: MYSQL_OPT_RECONNECT is deprecated and will be removed in a future version.\n",
      "WARNING: MYSQL_OPT_RECONNECT is deprecated and will be removed in a future version.\n",
      "WARNING: MYSQL_OPT_RECONNECT is deprecated and will be removed in a future version.\n",
      "WARNING: MYSQL_OPT_RECONNECT is deprecated and will be removed in a future version.\n",
      "WARNING: MYSQL_OPT_RECONNECT is deprecated and will be removed in a future version.\n",
      "WARNING: MYSQL_OPT_RECONNECT is deprecated and will be removed in a future version.\n",
      "[I 2023-08-28 08:32:06,606] Trial 189 finished with value: -0.0237144283574638 and parameters: {'contamination': 0.005215411550638894, 'max_features': 0.7322679770980536, 'max_samples': 0.8323713482280153, 'n_estimators': 218}. Best is trial 181 with value: -0.08986520219670495.\n",
      "WARNING: MYSQL_OPT_RECONNECT is deprecated and will be removed in a future version.\n",
      "WARNING: MYSQL_OPT_RECONNECT is deprecated and will be removed in a future version.\n",
      "WARNING: MYSQL_OPT_RECONNECT is deprecated and will be removed in a future version.\n",
      "WARNING: MYSQL_OPT_RECONNECT is deprecated and will be removed in a future version.\n",
      "WARNING: MYSQL_OPT_RECONNECT is deprecated and will be removed in a future version.\n",
      "WARNING: MYSQL_OPT_RECONNECT is deprecated and will be removed in a future version.\n",
      "WARNING: MYSQL_OPT_RECONNECT is deprecated and will be removed in a future version.\n",
      "WARNING: MYSQL_OPT_RECONNECT is deprecated and will be removed in a future version.\n"
     ]
    },
    {
     "data": {
      "text/html": [],
      "text/plain": [
       "<IPython.core.display.HTML object>"
      ]
     },
     "metadata": {},
     "output_type": "display_data"
    },
    {
     "data": {
      "text/html": [],
      "text/plain": [
       "<IPython.core.display.HTML object>"
      ]
     },
     "metadata": {},
     "output_type": "display_data"
    },
    {
     "data": {
      "text/html": [],
      "text/plain": [
       "<IPython.core.display.HTML object>"
      ]
     },
     "metadata": {},
     "output_type": "display_data"
    },
    {
     "name": "stderr",
     "output_type": "stream",
     "text": [
      "WARNING: MYSQL_OPT_RECONNECT is deprecated and will be removed in a future version.\n",
      "WARNING: MYSQL_OPT_RECONNECT is deprecated and will be removed in a future version.\n",
      "WARNING: MYSQL_OPT_RECONNECT is deprecated and will be removed in a future version.\n",
      "WARNING: MYSQL_OPT_RECONNECT is deprecated and will be removed in a future version.\n",
      "WARNING: MYSQL_OPT_RECONNECT is deprecated and will be removed in a future version.\n",
      "WARNING: MYSQL_OPT_RECONNECT is deprecated and will be removed in a future version.\n",
      "WARNING: MYSQL_OPT_RECONNECT is deprecated and will be removed in a future version.\n",
      "[I 2023-08-28 08:32:20,067] Trial 190 finished with value: -0.06115826260609087 and parameters: {'contamination': 0.0038784302399358546, 'max_features': 0.21110213625493718, 'max_samples': 0.775511110950536, 'n_estimators': 203}. Best is trial 181 with value: -0.08986520219670495.\n",
      "WARNING: MYSQL_OPT_RECONNECT is deprecated and will be removed in a future version.\n",
      "WARNING: MYSQL_OPT_RECONNECT is deprecated and will be removed in a future version.\n",
      "WARNING: MYSQL_OPT_RECONNECT is deprecated and will be removed in a future version.\n",
      "WARNING: MYSQL_OPT_RECONNECT is deprecated and will be removed in a future version.\n",
      "WARNING: MYSQL_OPT_RECONNECT is deprecated and will be removed in a future version.\n",
      "WARNING: MYSQL_OPT_RECONNECT is deprecated and will be removed in a future version.\n",
      "WARNING: MYSQL_OPT_RECONNECT is deprecated and will be removed in a future version.\n",
      "WARNING: MYSQL_OPT_RECONNECT is deprecated and will be removed in a future version.\n"
     ]
    },
    {
     "data": {
      "text/html": [],
      "text/plain": [
       "<IPython.core.display.HTML object>"
      ]
     },
     "metadata": {},
     "output_type": "display_data"
    },
    {
     "data": {
      "text/html": [],
      "text/plain": [
       "<IPython.core.display.HTML object>"
      ]
     },
     "metadata": {},
     "output_type": "display_data"
    },
    {
     "data": {
      "text/html": [],
      "text/plain": [
       "<IPython.core.display.HTML object>"
      ]
     },
     "metadata": {},
     "output_type": "display_data"
    },
    {
     "name": "stderr",
     "output_type": "stream",
     "text": [
      "WARNING: MYSQL_OPT_RECONNECT is deprecated and will be removed in a future version.\n",
      "WARNING: MYSQL_OPT_RECONNECT is deprecated and will be removed in a future version.\n",
      "WARNING: MYSQL_OPT_RECONNECT is deprecated and will be removed in a future version.\n",
      "WARNING: MYSQL_OPT_RECONNECT is deprecated and will be removed in a future version.\n",
      "WARNING: MYSQL_OPT_RECONNECT is deprecated and will be removed in a future version.\n",
      "WARNING: MYSQL_OPT_RECONNECT is deprecated and will be removed in a future version.\n",
      "WARNING: MYSQL_OPT_RECONNECT is deprecated and will be removed in a future version.\n",
      "[I 2023-08-28 08:32:32,193] Trial 191 finished with value: -0.08424862705941087 and parameters: {'contamination': 0.005325701854294538, 'max_features': 0.12158704335410436, 'max_samples': 0.8117135729445482, 'n_estimators': 184}. Best is trial 181 with value: -0.08986520219670495.\n",
      "WARNING: MYSQL_OPT_RECONNECT is deprecated and will be removed in a future version.\n",
      "WARNING: MYSQL_OPT_RECONNECT is deprecated and will be removed in a future version.\n",
      "WARNING: MYSQL_OPT_RECONNECT is deprecated and will be removed in a future version.\n",
      "WARNING: MYSQL_OPT_RECONNECT is deprecated and will be removed in a future version.\n",
      "WARNING: MYSQL_OPT_RECONNECT is deprecated and will be removed in a future version.\n",
      "WARNING: MYSQL_OPT_RECONNECT is deprecated and will be removed in a future version.\n",
      "WARNING: MYSQL_OPT_RECONNECT is deprecated and will be removed in a future version.\n",
      "WARNING: MYSQL_OPT_RECONNECT is deprecated and will be removed in a future version.\n"
     ]
    },
    {
     "data": {
      "text/html": [],
      "text/plain": [
       "<IPython.core.display.HTML object>"
      ]
     },
     "metadata": {},
     "output_type": "display_data"
    },
    {
     "data": {
      "text/html": [],
      "text/plain": [
       "<IPython.core.display.HTML object>"
      ]
     },
     "metadata": {},
     "output_type": "display_data"
    },
    {
     "data": {
      "text/html": [],
      "text/plain": [
       "<IPython.core.display.HTML object>"
      ]
     },
     "metadata": {},
     "output_type": "display_data"
    },
    {
     "name": "stderr",
     "output_type": "stream",
     "text": [
      "WARNING: MYSQL_OPT_RECONNECT is deprecated and will be removed in a future version.\n",
      "WARNING: MYSQL_OPT_RECONNECT is deprecated and will be removed in a future version.\n",
      "WARNING: MYSQL_OPT_RECONNECT is deprecated and will be removed in a future version.\n",
      "WARNING: MYSQL_OPT_RECONNECT is deprecated and will be removed in a future version.\n",
      "WARNING: MYSQL_OPT_RECONNECT is deprecated and will be removed in a future version.\n",
      "WARNING: MYSQL_OPT_RECONNECT is deprecated and will be removed in a future version.\n",
      "WARNING: MYSQL_OPT_RECONNECT is deprecated and will be removed in a future version.\n",
      "[I 2023-08-28 08:32:47,103] Trial 192 finished with value: -0.08674488267598603 and parameters: {'contamination': 0.0031072722621965287, 'max_features': 0.13521708863005277, 'max_samples': 0.7884793609943895, 'n_estimators': 227}. Best is trial 181 with value: -0.08986520219670495.\n",
      "WARNING: MYSQL_OPT_RECONNECT is deprecated and will be removed in a future version.\n",
      "WARNING: MYSQL_OPT_RECONNECT is deprecated and will be removed in a future version.\n",
      "WARNING: MYSQL_OPT_RECONNECT is deprecated and will be removed in a future version.\n",
      "WARNING: MYSQL_OPT_RECONNECT is deprecated and will be removed in a future version.\n",
      "WARNING: MYSQL_OPT_RECONNECT is deprecated and will be removed in a future version.\n",
      "WARNING: MYSQL_OPT_RECONNECT is deprecated and will be removed in a future version.\n",
      "WARNING: MYSQL_OPT_RECONNECT is deprecated and will be removed in a future version.\n",
      "WARNING: MYSQL_OPT_RECONNECT is deprecated and will be removed in a future version.\n"
     ]
    },
    {
     "data": {
      "text/html": [],
      "text/plain": [
       "<IPython.core.display.HTML object>"
      ]
     },
     "metadata": {},
     "output_type": "display_data"
    },
    {
     "data": {
      "text/html": [],
      "text/plain": [
       "<IPython.core.display.HTML object>"
      ]
     },
     "metadata": {},
     "output_type": "display_data"
    },
    {
     "data": {
      "text/html": [],
      "text/plain": [
       "<IPython.core.display.HTML object>"
      ]
     },
     "metadata": {},
     "output_type": "display_data"
    },
    {
     "name": "stderr",
     "output_type": "stream",
     "text": [
      "WARNING: MYSQL_OPT_RECONNECT is deprecated and will be removed in a future version.\n",
      "WARNING: MYSQL_OPT_RECONNECT is deprecated and will be removed in a future version.\n",
      "WARNING: MYSQL_OPT_RECONNECT is deprecated and will be removed in a future version.\n",
      "WARNING: MYSQL_OPT_RECONNECT is deprecated and will be removed in a future version.\n",
      "WARNING: MYSQL_OPT_RECONNECT is deprecated and will be removed in a future version.\n",
      "WARNING: MYSQL_OPT_RECONNECT is deprecated and will be removed in a future version.\n",
      "WARNING: MYSQL_OPT_RECONNECT is deprecated and will be removed in a future version.\n",
      "[I 2023-08-28 08:33:02,479] Trial 193 finished with value: -0.057413879181228165 and parameters: {'contamination': 0.0029105675887881443, 'max_features': 0.1551072885026424, 'max_samples': 0.783527001542507, 'n_estimators': 229}. Best is trial 181 with value: -0.08986520219670495.\n",
      "WARNING: MYSQL_OPT_RECONNECT is deprecated and will be removed in a future version.\n",
      "WARNING: MYSQL_OPT_RECONNECT is deprecated and will be removed in a future version.\n",
      "WARNING: MYSQL_OPT_RECONNECT is deprecated and will be removed in a future version.\n",
      "WARNING: MYSQL_OPT_RECONNECT is deprecated and will be removed in a future version.\n",
      "WARNING: MYSQL_OPT_RECONNECT is deprecated and will be removed in a future version.\n",
      "WARNING: MYSQL_OPT_RECONNECT is deprecated and will be removed in a future version.\n",
      "WARNING: MYSQL_OPT_RECONNECT is deprecated and will be removed in a future version.\n",
      "WARNING: MYSQL_OPT_RECONNECT is deprecated and will be removed in a future version.\n"
     ]
    },
    {
     "data": {
      "text/html": [],
      "text/plain": [
       "<IPython.core.display.HTML object>"
      ]
     },
     "metadata": {},
     "output_type": "display_data"
    },
    {
     "data": {
      "text/html": [],
      "text/plain": [
       "<IPython.core.display.HTML object>"
      ]
     },
     "metadata": {},
     "output_type": "display_data"
    },
    {
     "data": {
      "text/html": [],
      "text/plain": [
       "<IPython.core.display.HTML object>"
      ]
     },
     "metadata": {},
     "output_type": "display_data"
    },
    {
     "name": "stderr",
     "output_type": "stream",
     "text": [
      "WARNING: MYSQL_OPT_RECONNECT is deprecated and will be removed in a future version.\n",
      "WARNING: MYSQL_OPT_RECONNECT is deprecated and will be removed in a future version.\n",
      "WARNING: MYSQL_OPT_RECONNECT is deprecated and will be removed in a future version.\n",
      "WARNING: MYSQL_OPT_RECONNECT is deprecated and will be removed in a future version.\n",
      "WARNING: MYSQL_OPT_RECONNECT is deprecated and will be removed in a future version.\n",
      "WARNING: MYSQL_OPT_RECONNECT is deprecated and will be removed in a future version.\n",
      "WARNING: MYSQL_OPT_RECONNECT is deprecated and will be removed in a future version.\n",
      "[I 2023-08-28 08:33:17,065] Trial 194 finished with value: -0.08175237144283574 and parameters: {'contamination': 0.0043398942691757385, 'max_features': 0.13529999111697902, 'max_samples': 0.836747591024471, 'n_estimators': 215}. Best is trial 181 with value: -0.08986520219670495.\n",
      "WARNING: MYSQL_OPT_RECONNECT is deprecated and will be removed in a future version.\n",
      "WARNING: MYSQL_OPT_RECONNECT is deprecated and will be removed in a future version.\n",
      "WARNING: MYSQL_OPT_RECONNECT is deprecated and will be removed in a future version.\n",
      "WARNING: MYSQL_OPT_RECONNECT is deprecated and will be removed in a future version.\n",
      "WARNING: MYSQL_OPT_RECONNECT is deprecated and will be removed in a future version.\n",
      "WARNING: MYSQL_OPT_RECONNECT is deprecated and will be removed in a future version.\n",
      "WARNING: MYSQL_OPT_RECONNECT is deprecated and will be removed in a future version.\n",
      "WARNING: MYSQL_OPT_RECONNECT is deprecated and will be removed in a future version.\n"
     ]
    },
    {
     "data": {
      "text/html": [],
      "text/plain": [
       "<IPython.core.display.HTML object>"
      ]
     },
     "metadata": {},
     "output_type": "display_data"
    },
    {
     "data": {
      "text/html": [],
      "text/plain": [
       "<IPython.core.display.HTML object>"
      ]
     },
     "metadata": {},
     "output_type": "display_data"
    },
    {
     "data": {
      "text/html": [],
      "text/plain": [
       "<IPython.core.display.HTML object>"
      ]
     },
     "metadata": {},
     "output_type": "display_data"
    },
    {
     "name": "stderr",
     "output_type": "stream",
     "text": [
      "WARNING: MYSQL_OPT_RECONNECT is deprecated and will be removed in a future version.\n",
      "WARNING: MYSQL_OPT_RECONNECT is deprecated and will be removed in a future version.\n",
      "WARNING: MYSQL_OPT_RECONNECT is deprecated and will be removed in a future version.\n",
      "WARNING: MYSQL_OPT_RECONNECT is deprecated and will be removed in a future version.\n",
      "WARNING: MYSQL_OPT_RECONNECT is deprecated and will be removed in a future version.\n",
      "WARNING: MYSQL_OPT_RECONNECT is deprecated and will be removed in a future version.\n",
      "WARNING: MYSQL_OPT_RECONNECT is deprecated and will be removed in a future version.\n",
      "[I 2023-08-28 08:33:31,737] Trial 195 finished with value: -0.04992511233150274 and parameters: {'contamination': 0.0032693000135325017, 'max_features': 0.24903354041593306, 'max_samples': 0.8177501543616644, 'n_estimators': 219}. Best is trial 181 with value: -0.08986520219670495.\n",
      "WARNING: MYSQL_OPT_RECONNECT is deprecated and will be removed in a future version.\n",
      "WARNING: MYSQL_OPT_RECONNECT is deprecated and will be removed in a future version.\n",
      "WARNING: MYSQL_OPT_RECONNECT is deprecated and will be removed in a future version.\n",
      "WARNING: MYSQL_OPT_RECONNECT is deprecated and will be removed in a future version.\n",
      "WARNING: MYSQL_OPT_RECONNECT is deprecated and will be removed in a future version.\n",
      "WARNING: MYSQL_OPT_RECONNECT is deprecated and will be removed in a future version.\n",
      "WARNING: MYSQL_OPT_RECONNECT is deprecated and will be removed in a future version.\n",
      "WARNING: MYSQL_OPT_RECONNECT is deprecated and will be removed in a future version.\n"
     ]
    },
    {
     "data": {
      "text/html": [],
      "text/plain": [
       "<IPython.core.display.HTML object>"
      ]
     },
     "metadata": {},
     "output_type": "display_data"
    },
    {
     "data": {
      "text/html": [],
      "text/plain": [
       "<IPython.core.display.HTML object>"
      ]
     },
     "metadata": {},
     "output_type": "display_data"
    },
    {
     "data": {
      "text/html": [],
      "text/plain": [
       "<IPython.core.display.HTML object>"
      ]
     },
     "metadata": {},
     "output_type": "display_data"
    },
    {
     "name": "stderr",
     "output_type": "stream",
     "text": [
      "WARNING: MYSQL_OPT_RECONNECT is deprecated and will be removed in a future version.\n",
      "WARNING: MYSQL_OPT_RECONNECT is deprecated and will be removed in a future version.\n",
      "WARNING: MYSQL_OPT_RECONNECT is deprecated and will be removed in a future version.\n",
      "WARNING: MYSQL_OPT_RECONNECT is deprecated and will be removed in a future version.\n",
      "WARNING: MYSQL_OPT_RECONNECT is deprecated and will be removed in a future version.\n",
      "WARNING: MYSQL_OPT_RECONNECT is deprecated and will be removed in a future version.\n",
      "WARNING: MYSQL_OPT_RECONNECT is deprecated and will be removed in a future version.\n",
      "[I 2023-08-28 08:33:45,196] Trial 196 finished with value: -0.08799301048427359 and parameters: {'contamination': 0.005801085250153386, 'max_features': 0.11584717716356681, 'max_samples': 0.795447699382847, 'n_estimators': 202}. Best is trial 181 with value: -0.08986520219670495.\n",
      "WARNING: MYSQL_OPT_RECONNECT is deprecated and will be removed in a future version.\n",
      "WARNING: MYSQL_OPT_RECONNECT is deprecated and will be removed in a future version.\n",
      "WARNING: MYSQL_OPT_RECONNECT is deprecated and will be removed in a future version.\n",
      "WARNING: MYSQL_OPT_RECONNECT is deprecated and will be removed in a future version.\n",
      "WARNING: MYSQL_OPT_RECONNECT is deprecated and will be removed in a future version.\n",
      "WARNING: MYSQL_OPT_RECONNECT is deprecated and will be removed in a future version.\n",
      "WARNING: MYSQL_OPT_RECONNECT is deprecated and will be removed in a future version.\n",
      "WARNING: MYSQL_OPT_RECONNECT is deprecated and will be removed in a future version.\n"
     ]
    },
    {
     "data": {
      "text/html": [],
      "text/plain": [
       "<IPython.core.display.HTML object>"
      ]
     },
     "metadata": {},
     "output_type": "display_data"
    },
    {
     "data": {
      "text/html": [],
      "text/plain": [
       "<IPython.core.display.HTML object>"
      ]
     },
     "metadata": {},
     "output_type": "display_data"
    },
    {
     "data": {
      "text/html": [],
      "text/plain": [
       "<IPython.core.display.HTML object>"
      ]
     },
     "metadata": {},
     "output_type": "display_data"
    },
    {
     "name": "stderr",
     "output_type": "stream",
     "text": [
      "WARNING: MYSQL_OPT_RECONNECT is deprecated and will be removed in a future version.\n",
      "WARNING: MYSQL_OPT_RECONNECT is deprecated and will be removed in a future version.\n",
      "WARNING: MYSQL_OPT_RECONNECT is deprecated and will be removed in a future version.\n",
      "WARNING: MYSQL_OPT_RECONNECT is deprecated and will be removed in a future version.\n",
      "WARNING: MYSQL_OPT_RECONNECT is deprecated and will be removed in a future version.\n",
      "WARNING: MYSQL_OPT_RECONNECT is deprecated and will be removed in a future version.\n",
      "WARNING: MYSQL_OPT_RECONNECT is deprecated and will be removed in a future version.\n",
      "[I 2023-08-28 08:33:58,539] Trial 197 finished with value: -0.05616575137294059 and parameters: {'contamination': 0.005464692577838782, 'max_features': 0.17041532716817215, 'max_samples': 0.79891514067002, 'n_estimators': 196}. Best is trial 181 with value: -0.08986520219670495.\n",
      "WARNING: MYSQL_OPT_RECONNECT is deprecated and will be removed in a future version.\n",
      "WARNING: MYSQL_OPT_RECONNECT is deprecated and will be removed in a future version.\n",
      "WARNING: MYSQL_OPT_RECONNECT is deprecated and will be removed in a future version.\n",
      "WARNING: MYSQL_OPT_RECONNECT is deprecated and will be removed in a future version.\n",
      "WARNING: MYSQL_OPT_RECONNECT is deprecated and will be removed in a future version.\n",
      "WARNING: MYSQL_OPT_RECONNECT is deprecated and will be removed in a future version.\n",
      "WARNING: MYSQL_OPT_RECONNECT is deprecated and will be removed in a future version.\n",
      "WARNING: MYSQL_OPT_RECONNECT is deprecated and will be removed in a future version.\n"
     ]
    },
    {
     "data": {
      "text/html": [],
      "text/plain": [
       "<IPython.core.display.HTML object>"
      ]
     },
     "metadata": {},
     "output_type": "display_data"
    },
    {
     "data": {
      "text/html": [],
      "text/plain": [
       "<IPython.core.display.HTML object>"
      ]
     },
     "metadata": {},
     "output_type": "display_data"
    },
    {
     "data": {
      "text/html": [],
      "text/plain": [
       "<IPython.core.display.HTML object>"
      ]
     },
     "metadata": {},
     "output_type": "display_data"
    },
    {
     "name": "stderr",
     "output_type": "stream",
     "text": [
      "WARNING: MYSQL_OPT_RECONNECT is deprecated and will be removed in a future version.\n",
      "WARNING: MYSQL_OPT_RECONNECT is deprecated and will be removed in a future version.\n",
      "WARNING: MYSQL_OPT_RECONNECT is deprecated and will be removed in a future version.\n",
      "WARNING: MYSQL_OPT_RECONNECT is deprecated and will be removed in a future version.\n",
      "WARNING: MYSQL_OPT_RECONNECT is deprecated and will be removed in a future version.\n",
      "WARNING: MYSQL_OPT_RECONNECT is deprecated and will be removed in a future version.\n",
      "WARNING: MYSQL_OPT_RECONNECT is deprecated and will be removed in a future version.\n",
      "[I 2023-08-28 08:34:14,258] Trial 198 finished with value: -0.0836245631552671 and parameters: {'contamination': 0.004082068429256661, 'max_features': 0.14111427240173857, 'max_samples': 0.7917657472298876, 'n_estimators': 238}. Best is trial 181 with value: -0.08986520219670495.\n",
      "WARNING: MYSQL_OPT_RECONNECT is deprecated and will be removed in a future version.\n",
      "WARNING: MYSQL_OPT_RECONNECT is deprecated and will be removed in a future version.\n",
      "WARNING: MYSQL_OPT_RECONNECT is deprecated and will be removed in a future version.\n",
      "WARNING: MYSQL_OPT_RECONNECT is deprecated and will be removed in a future version.\n",
      "WARNING: MYSQL_OPT_RECONNECT is deprecated and will be removed in a future version.\n",
      "WARNING: MYSQL_OPT_RECONNECT is deprecated and will be removed in a future version.\n",
      "WARNING: MYSQL_OPT_RECONNECT is deprecated and will be removed in a future version.\n",
      "WARNING: MYSQL_OPT_RECONNECT is deprecated and will be removed in a future version.\n"
     ]
    },
    {
     "data": {
      "text/html": [],
      "text/plain": [
       "<IPython.core.display.HTML object>"
      ]
     },
     "metadata": {},
     "output_type": "display_data"
    },
    {
     "data": {
      "text/html": [],
      "text/plain": [
       "<IPython.core.display.HTML object>"
      ]
     },
     "metadata": {},
     "output_type": "display_data"
    },
    {
     "data": {
      "text/html": [],
      "text/plain": [
       "<IPython.core.display.HTML object>"
      ]
     },
     "metadata": {},
     "output_type": "display_data"
    },
    {
     "name": "stderr",
     "output_type": "stream",
     "text": [
      "WARNING: MYSQL_OPT_RECONNECT is deprecated and will be removed in a future version.\n",
      "WARNING: MYSQL_OPT_RECONNECT is deprecated and will be removed in a future version.\n",
      "WARNING: MYSQL_OPT_RECONNECT is deprecated and will be removed in a future version.\n",
      "WARNING: MYSQL_OPT_RECONNECT is deprecated and will be removed in a future version.\n",
      "WARNING: MYSQL_OPT_RECONNECT is deprecated and will be removed in a future version.\n",
      "WARNING: MYSQL_OPT_RECONNECT is deprecated and will be removed in a future version.\n",
      "WARNING: MYSQL_OPT_RECONNECT is deprecated and will be removed in a future version.\n",
      "[I 2023-08-28 08:34:27,902] Trial 199 finished with value: -0.08424862705941087 and parameters: {'contamination': 0.0029058134478130992, 'max_features': 0.11727985578645173, 'max_samples': 0.8497596817683082, 'n_estimators': 205}. Best is trial 181 with value: -0.08986520219670495.\n"
     ]
    }
   ],
   "source": [
    "def objective(trial):\n",
    "    n_estimators = trial.suggest_int('n_estimators', 50, 500)\n",
    "    max_samples = trial.suggest_float('max_samples', 0.1, 1.0)\n",
    "    contamination = trial.suggest_float('contamination', 0.001, 0.05, log=True)\n",
    "    max_features = trial.suggest_float('max_features', 0.1, 1.0)\n",
    "    model = fraud_ses.create_model(\"iforest\", n_estimators = n_estimators,\n",
    "                           max_samples = max_samples,\n",
    "                           max_features = max_features,\n",
    "                           random_state=3490,\n",
    "                           fraction = contamination, # pay attention here!\n",
    "                           n_jobs=-1)\n",
    "    pred_result = fraud_ses.assign_model(model)\n",
    "    anomaly_pred = pred_result['Anomaly']\n",
    "    \n",
    "    return -fbeta_score(Y_true, anomaly_pred, beta=2)\n",
    "    \n",
    "study = optuna.load_study(\n",
    "        study_name=\"project-pro\", storage=\"mysql://root@localhost/pp_iforest\"\n",
    "    )\n",
    "study.optimize(objective, n_trials=100)"
   ]
  },
  {
   "cell_type": "code",
   "execution_count": 48,
   "metadata": {},
   "outputs": [
    {
     "data": {
      "text/plain": [
       "IForest(behaviour='new', bootstrap=False, contamination=0.05,\n",
       "    max_features=1.0, max_samples='auto', n_estimators=100, n_jobs=-1,\n",
       "    random_state=2345, verbose=0)"
      ]
     },
     "execution_count": 48,
     "metadata": {},
     "output_type": "execute_result"
    }
   ],
   "source": [
    "model"
   ]
  },
  {
   "cell_type": "code",
   "execution_count": 30,
   "metadata": {},
   "outputs": [
    {
     "name": "stdout",
     "output_type": "stream",
     "text": [
      "\u001b[0;31mType:\u001b[0m        module\n",
      "\u001b[0;31mString form:\u001b[0m <module 'pyod.models.iforest' from '/Users/flybywindwen/miniconda3/lib/python3.10/site-packages/pyod/models/iforest.py'>\n",
      "\u001b[0;31mFile:\u001b[0m        ~/miniconda3/lib/python3.10/site-packages/pyod/models/iforest.py\n",
      "\u001b[0;31mSource:\u001b[0m     \n",
      "\u001b[0;31m# -*- coding: utf-8 -*-\u001b[0m\u001b[0;34m\u001b[0m\n",
      "\u001b[0;34m\u001b[0m\u001b[0;34m\"\"\"IsolationForest Outlier Detector. Implemented on scikit-learn library.\u001b[0m\n",
      "\u001b[0;34m\"\"\"\u001b[0m\u001b[0;34m\u001b[0m\n",
      "\u001b[0;34m\u001b[0m\u001b[0;31m# Author: Yue Zhao <zhaoy@cmu.edu>\u001b[0m\u001b[0;34m\u001b[0m\n",
      "\u001b[0;34m\u001b[0m\u001b[0;31m# License: BSD 2 clause\u001b[0m\u001b[0;34m\u001b[0m\n",
      "\u001b[0;34m\u001b[0m\u001b[0;34m\u001b[0m\n",
      "\u001b[0;34m\u001b[0m\u001b[0;32mfrom\u001b[0m \u001b[0m__future__\u001b[0m \u001b[0;32mimport\u001b[0m \u001b[0mdivision\u001b[0m\u001b[0;34m\u001b[0m\n",
      "\u001b[0;34m\u001b[0m\u001b[0;32mfrom\u001b[0m \u001b[0m__future__\u001b[0m \u001b[0;32mimport\u001b[0m \u001b[0mprint_function\u001b[0m\u001b[0;34m\u001b[0m\n",
      "\u001b[0;34m\u001b[0m\u001b[0;34m\u001b[0m\n",
      "\u001b[0;34m\u001b[0m\u001b[0;32mimport\u001b[0m \u001b[0mnumpy\u001b[0m \u001b[0;32mas\u001b[0m \u001b[0mnp\u001b[0m\u001b[0;34m\u001b[0m\n",
      "\u001b[0;34m\u001b[0m\u001b[0;32mfrom\u001b[0m \u001b[0mjoblib\u001b[0m \u001b[0;32mimport\u001b[0m \u001b[0mParallel\u001b[0m\u001b[0;34m\u001b[0m\n",
      "\u001b[0;34m\u001b[0m\u001b[0;32mfrom\u001b[0m \u001b[0mjoblib\u001b[0m\u001b[0;34m.\u001b[0m\u001b[0mparallel\u001b[0m \u001b[0;32mimport\u001b[0m \u001b[0mdelayed\u001b[0m\u001b[0;34m\u001b[0m\n",
      "\u001b[0;34m\u001b[0m\u001b[0;32mfrom\u001b[0m \u001b[0msklearn\u001b[0m\u001b[0;34m.\u001b[0m\u001b[0mensemble\u001b[0m \u001b[0;32mimport\u001b[0m \u001b[0mIsolationForest\u001b[0m\u001b[0;34m\u001b[0m\n",
      "\u001b[0;34m\u001b[0m\u001b[0;32mfrom\u001b[0m \u001b[0msklearn\u001b[0m\u001b[0;34m.\u001b[0m\u001b[0mutils\u001b[0m \u001b[0;32mimport\u001b[0m \u001b[0mcheck_array\u001b[0m\u001b[0;34m\u001b[0m\n",
      "\u001b[0;34m\u001b[0m\u001b[0;32mfrom\u001b[0m \u001b[0msklearn\u001b[0m\u001b[0;34m.\u001b[0m\u001b[0mutils\u001b[0m\u001b[0;34m.\u001b[0m\u001b[0mvalidation\u001b[0m \u001b[0;32mimport\u001b[0m \u001b[0mcheck_is_fitted\u001b[0m\u001b[0;34m\u001b[0m\n",
      "\u001b[0;34m\u001b[0m\u001b[0;34m\u001b[0m\n",
      "\u001b[0;34m\u001b[0m\u001b[0;32mfrom\u001b[0m \u001b[0;34m.\u001b[0m\u001b[0mbase\u001b[0m \u001b[0;32mimport\u001b[0m \u001b[0mBaseDetector\u001b[0m\u001b[0;34m\u001b[0m\n",
      "\u001b[0;34m\u001b[0m\u001b[0;31m# noinspection PyProtectedMember\u001b[0m\u001b[0;34m\u001b[0m\n",
      "\u001b[0;34m\u001b[0m\u001b[0;32mfrom\u001b[0m \u001b[0;34m.\u001b[0m\u001b[0;34m.\u001b[0m\u001b[0mutils\u001b[0m\u001b[0;34m.\u001b[0m\u001b[0mutility\u001b[0m \u001b[0;32mimport\u001b[0m \u001b[0m_get_sklearn_version\u001b[0m\u001b[0;34m\u001b[0m\n",
      "\u001b[0;34m\u001b[0m\u001b[0;32mfrom\u001b[0m \u001b[0;34m.\u001b[0m\u001b[0;34m.\u001b[0m\u001b[0mutils\u001b[0m\u001b[0;34m.\u001b[0m\u001b[0mutility\u001b[0m \u001b[0;32mimport\u001b[0m \u001b[0minvert_order\u001b[0m\u001b[0;34m\u001b[0m\n",
      "\u001b[0;34m\u001b[0m\u001b[0;34m\u001b[0m\n",
      "\u001b[0;34m\u001b[0m\u001b[0;34m\u001b[0m\n",
      "\u001b[0;34m\u001b[0m\u001b[0;31m# TODO: behavior of Isolation Forest will change in sklearn 0.22. See below.\u001b[0m\u001b[0;34m\u001b[0m\n",
      "\u001b[0;34m\u001b[0m\u001b[0;31m# in 0.22, scikit learn will start adjust decision_function values by\u001b[0m\u001b[0;34m\u001b[0m\n",
      "\u001b[0;34m\u001b[0m\u001b[0;31m# offset to make the values below zero as outliers. In other words, it is\u001b[0m\u001b[0;34m\u001b[0m\n",
      "\u001b[0;34m\u001b[0m\u001b[0;31m# an absolute shift, which SHOULD NOT affect the result of PyOD at all as\u001b[0m\u001b[0;34m\u001b[0m\n",
      "\u001b[0;34m\u001b[0m\u001b[0;31m# the order is still preserved.\u001b[0m\u001b[0;34m\u001b[0m\n",
      "\u001b[0;34m\u001b[0m\u001b[0;34m\u001b[0m\n",
      "\u001b[0;34m\u001b[0m\u001b[0;31m# Behaviour of the decision_function which can be either ‘old’ or ‘new’.\u001b[0m\u001b[0;34m\u001b[0m\n",
      "\u001b[0;34m\u001b[0m\u001b[0;31m# Passing behaviour='new' makes the decision_function change to match other\u001b[0m\u001b[0;34m\u001b[0m\n",
      "\u001b[0;34m\u001b[0m\u001b[0;31m# anomaly detection algorithm API which will be the default behaviour in the\u001b[0m\u001b[0;34m\u001b[0m\n",
      "\u001b[0;34m\u001b[0m\u001b[0;31m# future. As explained in details in the offset_ attribute documentation,\u001b[0m\u001b[0;34m\u001b[0m\n",
      "\u001b[0;34m\u001b[0m\u001b[0;31m# the decision_function becomes dependent on the contamination parameter,\u001b[0m\u001b[0;34m\u001b[0m\n",
      "\u001b[0;34m\u001b[0m\u001b[0;31m# in such a way that 0 becomes its natural threshold to detect outliers.\u001b[0m\u001b[0;34m\u001b[0m\n",
      "\u001b[0;34m\u001b[0m\u001b[0;34m\u001b[0m\n",
      "\u001b[0;34m\u001b[0m\u001b[0;31m# offset_ : float\u001b[0m\u001b[0;34m\u001b[0m\n",
      "\u001b[0;34m\u001b[0m\u001b[0;31m# Offset used to define the decision function from the raw scores.\u001b[0m\u001b[0;34m\u001b[0m\n",
      "\u001b[0;34m\u001b[0m\u001b[0;31m# We have the relation: decision_function = score_samples - offset_.\u001b[0m\u001b[0;34m\u001b[0m\n",
      "\u001b[0;34m\u001b[0m\u001b[0;31m# Assuming behaviour == ‘new’, offset_ is defined as follows.\u001b[0m\u001b[0;34m\u001b[0m\n",
      "\u001b[0;34m\u001b[0m\u001b[0;31m# When the contamination parameter is set to “auto”,\u001b[0m\u001b[0;34m\u001b[0m\n",
      "\u001b[0;34m\u001b[0m\u001b[0;31m# the offset is equal to -0.5 as the scores of inliers are close to 0 and the\u001b[0m\u001b[0;34m\u001b[0m\n",
      "\u001b[0;34m\u001b[0m\u001b[0;31m# scores of outliers are close to -1. When a contamination parameter different\u001b[0m\u001b[0;34m\u001b[0m\n",
      "\u001b[0;34m\u001b[0m\u001b[0;31m# than “auto” is provided, the offset is defined in such a way we obtain the\u001b[0m\u001b[0;34m\u001b[0m\n",
      "\u001b[0;34m\u001b[0m\u001b[0;31m# expected number of outliers (samples with decision function < 0) in training.\u001b[0m\u001b[0;34m\u001b[0m\n",
      "\u001b[0;34m\u001b[0m\u001b[0;31m# Assuming the behaviour parameter is set to ‘old’,\u001b[0m\u001b[0;34m\u001b[0m\n",
      "\u001b[0;34m\u001b[0m\u001b[0;31m# we always have offset_ = -0.5, making the decision function independent from\u001b[0m\u001b[0;34m\u001b[0m\n",
      "\u001b[0;34m\u001b[0m\u001b[0;31m# the contamination parameter.\u001b[0m\u001b[0;34m\u001b[0m\n",
      "\u001b[0;34m\u001b[0m\u001b[0;34m\u001b[0m\n",
      "\u001b[0;34m\u001b[0m\u001b[0;31m# check https://scikit-learn.org/stable/modules/generated/sklearn.ensemble.IsolationForest.html for more information\u001b[0m\u001b[0;34m\u001b[0m\n",
      "\u001b[0;34m\u001b[0m\u001b[0;34m\u001b[0m\n",
      "\u001b[0;34m\u001b[0m\u001b[0;34m\u001b[0m\n",
      "\u001b[0;34m\u001b[0m\u001b[0;32mclass\u001b[0m \u001b[0mIForest\u001b[0m\u001b[0;34m(\u001b[0m\u001b[0mBaseDetector\u001b[0m\u001b[0;34m)\u001b[0m\u001b[0;34m:\u001b[0m\u001b[0;34m\u001b[0m\n",
      "\u001b[0;34m\u001b[0m    \u001b[0;34m\"\"\"Wrapper of scikit-learn Isolation Forest with more functionalities.\u001b[0m\n",
      "\u001b[0;34m\u001b[0m\n",
      "\u001b[0;34m    The IsolationForest 'isolates' observations by randomly selecting a\u001b[0m\n",
      "\u001b[0;34m    feature and then randomly selecting a split value between the maximum and\u001b[0m\n",
      "\u001b[0;34m    minimum values of the selected feature.\u001b[0m\n",
      "\u001b[0;34m    See :cite:`liu2008isolation,liu2012isolation` for details.\u001b[0m\n",
      "\u001b[0;34m\u001b[0m\n",
      "\u001b[0;34m    Since recursive partitioning can be represented by a tree structure, the\u001b[0m\n",
      "\u001b[0;34m    number of splittings required to isolate a sample is equivalent to the path\u001b[0m\n",
      "\u001b[0;34m    length from the root node to the terminating node.\u001b[0m\n",
      "\u001b[0;34m\u001b[0m\n",
      "\u001b[0;34m    This path length, averaged over a forest of such random trees, is a\u001b[0m\n",
      "\u001b[0;34m    measure of normality and our decision function.\u001b[0m\n",
      "\u001b[0;34m\u001b[0m\n",
      "\u001b[0;34m    Random partitioning produces noticeably shorter paths for anomalies.\u001b[0m\n",
      "\u001b[0;34m    Hence, when a forest of random trees collectively produce shorter path\u001b[0m\n",
      "\u001b[0;34m    lengths for particular samples, they are highly likely to be anomalies.\u001b[0m\n",
      "\u001b[0;34m\u001b[0m\n",
      "\u001b[0;34m    Parameters\u001b[0m\n",
      "\u001b[0;34m    ----------\u001b[0m\n",
      "\u001b[0;34m    n_estimators : int, optional (default=100)\u001b[0m\n",
      "\u001b[0;34m        The number of base estimators in the ensemble.\u001b[0m\n",
      "\u001b[0;34m\u001b[0m\n",
      "\u001b[0;34m    max_samples : int or float, optional (default=\"auto\")\u001b[0m\n",
      "\u001b[0;34m        The number of samples to draw from X to train each base estimator.\u001b[0m\n",
      "\u001b[0;34m\u001b[0m\n",
      "\u001b[0;34m            - If int, then draw `max_samples` samples.\u001b[0m\n",
      "\u001b[0;34m            - If float, then draw `max_samples * X.shape[0]` samples.\u001b[0m\n",
      "\u001b[0;34m            - If \"auto\", then `max_samples=min(256, n_samples)`.\u001b[0m\n",
      "\u001b[0;34m\u001b[0m\n",
      "\u001b[0;34m        If max_samples is larger than the number of samples provided,\u001b[0m\n",
      "\u001b[0;34m        all samples will be used for all trees (no sampling).\u001b[0m\n",
      "\u001b[0;34m\u001b[0m\n",
      "\u001b[0;34m    contamination : float in (0., 0.5), optional (default=0.1)\u001b[0m\n",
      "\u001b[0;34m        The amount of contamination of the data set, i.e. the proportion\u001b[0m\n",
      "\u001b[0;34m        of outliers in the data set. Used when fitting to define the threshold\u001b[0m\n",
      "\u001b[0;34m        on the decision function.\u001b[0m\n",
      "\u001b[0;34m\u001b[0m\n",
      "\u001b[0;34m    max_features : int or float, optional (default=1.0)\u001b[0m\n",
      "\u001b[0;34m        The number of features to draw from X to train each base estimator.\u001b[0m\n",
      "\u001b[0;34m\u001b[0m\n",
      "\u001b[0;34m            - If int, then draw `max_features` features.\u001b[0m\n",
      "\u001b[0;34m            - If float, then draw `max_features * X.shape[1]` features.\u001b[0m\n",
      "\u001b[0;34m\u001b[0m\n",
      "\u001b[0;34m    bootstrap : bool, optional (default=False)\u001b[0m\n",
      "\u001b[0;34m        If True, individual trees are fit on random subsets of the training\u001b[0m\n",
      "\u001b[0;34m        data sampled with replacement. If False, sampling without replacement\u001b[0m\n",
      "\u001b[0;34m        is performed.\u001b[0m\n",
      "\u001b[0;34m\u001b[0m\n",
      "\u001b[0;34m    n_jobs : integer, optional (default=1)\u001b[0m\n",
      "\u001b[0;34m        The number of jobs to run in parallel for both `fit` and `predict`.\u001b[0m\n",
      "\u001b[0;34m        If -1, then the number of jobs is set to the number of cores.\u001b[0m\n",
      "\u001b[0;34m\u001b[0m\n",
      "\u001b[0;34m    behaviour : str, default='old'\u001b[0m\n",
      "\u001b[0;34m        Behaviour of the ``decision_function`` which can be either 'old' or\u001b[0m\n",
      "\u001b[0;34m        'new'. Passing ``behaviour='new'`` makes the ``decision_function``\u001b[0m\n",
      "\u001b[0;34m        change to match other anomaly detection algorithm API which will be\u001b[0m\n",
      "\u001b[0;34m        the default behaviour in the future. As explained in details in the\u001b[0m\n",
      "\u001b[0;34m        ``offset_`` attribute documentation, the ``decision_function`` becomes\u001b[0m\n",
      "\u001b[0;34m        dependent on the contamination parameter, in such a way that 0 becomes\u001b[0m\n",
      "\u001b[0;34m        its natural threshold to detect outliers.\u001b[0m\n",
      "\u001b[0;34m\u001b[0m\n",
      "\u001b[0;34m        .. versionadded:: 0.7.0\u001b[0m\n",
      "\u001b[0;34m           ``behaviour`` is added in 0.7.0 for back-compatibility purpose.\u001b[0m\n",
      "\u001b[0;34m\u001b[0m\n",
      "\u001b[0;34m        .. deprecated:: 0.20\u001b[0m\n",
      "\u001b[0;34m           ``behaviour='old'`` is deprecated in sklearn 0.20 and will not be\u001b[0m\n",
      "\u001b[0;34m           possible in 0.22.\u001b[0m\n",
      "\u001b[0;34m\u001b[0m\n",
      "\u001b[0;34m        .. deprecated:: 0.22\u001b[0m\n",
      "\u001b[0;34m           ``behaviour`` parameter will be deprecated in sklearn 0.22 and\u001b[0m\n",
      "\u001b[0;34m           removed in 0.24.\u001b[0m\n",
      "\u001b[0;34m\u001b[0m\n",
      "\u001b[0;34m        .. warning::\u001b[0m\n",
      "\u001b[0;34m            Only applicable for sklearn 0.20 above.\u001b[0m\n",
      "\u001b[0;34m\u001b[0m\n",
      "\u001b[0;34m    random_state : int, RandomState instance or None, optional (default=None)\u001b[0m\n",
      "\u001b[0;34m        If int, random_state is the seed used by the random number generator;\u001b[0m\n",
      "\u001b[0;34m        If RandomState instance, random_state is the random number generator;\u001b[0m\n",
      "\u001b[0;34m        If None, the random number generator is the RandomState instance used\u001b[0m\n",
      "\u001b[0;34m        by `np.random`.\u001b[0m\n",
      "\u001b[0;34m\u001b[0m\n",
      "\u001b[0;34m    verbose : int, optional (default=0)\u001b[0m\n",
      "\u001b[0;34m        Controls the verbosity of the tree building process.\u001b[0m\n",
      "\u001b[0;34m\u001b[0m\n",
      "\u001b[0;34m    Attributes\u001b[0m\n",
      "\u001b[0;34m    ----------\u001b[0m\n",
      "\u001b[0;34m    estimators_ : list of DecisionTreeClassifier\u001b[0m\n",
      "\u001b[0;34m        The collection of fitted sub-estimators.\u001b[0m\n",
      "\u001b[0;34m\u001b[0m\n",
      "\u001b[0;34m    estimators_samples_ : list of arrays\u001b[0m\n",
      "\u001b[0;34m        The subset of drawn samples (i.e., the in-bag samples) for each base\u001b[0m\n",
      "\u001b[0;34m        estimator.\u001b[0m\n",
      "\u001b[0;34m\u001b[0m\n",
      "\u001b[0;34m    max_samples_ : integer\u001b[0m\n",
      "\u001b[0;34m        The actual number of samples\u001b[0m\n",
      "\u001b[0;34m\u001b[0m\n",
      "\u001b[0;34m    decision_scores_ : numpy array of shape (n_samples,)\u001b[0m\n",
      "\u001b[0;34m        The outlier scores of the training data.\u001b[0m\n",
      "\u001b[0;34m        The higher, the more abnormal. Outliers tend to have higher\u001b[0m\n",
      "\u001b[0;34m        scores. This value is available once the detector is\u001b[0m\n",
      "\u001b[0;34m        fitted.\u001b[0m\n",
      "\u001b[0;34m\u001b[0m\n",
      "\u001b[0;34m    threshold_ : float\u001b[0m\n",
      "\u001b[0;34m        The threshold is based on ``contamination``. It is the\u001b[0m\n",
      "\u001b[0;34m        ``n_samples * contamination`` most abnormal samples in\u001b[0m\n",
      "\u001b[0;34m        ``decision_scores_``. The threshold is calculated for generating\u001b[0m\n",
      "\u001b[0;34m        binary outlier labels.\u001b[0m\n",
      "\u001b[0;34m\u001b[0m\n",
      "\u001b[0;34m    labels_ : int, either 0 or 1\u001b[0m\n",
      "\u001b[0;34m        The binary labels of the training data. 0 stands for inliers\u001b[0m\n",
      "\u001b[0;34m        and 1 for outliers/anomalies. It is generated by applying\u001b[0m\n",
      "\u001b[0;34m        ``threshold_`` on ``decision_scores_``.\u001b[0m\n",
      "\u001b[0;34m    \"\"\"\u001b[0m\u001b[0;34m\u001b[0m\n",
      "\u001b[0;34m\u001b[0m\u001b[0;34m\u001b[0m\n",
      "\u001b[0;34m\u001b[0m    \u001b[0;32mdef\u001b[0m \u001b[0m__init__\u001b[0m\u001b[0;34m(\u001b[0m\u001b[0mself\u001b[0m\u001b[0;34m,\u001b[0m \u001b[0mn_estimators\u001b[0m\u001b[0;34m=\u001b[0m\u001b[0;36m100\u001b[0m\u001b[0;34m,\u001b[0m\u001b[0;34m\u001b[0m\n",
      "\u001b[0;34m\u001b[0m                 \u001b[0mmax_samples\u001b[0m\u001b[0;34m=\u001b[0m\u001b[0;34m\"auto\"\u001b[0m\u001b[0;34m,\u001b[0m\u001b[0;34m\u001b[0m\n",
      "\u001b[0;34m\u001b[0m                 \u001b[0mcontamination\u001b[0m\u001b[0;34m=\u001b[0m\u001b[0;36m0.1\u001b[0m\u001b[0;34m,\u001b[0m\u001b[0;34m\u001b[0m\n",
      "\u001b[0;34m\u001b[0m                 \u001b[0mmax_features\u001b[0m\u001b[0;34m=\u001b[0m\u001b[0;36m1.\u001b[0m\u001b[0;34m,\u001b[0m\u001b[0;34m\u001b[0m\n",
      "\u001b[0;34m\u001b[0m                 \u001b[0mbootstrap\u001b[0m\u001b[0;34m=\u001b[0m\u001b[0;32mFalse\u001b[0m\u001b[0;34m,\u001b[0m\u001b[0;34m\u001b[0m\n",
      "\u001b[0;34m\u001b[0m                 \u001b[0mn_jobs\u001b[0m\u001b[0;34m=\u001b[0m\u001b[0;36m1\u001b[0m\u001b[0;34m,\u001b[0m\u001b[0;34m\u001b[0m\n",
      "\u001b[0;34m\u001b[0m                 \u001b[0mbehaviour\u001b[0m\u001b[0;34m=\u001b[0m\u001b[0;34m'old'\u001b[0m\u001b[0;34m,\u001b[0m\u001b[0;34m\u001b[0m\n",
      "\u001b[0;34m\u001b[0m                 \u001b[0mrandom_state\u001b[0m\u001b[0;34m=\u001b[0m\u001b[0;32mNone\u001b[0m\u001b[0;34m,\u001b[0m\u001b[0;34m\u001b[0m\n",
      "\u001b[0;34m\u001b[0m                 \u001b[0mverbose\u001b[0m\u001b[0;34m=\u001b[0m\u001b[0;36m0\u001b[0m\u001b[0;34m)\u001b[0m\u001b[0;34m:\u001b[0m\u001b[0;34m\u001b[0m\n",
      "\u001b[0;34m\u001b[0m        \u001b[0msuper\u001b[0m\u001b[0;34m(\u001b[0m\u001b[0mIForest\u001b[0m\u001b[0;34m,\u001b[0m \u001b[0mself\u001b[0m\u001b[0;34m)\u001b[0m\u001b[0;34m.\u001b[0m\u001b[0m__init__\u001b[0m\u001b[0;34m(\u001b[0m\u001b[0mcontamination\u001b[0m\u001b[0;34m=\u001b[0m\u001b[0mcontamination\u001b[0m\u001b[0;34m)\u001b[0m\u001b[0;34m\u001b[0m\n",
      "\u001b[0;34m\u001b[0m        \u001b[0mself\u001b[0m\u001b[0;34m.\u001b[0m\u001b[0mn_estimators\u001b[0m \u001b[0;34m=\u001b[0m \u001b[0mn_estimators\u001b[0m\u001b[0;34m\u001b[0m\n",
      "\u001b[0;34m\u001b[0m        \u001b[0mself\u001b[0m\u001b[0;34m.\u001b[0m\u001b[0mmax_samples\u001b[0m \u001b[0;34m=\u001b[0m \u001b[0mmax_samples\u001b[0m\u001b[0;34m\u001b[0m\n",
      "\u001b[0;34m\u001b[0m        \u001b[0mself\u001b[0m\u001b[0;34m.\u001b[0m\u001b[0mmax_features\u001b[0m \u001b[0;34m=\u001b[0m \u001b[0mmax_features\u001b[0m\u001b[0;34m\u001b[0m\n",
      "\u001b[0;34m\u001b[0m        \u001b[0mself\u001b[0m\u001b[0;34m.\u001b[0m\u001b[0mbootstrap\u001b[0m \u001b[0;34m=\u001b[0m \u001b[0mbootstrap\u001b[0m\u001b[0;34m\u001b[0m\n",
      "\u001b[0;34m\u001b[0m        \u001b[0mself\u001b[0m\u001b[0;34m.\u001b[0m\u001b[0mn_jobs\u001b[0m \u001b[0;34m=\u001b[0m \u001b[0mn_jobs\u001b[0m\u001b[0;34m\u001b[0m\n",
      "\u001b[0;34m\u001b[0m        \u001b[0mself\u001b[0m\u001b[0;34m.\u001b[0m\u001b[0mbehaviour\u001b[0m \u001b[0;34m=\u001b[0m \u001b[0mbehaviour\u001b[0m\u001b[0;34m\u001b[0m\n",
      "\u001b[0;34m\u001b[0m        \u001b[0mself\u001b[0m\u001b[0;34m.\u001b[0m\u001b[0mrandom_state\u001b[0m \u001b[0;34m=\u001b[0m \u001b[0mrandom_state\u001b[0m\u001b[0;34m\u001b[0m\n",
      "\u001b[0;34m\u001b[0m        \u001b[0mself\u001b[0m\u001b[0;34m.\u001b[0m\u001b[0mverbose\u001b[0m \u001b[0;34m=\u001b[0m \u001b[0mverbose\u001b[0m\u001b[0;34m\u001b[0m\n",
      "\u001b[0;34m\u001b[0m\u001b[0;34m\u001b[0m\n",
      "\u001b[0;34m\u001b[0m    \u001b[0;32mdef\u001b[0m \u001b[0mfit\u001b[0m\u001b[0;34m(\u001b[0m\u001b[0mself\u001b[0m\u001b[0;34m,\u001b[0m \u001b[0mX\u001b[0m\u001b[0;34m,\u001b[0m \u001b[0my\u001b[0m\u001b[0;34m=\u001b[0m\u001b[0;32mNone\u001b[0m\u001b[0;34m)\u001b[0m\u001b[0;34m:\u001b[0m\u001b[0;34m\u001b[0m\n",
      "\u001b[0;34m\u001b[0m        \u001b[0;34m\"\"\"Fit detector. y is ignored in unsupervised methods.\u001b[0m\n",
      "\u001b[0;34m\u001b[0m\n",
      "\u001b[0;34m        Parameters\u001b[0m\n",
      "\u001b[0;34m        ----------\u001b[0m\n",
      "\u001b[0;34m        X : numpy array of shape (n_samples, n_features)\u001b[0m\n",
      "\u001b[0;34m            The input samples.\u001b[0m\n",
      "\u001b[0;34m\u001b[0m\n",
      "\u001b[0;34m        y : Ignored\u001b[0m\n",
      "\u001b[0;34m            Not used, present for API consistency by convention.\u001b[0m\n",
      "\u001b[0;34m\u001b[0m\n",
      "\u001b[0;34m        Returns\u001b[0m\n",
      "\u001b[0;34m        -------\u001b[0m\n",
      "\u001b[0;34m        self : object\u001b[0m\n",
      "\u001b[0;34m            Fitted estimator.\u001b[0m\n",
      "\u001b[0;34m        \"\"\"\u001b[0m\u001b[0;34m\u001b[0m\n",
      "\u001b[0;34m\u001b[0m        \u001b[0;31m# validate inputs X and y (optional)\u001b[0m\u001b[0;34m\u001b[0m\n",
      "\u001b[0;34m\u001b[0m        \u001b[0mX\u001b[0m \u001b[0;34m=\u001b[0m \u001b[0mcheck_array\u001b[0m\u001b[0;34m(\u001b[0m\u001b[0mX\u001b[0m\u001b[0;34m)\u001b[0m\u001b[0;34m\u001b[0m\n",
      "\u001b[0;34m\u001b[0m        \u001b[0mself\u001b[0m\u001b[0;34m.\u001b[0m\u001b[0m_set_n_classes\u001b[0m\u001b[0;34m(\u001b[0m\u001b[0my\u001b[0m\u001b[0;34m)\u001b[0m\u001b[0;34m\u001b[0m\n",
      "\u001b[0;34m\u001b[0m\u001b[0;34m\u001b[0m\n",
      "\u001b[0;34m\u001b[0m        \u001b[0;31m# In sklearn 0.20+ new behaviour is added (arg behaviour={'new','old'})\u001b[0m\u001b[0;34m\u001b[0m\n",
      "\u001b[0;34m\u001b[0m        \u001b[0;31m# to IsolationForest that shifts the location of the anomaly scores\u001b[0m\u001b[0;34m\u001b[0m\n",
      "\u001b[0;34m\u001b[0m        \u001b[0;31m# noinspection PyProtectedMember\u001b[0m\u001b[0;34m\u001b[0m\n",
      "\u001b[0;34m\u001b[0m        \u001b[0msklearn_version\u001b[0m \u001b[0;34m=\u001b[0m \u001b[0m_get_sklearn_version\u001b[0m\u001b[0;34m(\u001b[0m\u001b[0;34m)\u001b[0m\u001b[0;34m\u001b[0m\n",
      "\u001b[0;34m\u001b[0m        \u001b[0;32mif\u001b[0m \u001b[0msklearn_version\u001b[0m \u001b[0;34m==\u001b[0m \u001b[0;36m21\u001b[0m\u001b[0;34m:\u001b[0m\u001b[0;34m\u001b[0m\n",
      "\u001b[0;34m\u001b[0m            \u001b[0mself\u001b[0m\u001b[0;34m.\u001b[0m\u001b[0mdetector_\u001b[0m \u001b[0;34m=\u001b[0m \u001b[0mIsolationForest\u001b[0m\u001b[0;34m(\u001b[0m\u001b[0mn_estimators\u001b[0m\u001b[0;34m=\u001b[0m\u001b[0mself\u001b[0m\u001b[0;34m.\u001b[0m\u001b[0mn_estimators\u001b[0m\u001b[0;34m,\u001b[0m\u001b[0;34m\u001b[0m\n",
      "\u001b[0;34m\u001b[0m                                             \u001b[0mmax_samples\u001b[0m\u001b[0;34m=\u001b[0m\u001b[0mself\u001b[0m\u001b[0;34m.\u001b[0m\u001b[0mmax_samples\u001b[0m\u001b[0;34m,\u001b[0m\u001b[0;34m\u001b[0m\n",
      "\u001b[0;34m\u001b[0m                                             \u001b[0mcontamination\u001b[0m\u001b[0;34m=\u001b[0m\u001b[0mself\u001b[0m\u001b[0;34m.\u001b[0m\u001b[0mcontamination\u001b[0m\u001b[0;34m,\u001b[0m\u001b[0;34m\u001b[0m\n",
      "\u001b[0;34m\u001b[0m                                             \u001b[0mmax_features\u001b[0m\u001b[0;34m=\u001b[0m\u001b[0mself\u001b[0m\u001b[0;34m.\u001b[0m\u001b[0mmax_features\u001b[0m\u001b[0;34m,\u001b[0m\u001b[0;34m\u001b[0m\n",
      "\u001b[0;34m\u001b[0m                                             \u001b[0mbootstrap\u001b[0m\u001b[0;34m=\u001b[0m\u001b[0mself\u001b[0m\u001b[0;34m.\u001b[0m\u001b[0mbootstrap\u001b[0m\u001b[0;34m,\u001b[0m\u001b[0;34m\u001b[0m\n",
      "\u001b[0;34m\u001b[0m                                             \u001b[0mn_jobs\u001b[0m\u001b[0;34m=\u001b[0m\u001b[0mself\u001b[0m\u001b[0;34m.\u001b[0m\u001b[0mn_jobs\u001b[0m\u001b[0;34m,\u001b[0m\u001b[0;34m\u001b[0m\n",
      "\u001b[0;34m\u001b[0m                                             \u001b[0mbehaviour\u001b[0m\u001b[0;34m=\u001b[0m\u001b[0mself\u001b[0m\u001b[0;34m.\u001b[0m\u001b[0mbehaviour\u001b[0m\u001b[0;34m,\u001b[0m\u001b[0;34m\u001b[0m\n",
      "\u001b[0;34m\u001b[0m                                             \u001b[0mrandom_state\u001b[0m\u001b[0;34m=\u001b[0m\u001b[0mself\u001b[0m\u001b[0;34m.\u001b[0m\u001b[0mrandom_state\u001b[0m\u001b[0;34m,\u001b[0m\u001b[0;34m\u001b[0m\n",
      "\u001b[0;34m\u001b[0m                                             \u001b[0mverbose\u001b[0m\u001b[0;34m=\u001b[0m\u001b[0mself\u001b[0m\u001b[0;34m.\u001b[0m\u001b[0mverbose\u001b[0m\u001b[0;34m)\u001b[0m\u001b[0;34m\u001b[0m\n",
      "\u001b[0;34m\u001b[0m\u001b[0;34m\u001b[0m\n",
      "\u001b[0;34m\u001b[0m        \u001b[0;31m# Do not pass behaviour argument when sklearn version is < 0.20 or >0.21\u001b[0m\u001b[0;34m\u001b[0m\n",
      "\u001b[0;34m\u001b[0m        \u001b[0;32melse\u001b[0m\u001b[0;34m:\u001b[0m  \u001b[0;31m# pragma: no cover\u001b[0m\u001b[0;34m\u001b[0m\n",
      "\u001b[0;34m\u001b[0m            \u001b[0mself\u001b[0m\u001b[0;34m.\u001b[0m\u001b[0mdetector_\u001b[0m \u001b[0;34m=\u001b[0m \u001b[0mIsolationForest\u001b[0m\u001b[0;34m(\u001b[0m\u001b[0mn_estimators\u001b[0m\u001b[0;34m=\u001b[0m\u001b[0mself\u001b[0m\u001b[0;34m.\u001b[0m\u001b[0mn_estimators\u001b[0m\u001b[0;34m,\u001b[0m\u001b[0;34m\u001b[0m\n",
      "\u001b[0;34m\u001b[0m                                             \u001b[0mmax_samples\u001b[0m\u001b[0;34m=\u001b[0m\u001b[0mself\u001b[0m\u001b[0;34m.\u001b[0m\u001b[0mmax_samples\u001b[0m\u001b[0;34m,\u001b[0m\u001b[0;34m\u001b[0m\n",
      "\u001b[0;34m\u001b[0m                                             \u001b[0mcontamination\u001b[0m\u001b[0;34m=\u001b[0m\u001b[0mself\u001b[0m\u001b[0;34m.\u001b[0m\u001b[0mcontamination\u001b[0m\u001b[0;34m,\u001b[0m\u001b[0;34m\u001b[0m\n",
      "\u001b[0;34m\u001b[0m                                             \u001b[0mmax_features\u001b[0m\u001b[0;34m=\u001b[0m\u001b[0mself\u001b[0m\u001b[0;34m.\u001b[0m\u001b[0mmax_features\u001b[0m\u001b[0;34m,\u001b[0m\u001b[0;34m\u001b[0m\n",
      "\u001b[0;34m\u001b[0m                                             \u001b[0mbootstrap\u001b[0m\u001b[0;34m=\u001b[0m\u001b[0mself\u001b[0m\u001b[0;34m.\u001b[0m\u001b[0mbootstrap\u001b[0m\u001b[0;34m,\u001b[0m\u001b[0;34m\u001b[0m\n",
      "\u001b[0;34m\u001b[0m                                             \u001b[0mn_jobs\u001b[0m\u001b[0;34m=\u001b[0m\u001b[0mself\u001b[0m\u001b[0;34m.\u001b[0m\u001b[0mn_jobs\u001b[0m\u001b[0;34m,\u001b[0m\u001b[0;34m\u001b[0m\n",
      "\u001b[0;34m\u001b[0m                                             \u001b[0mrandom_state\u001b[0m\u001b[0;34m=\u001b[0m\u001b[0mself\u001b[0m\u001b[0;34m.\u001b[0m\u001b[0mrandom_state\u001b[0m\u001b[0;34m,\u001b[0m\u001b[0;34m\u001b[0m\n",
      "\u001b[0;34m\u001b[0m                                             \u001b[0mverbose\u001b[0m\u001b[0;34m=\u001b[0m\u001b[0mself\u001b[0m\u001b[0;34m.\u001b[0m\u001b[0mverbose\u001b[0m\u001b[0;34m)\u001b[0m\u001b[0;34m\u001b[0m\n",
      "\u001b[0;34m\u001b[0m\u001b[0;34m\u001b[0m\n",
      "\u001b[0;34m\u001b[0m        \u001b[0mself\u001b[0m\u001b[0;34m.\u001b[0m\u001b[0mdetector_\u001b[0m\u001b[0;34m.\u001b[0m\u001b[0mfit\u001b[0m\u001b[0;34m(\u001b[0m\u001b[0mX\u001b[0m\u001b[0;34m=\u001b[0m\u001b[0mX\u001b[0m\u001b[0;34m,\u001b[0m \u001b[0my\u001b[0m\u001b[0;34m=\u001b[0m\u001b[0;32mNone\u001b[0m\u001b[0;34m,\u001b[0m \u001b[0msample_weight\u001b[0m\u001b[0;34m=\u001b[0m\u001b[0;32mNone\u001b[0m\u001b[0;34m)\u001b[0m\u001b[0;34m\u001b[0m\n",
      "\u001b[0;34m\u001b[0m\u001b[0;34m\u001b[0m\n",
      "\u001b[0;34m\u001b[0m        \u001b[0;31m# invert decision_scores_. Outliers comes with higher outlier scores.\u001b[0m\u001b[0;34m\u001b[0m\n",
      "\u001b[0;34m\u001b[0m        \u001b[0mself\u001b[0m\u001b[0;34m.\u001b[0m\u001b[0mdecision_scores_\u001b[0m \u001b[0;34m=\u001b[0m \u001b[0minvert_order\u001b[0m\u001b[0;34m(\u001b[0m\u001b[0;34m\u001b[0m\n",
      "\u001b[0;34m\u001b[0m            \u001b[0mself\u001b[0m\u001b[0;34m.\u001b[0m\u001b[0mdetector_\u001b[0m\u001b[0;34m.\u001b[0m\u001b[0mdecision_function\u001b[0m\u001b[0;34m(\u001b[0m\u001b[0mX\u001b[0m\u001b[0;34m)\u001b[0m\u001b[0;34m)\u001b[0m\u001b[0;34m\u001b[0m\n",
      "\u001b[0;34m\u001b[0m        \u001b[0mself\u001b[0m\u001b[0;34m.\u001b[0m\u001b[0m_process_decision_scores\u001b[0m\u001b[0;34m(\u001b[0m\u001b[0;34m)\u001b[0m\u001b[0;34m\u001b[0m\n",
      "\u001b[0;34m\u001b[0m        \u001b[0;32mreturn\u001b[0m \u001b[0mself\u001b[0m\u001b[0;34m\u001b[0m\n",
      "\u001b[0;34m\u001b[0m\u001b[0;34m\u001b[0m\n",
      "\u001b[0;34m\u001b[0m    \u001b[0;32mdef\u001b[0m \u001b[0mdecision_function\u001b[0m\u001b[0;34m(\u001b[0m\u001b[0mself\u001b[0m\u001b[0;34m,\u001b[0m \u001b[0mX\u001b[0m\u001b[0;34m)\u001b[0m\u001b[0;34m:\u001b[0m\u001b[0;34m\u001b[0m\n",
      "\u001b[0;34m\u001b[0m        \u001b[0;34m\"\"\"Predict raw anomaly score of X using the fitted detector.\u001b[0m\n",
      "\u001b[0;34m\u001b[0m\n",
      "\u001b[0;34m        The anomaly score of an input sample is computed based on different\u001b[0m\n",
      "\u001b[0;34m        detector algorithms. For consistency, outliers are assigned with\u001b[0m\n",
      "\u001b[0;34m        larger anomaly scores.\u001b[0m\n",
      "\u001b[0;34m\u001b[0m\n",
      "\u001b[0;34m        Parameters\u001b[0m\n",
      "\u001b[0;34m        ----------\u001b[0m\n",
      "\u001b[0;34m        X : numpy array of shape (n_samples, n_features)\u001b[0m\n",
      "\u001b[0;34m            The training input samples. Sparse matrices are accepted only\u001b[0m\n",
      "\u001b[0;34m            if they are supported by the base estimator.\u001b[0m\n",
      "\u001b[0;34m\u001b[0m\n",
      "\u001b[0;34m        Returns\u001b[0m\n",
      "\u001b[0;34m        -------\u001b[0m\n",
      "\u001b[0;34m        anomaly_scores : numpy array of shape (n_samples,)\u001b[0m\n",
      "\u001b[0;34m            The anomaly score of the input samples.\u001b[0m\n",
      "\u001b[0;34m        \"\"\"\u001b[0m\u001b[0;34m\u001b[0m\n",
      "\u001b[0;34m\u001b[0m        \u001b[0mcheck_is_fitted\u001b[0m\u001b[0;34m(\u001b[0m\u001b[0mself\u001b[0m\u001b[0;34m,\u001b[0m \u001b[0;34m[\u001b[0m\u001b[0;34m'decision_scores_'\u001b[0m\u001b[0;34m,\u001b[0m \u001b[0;34m'threshold_'\u001b[0m\u001b[0;34m,\u001b[0m \u001b[0;34m'labels_'\u001b[0m\u001b[0;34m]\u001b[0m\u001b[0;34m)\u001b[0m\u001b[0;34m\u001b[0m\n",
      "\u001b[0;34m\u001b[0m        \u001b[0;31m# invert outlier scores. Outliers comes with higher outlier scores\u001b[0m\u001b[0;34m\u001b[0m\n",
      "\u001b[0;34m\u001b[0m        \u001b[0;32mreturn\u001b[0m \u001b[0minvert_order\u001b[0m\u001b[0;34m(\u001b[0m\u001b[0mself\u001b[0m\u001b[0;34m.\u001b[0m\u001b[0mdetector_\u001b[0m\u001b[0;34m.\u001b[0m\u001b[0mdecision_function\u001b[0m\u001b[0;34m(\u001b[0m\u001b[0mX\u001b[0m\u001b[0;34m)\u001b[0m\u001b[0;34m)\u001b[0m\u001b[0;34m\u001b[0m\n",
      "\u001b[0;34m\u001b[0m\u001b[0;34m\u001b[0m\n",
      "\u001b[0;34m\u001b[0m    \u001b[0;34m@\u001b[0m\u001b[0mproperty\u001b[0m\u001b[0;34m\u001b[0m\n",
      "\u001b[0;34m\u001b[0m    \u001b[0;32mdef\u001b[0m \u001b[0mestimators_\u001b[0m\u001b[0;34m(\u001b[0m\u001b[0mself\u001b[0m\u001b[0;34m)\u001b[0m\u001b[0;34m:\u001b[0m\u001b[0;34m\u001b[0m\n",
      "\u001b[0;34m\u001b[0m        \u001b[0;34m\"\"\"The collection of fitted sub-estimators.\u001b[0m\n",
      "\u001b[0;34m        Decorator for scikit-learn Isolation Forest attributes.\u001b[0m\n",
      "\u001b[0;34m        \"\"\"\u001b[0m\u001b[0;34m\u001b[0m\n",
      "\u001b[0;34m\u001b[0m        \u001b[0;32mreturn\u001b[0m \u001b[0mself\u001b[0m\u001b[0;34m.\u001b[0m\u001b[0mdetector_\u001b[0m\u001b[0;34m.\u001b[0m\u001b[0mestimators_\u001b[0m\u001b[0;34m\u001b[0m\n",
      "\u001b[0;34m\u001b[0m\u001b[0;34m\u001b[0m\n",
      "\u001b[0;34m\u001b[0m    \u001b[0;34m@\u001b[0m\u001b[0mproperty\u001b[0m\u001b[0;34m\u001b[0m\n",
      "\u001b[0;34m\u001b[0m    \u001b[0;32mdef\u001b[0m \u001b[0mestimators_samples_\u001b[0m\u001b[0;34m(\u001b[0m\u001b[0mself\u001b[0m\u001b[0;34m)\u001b[0m\u001b[0;34m:\u001b[0m\u001b[0;34m\u001b[0m\n",
      "\u001b[0;34m\u001b[0m        \u001b[0;34m\"\"\"The subset of drawn samples (i.e., the in-bag samples) for\u001b[0m\n",
      "\u001b[0;34m        each base estimator.\u001b[0m\n",
      "\u001b[0;34m        Decorator for scikit-learn Isolation Forest attributes.\u001b[0m\n",
      "\u001b[0;34m        \"\"\"\u001b[0m\u001b[0;34m\u001b[0m\n",
      "\u001b[0;34m\u001b[0m        \u001b[0;32mreturn\u001b[0m \u001b[0mself\u001b[0m\u001b[0;34m.\u001b[0m\u001b[0mdetector_\u001b[0m\u001b[0;34m.\u001b[0m\u001b[0mestimators_samples_\u001b[0m\u001b[0;34m\u001b[0m\n",
      "\u001b[0;34m\u001b[0m\u001b[0;34m\u001b[0m\n",
      "\u001b[0;34m\u001b[0m    \u001b[0;34m@\u001b[0m\u001b[0mproperty\u001b[0m\u001b[0;34m\u001b[0m\n",
      "\u001b[0;34m\u001b[0m    \u001b[0;32mdef\u001b[0m \u001b[0mmax_samples_\u001b[0m\u001b[0;34m(\u001b[0m\u001b[0mself\u001b[0m\u001b[0;34m)\u001b[0m\u001b[0;34m:\u001b[0m\u001b[0;34m\u001b[0m\n",
      "\u001b[0;34m\u001b[0m        \u001b[0;34m\"\"\"The actual number of samples.\u001b[0m\n",
      "\u001b[0;34m        Decorator for scikit-learn Isolation Forest attributes.\u001b[0m\n",
      "\u001b[0;34m        \"\"\"\u001b[0m\u001b[0;34m\u001b[0m\n",
      "\u001b[0;34m\u001b[0m        \u001b[0;32mreturn\u001b[0m \u001b[0mself\u001b[0m\u001b[0;34m.\u001b[0m\u001b[0mdetector_\u001b[0m\u001b[0;34m.\u001b[0m\u001b[0mmax_samples_\u001b[0m\u001b[0;34m\u001b[0m\n",
      "\u001b[0;34m\u001b[0m\u001b[0;34m\u001b[0m\n",
      "\u001b[0;34m\u001b[0m    \u001b[0;34m@\u001b[0m\u001b[0mproperty\u001b[0m\u001b[0;34m\u001b[0m\n",
      "\u001b[0;34m\u001b[0m    \u001b[0;32mdef\u001b[0m \u001b[0mfeature_importances_\u001b[0m\u001b[0;34m(\u001b[0m\u001b[0mself\u001b[0m\u001b[0;34m)\u001b[0m\u001b[0;34m:\u001b[0m\u001b[0;34m\u001b[0m\n",
      "\u001b[0;34m\u001b[0m        \u001b[0;34m\"\"\"The impurity-based feature importance. The higher, the more\u001b[0m\n",
      "\u001b[0;34m        important the feature. The importance of a feature is computed as the\u001b[0m\n",
      "\u001b[0;34m        (normalized) total reduction of the criterion brought by that feature.\u001b[0m\n",
      "\u001b[0;34m        It is also known as the Gini importance.\u001b[0m\n",
      "\u001b[0;34m\u001b[0m\n",
      "\u001b[0;34m        .. warning::\u001b[0m\n",
      "\u001b[0;34m        impurity-based feature importance can be misleading for\u001b[0m\n",
      "\u001b[0;34m        high cardinality features (many unique values). See\u001b[0m\n",
      "\u001b[0;34m        https://scikit-learn.org/stable/modules/generated/sklearn.inspection.permutation_importance.html\u001b[0m\n",
      "\u001b[0;34m        as an alternative.\u001b[0m\n",
      "\u001b[0;34m\u001b[0m\n",
      "\u001b[0;34m        Returns\u001b[0m\n",
      "\u001b[0;34m        -------\u001b[0m\n",
      "\u001b[0;34m        feature_importances_ : ndarray of shape (n_features,)\u001b[0m\n",
      "\u001b[0;34m            The values of this array sum to 1, unless all trees are single node\u001b[0m\n",
      "\u001b[0;34m            trees consisting of only the root node, in which case it will be an\u001b[0m\n",
      "\u001b[0;34m            array of zeros.\u001b[0m\n",
      "\u001b[0;34m        \"\"\"\u001b[0m\u001b[0;34m\u001b[0m\n",
      "\u001b[0;34m\u001b[0m        \u001b[0mcheck_is_fitted\u001b[0m\u001b[0;34m(\u001b[0m\u001b[0mself\u001b[0m\u001b[0;34m)\u001b[0m\u001b[0;34m\u001b[0m\n",
      "\u001b[0;34m\u001b[0m        \u001b[0mall_importances\u001b[0m \u001b[0;34m=\u001b[0m \u001b[0mParallel\u001b[0m\u001b[0;34m(\u001b[0m\u001b[0;34m\u001b[0m\n",
      "\u001b[0;34m\u001b[0m            \u001b[0mn_jobs\u001b[0m\u001b[0;34m=\u001b[0m\u001b[0mself\u001b[0m\u001b[0;34m.\u001b[0m\u001b[0mn_jobs\u001b[0m\u001b[0;34m)\u001b[0m\u001b[0;34m(\u001b[0m\u001b[0;34m\u001b[0m\n",
      "\u001b[0;34m\u001b[0m            \u001b[0mdelayed\u001b[0m\u001b[0;34m(\u001b[0m\u001b[0mgetattr\u001b[0m\u001b[0;34m)\u001b[0m\u001b[0;34m(\u001b[0m\u001b[0mtree\u001b[0m\u001b[0;34m,\u001b[0m \u001b[0;34m\"feature_importances_\"\u001b[0m\u001b[0;34m)\u001b[0m\u001b[0;34m\u001b[0m\n",
      "\u001b[0;34m\u001b[0m            \u001b[0;32mfor\u001b[0m \u001b[0mtree\u001b[0m \u001b[0;32min\u001b[0m \u001b[0mself\u001b[0m\u001b[0;34m.\u001b[0m\u001b[0mdetector_\u001b[0m\u001b[0;34m.\u001b[0m\u001b[0mestimators_\u001b[0m\u001b[0;34m\u001b[0m\n",
      "\u001b[0;34m\u001b[0m            \u001b[0;32mif\u001b[0m \u001b[0mtree\u001b[0m\u001b[0;34m.\u001b[0m\u001b[0mtree_\u001b[0m\u001b[0;34m.\u001b[0m\u001b[0mnode_count\u001b[0m \u001b[0;34m>\u001b[0m \u001b[0;36m1\u001b[0m\u001b[0;34m\u001b[0m\n",
      "\u001b[0;34m\u001b[0m        \u001b[0;34m)\u001b[0m\u001b[0;34m\u001b[0m\n",
      "\u001b[0;34m\u001b[0m\u001b[0;34m\u001b[0m\n",
      "\u001b[0;34m\u001b[0m        \u001b[0;32mif\u001b[0m \u001b[0;32mnot\u001b[0m \u001b[0mall_importances\u001b[0m\u001b[0;34m:\u001b[0m\u001b[0;34m\u001b[0m\n",
      "\u001b[0;34m\u001b[0m            \u001b[0;32mreturn\u001b[0m \u001b[0mnp\u001b[0m\u001b[0;34m.\u001b[0m\u001b[0mzeros\u001b[0m\u001b[0;34m(\u001b[0m\u001b[0mself\u001b[0m\u001b[0;34m.\u001b[0m\u001b[0mn_features_in_\u001b[0m\u001b[0;34m,\u001b[0m \u001b[0mdtype\u001b[0m\u001b[0;34m=\u001b[0m\u001b[0mnp\u001b[0m\u001b[0;34m.\u001b[0m\u001b[0mfloat64\u001b[0m\u001b[0;34m)\u001b[0m\u001b[0;34m\u001b[0m\n",
      "\u001b[0;34m\u001b[0m\u001b[0;34m\u001b[0m\n",
      "\u001b[0;34m\u001b[0m        \u001b[0mall_importances\u001b[0m \u001b[0;34m=\u001b[0m \u001b[0mnp\u001b[0m\u001b[0;34m.\u001b[0m\u001b[0mmean\u001b[0m\u001b[0;34m(\u001b[0m\u001b[0mall_importances\u001b[0m\u001b[0;34m,\u001b[0m \u001b[0maxis\u001b[0m\u001b[0;34m=\u001b[0m\u001b[0;36m0\u001b[0m\u001b[0;34m,\u001b[0m \u001b[0mdtype\u001b[0m\u001b[0;34m=\u001b[0m\u001b[0mnp\u001b[0m\u001b[0;34m.\u001b[0m\u001b[0mfloat64\u001b[0m\u001b[0;34m)\u001b[0m\u001b[0;34m\u001b[0m\n",
      "\u001b[0;34m\u001b[0m        \u001b[0;32mreturn\u001b[0m \u001b[0mall_importances\u001b[0m \u001b[0;34m/\u001b[0m \u001b[0mnp\u001b[0m\u001b[0;34m.\u001b[0m\u001b[0msum\u001b[0m\u001b[0;34m(\u001b[0m\u001b[0mall_importances\u001b[0m\u001b[0;34m)\u001b[0m\u001b[0;34m\u001b[0m\u001b[0;34m\u001b[0m\u001b[0m"
     ]
    }
   ],
   "source": [
    "from pyod.models import iforest\n",
    "??iforest"
   ]
  }
 ],
 "metadata": {
  "kernelspec": {
   "display_name": "base",
   "language": "python",
   "name": "python3"
  },
  "language_info": {
   "codemirror_mode": {
    "name": "ipython",
    "version": 3
   },
   "file_extension": ".py",
   "mimetype": "text/x-python",
   "name": "python",
   "nbconvert_exporter": "python",
   "pygments_lexer": "ipython3",
   "version": "3.10.10"
  },
  "orig_nbformat": 4
 },
 "nbformat": 4,
 "nbformat_minor": 2
}
